{
  "nbformat": 4,
  "nbformat_minor": 0,
  "metadata": {
    "kernelspec": {
      "language": "python",
      "display_name": "Python 3",
      "name": "python3"
    },
    "language_info": {
      "pygments_lexer": "ipython3",
      "nbconvert_exporter": "python",
      "version": "3.6.4",
      "file_extension": ".py",
      "codemirror_mode": {
        "name": "ipython",
        "version": 3
      },
      "name": "python",
      "mimetype": "text/x-python"
    },
    "colab": {
      "name": "Copy of EDA_reza.ipynb",
      "provenance": [],
      "collapsed_sections": [
        "Yn5X1ACCJ8Ru",
        "PKlrdGQfJ8R3",
        "y6f1Jo6aJ8SJ",
        "sf_OQUT5J8SZ",
        "HoCYhoXfJ8Sl",
        "zi_NQQUpJ8Sy",
        "tPNfDHR5J8TC",
        "xiNgWnxdJ8TL",
        "xQ8FxAiMJ8TV",
        "dyvH42FZJ8Th",
        "flnXDR5IJ8Tu",
        "WM5At_LCJ8T4",
        "SsURyvu1J8UB"
      ],
      "include_colab_link": true
    }
  },
  "cells": [
    {
      "cell_type": "markdown",
      "metadata": {
        "id": "view-in-github",
        "colab_type": "text"
      },
      "source": [
        "<a href=\"https://colab.research.google.com/github/abdoulsn/NLP-Tweets-Disaster/blob/master/Feature%20Engineering_and_EDA.ipynb\" target=\"_parent\"><img src=\"https://colab.research.google.com/assets/colab-badge.svg\" alt=\"Open In Colab\"/></a>"
      ]
    },
    {
      "cell_type": "markdown",
      "metadata": {
        "id": "Xw2rZhc-J8Qg",
        "colab_type": "text"
      },
      "source": [
        "# Disaster Tweets EDA\n",
        "\n",
        "This notebook contains basic and/or complicated EDA."
      ]
    },
    {
      "cell_type": "code",
      "metadata": {
        "_uuid": "8f2839f25d086af736a60e9eeb907d3b93b6e0e5",
        "_cell_guid": "b1076dfc-b9ad-4769-8c92-a6c4dae69d19",
        "trusted": true,
        "id": "RoYrmbMoJ8Qn",
        "colab_type": "code",
        "outputId": "d921896a-9a9d-4267-fd32-9458478ff652",
        "colab": {
          "base_uri": "https://localhost:8080/",
          "height": 187
        }
      },
      "source": [
        "# This Python 3 environment comes with many helpful analytics libraries installed\n",
        "# It is defined by the kaggle/python docker image: https://github.com/kaggle/docker-python\n",
        "# For example, here's several helpful packages to load in \n",
        "\n",
        "import numpy as np # linear algebra\n",
        "import pandas as pd # data processing, CSV file I/O (e.g. pd.read_csv)\n",
        "import matplotlib.pyplot as plt\n",
        "import seaborn as sns\n",
        "import string\n",
        "import re\n",
        "!pip install -q wordcloud\n",
        "import wordcloud\n",
        "from nltk.corpus import stopwords\n",
        "import nltk\n",
        "nltk.download('stopwords')\n",
        "nltk.download('wordnet')\n",
        "nltk.download('punkt')\n",
        "nltk.download('averaged_perceptron_tagger')\n",
        "\n",
        "\n",
        "\n",
        "from nltk.util import ngrams\n",
        "from collections import defaultdict\n",
        "from collections import Counter\n",
        "from nltk.tokenize import word_tokenize\n",
        "from sklearn.feature_extraction.text import CountVectorizer\n",
        "from keras.preprocessing.text import Tokenizer\n",
        "from keras.preprocessing.sequence import pad_sequences\n",
        "from tqdm import tqdm\n",
        "# from spellchecker import SpellChecker\n",
        "\n",
        "# set color codes\n",
        "sns.set_color_codes('pastel')\n",
        "plt.style.use('ggplot')\n",
        "stop_words = set(stopwords.words('english'))"
      ],
      "execution_count": 27,
      "outputs": [
        {
          "output_type": "stream",
          "text": [
            "[nltk_data] Downloading package stopwords to /root/nltk_data...\n",
            "[nltk_data]   Package stopwords is already up-to-date!\n",
            "[nltk_data] Downloading package wordnet to /root/nltk_data...\n",
            "[nltk_data]   Package wordnet is already up-to-date!\n",
            "[nltk_data] Downloading package punkt to /root/nltk_data...\n",
            "[nltk_data]   Package punkt is already up-to-date!\n",
            "[nltk_data] Downloading package averaged_perceptron_tagger to\n",
            "[nltk_data]     /root/nltk_data...\n",
            "[nltk_data]   Package averaged_perceptron_tagger is already up-to-\n",
            "[nltk_data]       date!\n"
          ],
          "name": "stdout"
        }
      ]
    },
    {
      "cell_type": "markdown",
      "metadata": {
        "id": "CAN1xSBJJ8Q5",
        "colab_type": "text"
      },
      "source": [
        "### Loading the dataset from [EnesGokce](https://raw.githubusercontent.com/EnesGokceDS/)  Repo (He was in my team)\n"
      ]
    },
    {
      "cell_type": "code",
      "metadata": {
        "_uuid": "d629ff2d2480ee46fbb7e2d37f6b5fab8052498a",
        "_cell_guid": "79c7e3d0-c299-4dcb-8224-4455121ee9b0",
        "trusted": true,
        "id": "BllCIa56J8Q7",
        "colab_type": "code",
        "colab": {}
      },
      "source": [
        "url1= 'https://raw.githubusercontent.com/EnesGokceDS/NLP_team_project/master/text_cleaned.csv' # With text_cleaned data\n",
        "url2='https://raw.githubusercontent.com/EnesGokceDS/NLP_team_project/master/text__testdata_cleaned.csv'\n",
        "url3= 'https://raw.githubusercontent.com/farmani60/NLP-Tweets-Disaster/master/data/sample_submission.csv'\n",
        "train = pd.read_csv(url1)\n",
        "test = pd.read_csv(url2)\n",
        "sample_submission = pd.read_csv(url3)"
      ],
      "execution_count": 0,
      "outputs": []
    },
    {
      "cell_type": "code",
      "metadata": {
        "trusted": true,
        "id": "jD14ivm1J8RF",
        "colab_type": "code",
        "outputId": "960723a2-4778-4211-8f52-f9c96300190a",
        "colab": {
          "base_uri": "https://localhost:8080/",
          "height": 51
        }
      },
      "source": [
        "print('Number of samples in train set: {}'.format(train.shape[0]))\n",
        "print('Number of samples in test set: {}'.format(test.shape[0]))"
      ],
      "execution_count": 29,
      "outputs": [
        {
          "output_type": "stream",
          "text": [
            "Number of samples in train set: 7552\n",
            "Number of samples in test set: 3237\n"
          ],
          "name": "stdout"
        }
      ]
    },
    {
      "cell_type": "code",
      "metadata": {
        "id": "jgx3Je49o1St",
        "colab_type": "code",
        "outputId": "165d773a-d802-47d6-ce77-3d7c463d1d86",
        "colab": {
          "base_uri": "https://localhost:8080/",
          "height": 204
        }
      },
      "source": [
        "train.sample(5).round(2)"
      ],
      "execution_count": 30,
      "outputs": [
        {
          "output_type": "execute_result",
          "data": {
            "text/html": [
              "<div>\n",
              "<style scoped>\n",
              "    .dataframe tbody tr th:only-of-type {\n",
              "        vertical-align: middle;\n",
              "    }\n",
              "\n",
              "    .dataframe tbody tr th {\n",
              "        vertical-align: top;\n",
              "    }\n",
              "\n",
              "    .dataframe thead th {\n",
              "        text-align: right;\n",
              "    }\n",
              "</style>\n",
              "<table border=\"1\" class=\"dataframe\">\n",
              "  <thead>\n",
              "    <tr style=\"text-align: right;\">\n",
              "      <th></th>\n",
              "      <th>id</th>\n",
              "      <th>keyword</th>\n",
              "      <th>text</th>\n",
              "      <th>target</th>\n",
              "      <th>stopwords</th>\n",
              "      <th>punctuation</th>\n",
              "      <th>hastags</th>\n",
              "      <th>numerics</th>\n",
              "      <th>upper</th>\n",
              "      <th>word_count</th>\n",
              "      <th>char_count</th>\n",
              "      <th>avg_word</th>\n",
              "    </tr>\n",
              "  </thead>\n",
              "  <tbody>\n",
              "    <tr>\n",
              "      <th>822</th>\n",
              "      <td>1235</td>\n",
              "      <td>blood</td>\n",
              "      <td>stars  reviewers dragon blood boxset lindsay...</td>\n",
              "      <td>0</td>\n",
              "      <td>5</td>\n",
              "      <td>14</td>\n",
              "      <td>1</td>\n",
              "      <td>2</td>\n",
              "      <td>0</td>\n",
              "      <td>13</td>\n",
              "      <td>80</td>\n",
              "      <td>7.56</td>\n",
              "    </tr>\n",
              "    <tr>\n",
              "      <th>2330</th>\n",
              "      <td>3397</td>\n",
              "      <td>demolition</td>\n",
              "      <td>seven chinese christians detained amid widespr...</td>\n",
              "      <td>1</td>\n",
              "      <td>0</td>\n",
              "      <td>5</td>\n",
              "      <td>0</td>\n",
              "      <td>0</td>\n",
              "      <td>0</td>\n",
              "      <td>10</td>\n",
              "      <td>73</td>\n",
              "      <td>7.11</td>\n",
              "    </tr>\n",
              "    <tr>\n",
              "      <th>4373</th>\n",
              "      <td>6261</td>\n",
              "      <td>hijacking</td>\n",
              "      <td>hot funtenna hijacking computers send data sou...</td>\n",
              "      <td>0</td>\n",
              "      <td>2</td>\n",
              "      <td>11</td>\n",
              "      <td>3</td>\n",
              "      <td>0</td>\n",
              "      <td>0</td>\n",
              "      <td>14</td>\n",
              "      <td>80</td>\n",
              "      <td>5.58</td>\n",
              "    </tr>\n",
              "    <tr>\n",
              "      <th>5611</th>\n",
              "      <td>8045</td>\n",
              "      <td>refugees</td>\n",
              "      <td>newlyweds feed thousands syrian refugees inste...</td>\n",
              "      <td>1</td>\n",
              "      <td>3</td>\n",
              "      <td>7</td>\n",
              "      <td>0</td>\n",
              "      <td>0</td>\n",
              "      <td>0</td>\n",
              "      <td>13</td>\n",
              "      <td>88</td>\n",
              "      <td>6.33</td>\n",
              "    </tr>\n",
              "    <tr>\n",
              "      <th>7215</th>\n",
              "      <td>10376</td>\n",
              "      <td>weapons</td>\n",
              "      <td>liked youtube video dannyonpc  battlefield har...</td>\n",
              "      <td>0</td>\n",
              "      <td>2</td>\n",
              "      <td>11</td>\n",
              "      <td>0</td>\n",
              "      <td>1</td>\n",
              "      <td>3</td>\n",
              "      <td>13</td>\n",
              "      <td>87</td>\n",
              "      <td>6.82</td>\n",
              "    </tr>\n",
              "  </tbody>\n",
              "</table>\n",
              "</div>"
            ],
            "text/plain": [
              "         id     keyword  ... char_count  avg_word\n",
              "822    1235       blood  ...         80      7.56\n",
              "2330   3397  demolition  ...         73      7.11\n",
              "4373   6261   hijacking  ...         80      5.58\n",
              "5611   8045    refugees  ...         88      6.33\n",
              "7215  10376     weapons  ...         87      6.82\n",
              "\n",
              "[5 rows x 12 columns]"
            ]
          },
          "metadata": {
            "tags": []
          },
          "execution_count": 30
        }
      ]
    },
    {
      "cell_type": "markdown",
      "metadata": {
        "id": "zaJ_qhJHJ8RM",
        "colab_type": "text"
      },
      "source": [
        "### Distribution of the Target"
      ]
    },
    {
      "cell_type": "code",
      "metadata": {
        "trusted": true,
        "id": "pTqSM1yLJ8RP",
        "colab_type": "code",
        "outputId": "f26a6170-5c1e-4394-ab7d-661ad20eb4a2",
        "colab": {
          "base_uri": "https://localhost:8080/",
          "height": 408
        }
      },
      "source": [
        "df = train.groupby(['target'])['id'].count()\n",
        "df = df.reset_index()\n",
        "df = df.rename(columns={'id': 'number of samples'})\n",
        "fig, ax = plt.subplots(figsize=(4, 6))\n",
        "\n",
        "sns.barplot(x='target', y='number of samples', data=df)"
      ],
      "execution_count": 31,
      "outputs": [
        {
          "output_type": "execute_result",
          "data": {
            "text/plain": [
              "<matplotlib.axes._subplots.AxesSubplot at 0x7f46b2e5ec18>"
            ]
          },
          "metadata": {
            "tags": []
          },
          "execution_count": 31
        },
        {
          "output_type": "display_data",
          "data": {
            "image/png": "[encoded data removed]",
            "text/plain": [
              "<Figure size 288x432 with 1 Axes>"
            ]
          },
          "metadata": {
            "tags": []
          }
        }
      ]
    },
    {
      "cell_type": "markdown",
      "metadata": {
        "id": "QLbV8iTeJ8Re",
        "colab_type": "text"
      },
      "source": [
        "So, the classes are kind of balanced but we have about 1000 more samples in no disaster tweets."
      ]
    },
    {
      "cell_type": "code",
      "metadata": {
        "trusted": true,
        "id": "mnaMD0bwJ8RX",
        "colab_type": "code",
        "outputId": "106ac585-a48e-4e46-e3d5-2bf1d0580513",
        "colab": {
          "base_uri": "https://localhost:8080/",
          "height": 51
        }
      },
      "source": [
        "print('Number of disaster tweets: {}'.format(df.loc[df['target']==1]['number of samples'].values[0]))\n",
        "print('Number of no disaster tweets: {}'.format(df.loc[df['target']==0]['number of samples'].values[0]))"
      ],
      "execution_count": 32,
      "outputs": [
        {
          "output_type": "stream",
          "text": [
            "Number of disaster tweets: 3229\n",
            "Number of no disaster tweets: 4323\n"
          ],
          "name": "stdout"
        }
      ]
    },
    {
      "cell_type": "code",
      "metadata": {
        "id": "6ICsBh4frxAv",
        "colab_type": "code",
        "outputId": "26dd9059-c5f6-4192-b92e-067e2fd19c46",
        "colab": {
          "base_uri": "https://localhost:8080/",
          "height": 80
        }
      },
      "source": [
        "train.loc[train.text.isnull()]"
      ],
      "execution_count": 33,
      "outputs": [
        {
          "output_type": "execute_result",
          "data": {
            "text/html": [
              "<div>\n",
              "<style scoped>\n",
              "    .dataframe tbody tr th:only-of-type {\n",
              "        vertical-align: middle;\n",
              "    }\n",
              "\n",
              "    .dataframe tbody tr th {\n",
              "        vertical-align: top;\n",
              "    }\n",
              "\n",
              "    .dataframe thead th {\n",
              "        text-align: right;\n",
              "    }\n",
              "</style>\n",
              "<table border=\"1\" class=\"dataframe\">\n",
              "  <thead>\n",
              "    <tr style=\"text-align: right;\">\n",
              "      <th></th>\n",
              "      <th>id</th>\n",
              "      <th>keyword</th>\n",
              "      <th>text</th>\n",
              "      <th>target</th>\n",
              "      <th>stopwords</th>\n",
              "      <th>punctuation</th>\n",
              "      <th>hastags</th>\n",
              "      <th>numerics</th>\n",
              "      <th>upper</th>\n",
              "      <th>word_count</th>\n",
              "      <th>char_count</th>\n",
              "      <th>avg_word</th>\n",
              "    </tr>\n",
              "  </thead>\n",
              "  <tbody>\n",
              "    <tr>\n",
              "      <th>5084</th>\n",
              "      <td>7295</td>\n",
              "      <td>nuclear%20reactor</td>\n",
              "      <td>NaN</td>\n",
              "      <td>0</td>\n",
              "      <td>0</td>\n",
              "      <td>1</td>\n",
              "      <td>0</td>\n",
              "      <td>0</td>\n",
              "      <td>0</td>\n",
              "      <td>1</td>\n",
              "      <td>0</td>\n",
              "      <td>0.0</td>\n",
              "    </tr>\n",
              "  </tbody>\n",
              "</table>\n",
              "</div>"
            ],
            "text/plain": [
              "        id            keyword text  ...  word_count  char_count  avg_word\n",
              "5084  7295  nuclear%20reactor  NaN  ...           1           0       0.0\n",
              "\n",
              "[1 rows x 12 columns]"
            ]
          },
          "metadata": {
            "tags": []
          },
          "execution_count": 33
        }
      ]
    },
    {
      "cell_type": "code",
      "metadata": {
        "id": "e8ww5Ia_r43a",
        "colab_type": "code",
        "outputId": "5dd6518b-3c73-4126-ebb7-5d49c4aa4c05",
        "colab": {
          "base_uri": "https://localhost:8080/",
          "height": 48
        }
      },
      "source": [
        "train= train.dropna()\n",
        "train.loc[train.text.isnull()]"
      ],
      "execution_count": 34,
      "outputs": [
        {
          "output_type": "execute_result",
          "data": {
            "text/html": [
              "<div>\n",
              "<style scoped>\n",
              "    .dataframe tbody tr th:only-of-type {\n",
              "        vertical-align: middle;\n",
              "    }\n",
              "\n",
              "    .dataframe tbody tr th {\n",
              "        vertical-align: top;\n",
              "    }\n",
              "\n",
              "    .dataframe thead th {\n",
              "        text-align: right;\n",
              "    }\n",
              "</style>\n",
              "<table border=\"1\" class=\"dataframe\">\n",
              "  <thead>\n",
              "    <tr style=\"text-align: right;\">\n",
              "      <th></th>\n",
              "      <th>id</th>\n",
              "      <th>keyword</th>\n",
              "      <th>text</th>\n",
              "      <th>target</th>\n",
              "      <th>stopwords</th>\n",
              "      <th>punctuation</th>\n",
              "      <th>hastags</th>\n",
              "      <th>numerics</th>\n",
              "      <th>upper</th>\n",
              "      <th>word_count</th>\n",
              "      <th>char_count</th>\n",
              "      <th>avg_word</th>\n",
              "    </tr>\n",
              "  </thead>\n",
              "  <tbody>\n",
              "  </tbody>\n",
              "</table>\n",
              "</div>"
            ],
            "text/plain": [
              "Empty DataFrame\n",
              "Columns: [id, keyword, text, target, stopwords, punctuation, hastags, numerics, upper, word_count, char_count, avg_word]\n",
              "Index: []"
            ]
          },
          "metadata": {
            "tags": []
          },
          "execution_count": 34
        }
      ]
    },
    {
      "cell_type": "markdown",
      "metadata": {
        "id": "TGSIbcXvJ8Rg",
        "colab_type": "text"
      },
      "source": [
        "### Number of Characters in Tweets"
      ]
    },
    {
      "cell_type": "code",
      "metadata": {
        "trusted": true,
        "id": "cwSEr4yaJ8Rj",
        "colab_type": "code",
        "outputId": "9a0eefc5-cef8-4056-eaba-4ec4a454a656",
        "colab": {
          "base_uri": "https://localhost:8080/",
          "height": 356
        }
      },
      "source": [
        "fig, (ax1, ax2) = plt.subplots(1, 2, figsize=(10, 5))\n",
        "\n",
        "tweet_len = train.loc[train['target']==1]['text'].str.len()\n",
        "ax1.hist(tweet_len, color='blue')\n",
        "ax1.set_title('disaster tweets')\n",
        "tweet_len = train.loc[train['target']==0]['text'].str.len()\n",
        "ax2.hist(tweet_len, color='red')\n",
        "ax2.set_title('not disaster tweets')\n",
        "\n",
        "fig.suptitle('Number of characters in tweets')\n",
        "\n",
        "plt.show()"
      ],
      "execution_count": 35,
      "outputs": [
        {
          "output_type": "display_data",
          "data": {
            "image/png": "[encoded data removed]",
            "text/plain": [
              "<Figure size 720x360 with 2 Axes>"
            ]
          },
          "metadata": {
            "tags": []
          }
        }
      ]
    },
    {
      "cell_type": "markdown",
      "metadata": {
        "id": "k0xYTVvNJ8Rr",
        "colab_type": "text"
      },
      "source": [
        "Both diaster and not disaster tweets have almost same distribution on number of characters. 70 to 90 characters are most common in both groups."
      ]
    },
    {
      "cell_type": "markdown",
      "metadata": {
        "id": "Yn5X1ACCJ8Ru",
        "colab_type": "text"
      },
      "source": [
        "### Number of Words in Tweets"
      ]
    },
    {
      "cell_type": "code",
      "metadata": {
        "trusted": true,
        "id": "-o2BTxxVJ8Rv",
        "colab_type": "code",
        "outputId": "94ff558b-effe-46b6-a14c-5a6fd25fe5be",
        "colab": {
          "base_uri": "https://localhost:8080/",
          "height": 54
        }
      },
      "source": [
        "fig, (ax1, ax2) = plt.subplots(1, 2, figsize=(10, 5))\n",
        "tweet_len = train.loc[train['target']==1]['text'].str.split().map(lambda x: len(x))\n",
        "ax1.hist(tweet_len, color='blue')\n",
        "ax1.set_title('disaster tweets')\n",
        "\n",
        "tweet_len = train.loc[train['target']==0]['text'].str.split().map(lambda x: len(x))\n",
        "ax2.hist(tweet_len, color='red')\n",
        "ax2.set_title('not disaster tweets')\n",
        "\n",
        "fig.suptitle('Number of words in tweets')\n",
        "\n",
        "plt.show()"
      ],
      "execution_count": 36,
      "outputs": [
        {
          "output_type": "display_data",
          "data": {
            "image/png": "[encoded data removed]",
            "text/plain": [
              "<Figure size 720x360 with 2 Axes>"
            ]
          },
          "metadata": {
            "tags": []
          }
        }
      ]
    },
    {
      "cell_type": "markdown",
      "metadata": {
        "id": "g8-cs6GLJ8R2",
        "colab_type": "text"
      },
      "source": [
        "It seems not disaster tweets have slightly more words. This might be used as a feature!"
      ]
    },
    {
      "cell_type": "markdown",
      "metadata": {
        "id": "PKlrdGQfJ8R3",
        "colab_type": "text"
      },
      "source": [
        "### Average Word Length in Tweets"
      ]
    },
    {
      "cell_type": "code",
      "metadata": {
        "trusted": true,
        "id": "5r4x5fvQJ8R6",
        "colab_type": "code",
        "outputId": "4330134c-236a-46da-c671-80a894f26f68",
        "colab": {
          "base_uri": "https://localhost:8080/",
          "height": 54
        }
      },
      "source": [
        "fig, (ax1, ax2) = plt.subplots(1, 2, figsize=(10, 5))\n",
        "\n",
        "words = train.loc[train['target']==1] ['text'].str.split().apply(lambda x: [len(i) for i in x])\n",
        "sns.distplot(words.map(lambda x: np.mean(x)), ax=ax1, color='blue')\n",
        "\n",
        "\n",
        "words = train.loc[train['target']==0] ['text'].str.split().apply(lambda x: [len(i) for i in x])\n",
        "sns.distplot(words.map(lambda x: np.mean(x)), ax=ax2, color='red')\n",
        "ax2.set_title('not disaster tweets')\n",
        "\n",
        "fig.suptitle('Average length of words in tweets')\n",
        "\n",
        "plt.show()"
      ],
      "execution_count": 37,
      "outputs": [
        {
          "output_type": "display_data",
          "data": {
            "image/png": "[encoded data removed]",
            "text/plain": [
              "<Figure size 720x360 with 2 Axes>"
            ]
          },
          "metadata": {
            "tags": []
          }
        }
      ]
    },
    {
      "cell_type": "markdown",
      "metadata": {
        "id": "zpc62HcgJ8SA",
        "colab_type": "text"
      },
      "source": [
        "Disaster and not disaster have almost same distribution over average length of words in them."
      ]
    },
    {
      "cell_type": "code",
      "metadata": {
        "trusted": true,
        "id": "VL6ao5OCJ8SD",
        "colab_type": "code",
        "colab": {}
      },
      "source": [
        "# funcion to make corpus\n",
        "def make_corpus(df, target):\n",
        "    corpus = []\n",
        "    for x in df.loc[df['target']==target]['text'].str.split():\n",
        "        for i in x:\n",
        "            corpus.append(i)\n",
        "    return corpus"
      ],
      "execution_count": 0,
      "outputs": []
    },
    {
      "cell_type": "markdown",
      "metadata": {
        "id": "y6f1Jo6aJ8SJ",
        "colab_type": "text"
      },
      "source": [
        "### Stop Words"
      ]
    },
    {
      "cell_type": "code",
      "metadata": {
        "trusted": true,
        "id": "MLlhbLgEJ8SL",
        "colab_type": "code",
        "colab": {}
      },
      "source": [
        "# make a corpus of not disaster tweets\n",
        "not_disaster_corpus = make_corpus(train, target=0) # stop words for not disaster tweets\n",
        "dic = defaultdict(int)\n",
        "\n",
        "for word in not_disaster_corpus:\n",
        "    if word in stop_words:\n",
        "        dic[word] += 1\n",
        "        \n",
        "# top 10 stop words in not disaster tweets\n",
        "not_disaster_top_stop_words = sorted(dic.items(), key=lambda x: x[1], reverse=True)[:10]\n",
        "\n",
        "# make a corpus of disaster tweets\n",
        "disaster_corpus = make_corpus(train, target=1) # stop words for disaster tweets\n",
        "dic = defaultdict(int)\n",
        "\n",
        "for word in disaster_corpus:\n",
        "    if word in stop_words:\n",
        "        dic[word] += 1\n",
        "        \n",
        "# top 10 stop words in disaster tweets\n",
        "disaster_top_stop_words = sorted(dic.items(), key=lambda x: x[1], reverse=True)[:10]"
      ],
      "execution_count": 0,
      "outputs": []
    },
    {
      "cell_type": "code",
      "metadata": {
        "id": "8D_fQVFafNXV",
        "colab_type": "code",
        "outputId": "83e0fa2b-20e8-4007-f307-6609620ab814",
        "colab": {
          "base_uri": "https://localhost:8080/",
          "height": 54
        }
      },
      "source": [
        "print(disaster_top_stop_words)"
      ],
      "execution_count": 40,
      "outputs": [
        {
          "output_type": "stream",
          "text": [
            "[]\n"
          ],
          "name": "stdout"
        }
      ]
    },
    {
      "cell_type": "code",
      "metadata": {
        "trusted": true,
        "id": "kmKefXN6J8SQ",
        "colab_type": "code",
        "outputId": "06166be4-d128-4e5b-f760-ca1e1d4f3ab1",
        "colab": {
          "base_uri": "https://localhost:8080/",
          "height": 54
        }
      },
      "source": [
        "#This part can be added to data cleaning section before cleaning stopwords\n",
        "\n",
        "'''\n",
        "x1, y1 = zip(*disaster_top_stop_words)\n",
        "x2, y2 = zip(*not_disaster_top_stop_words)\n",
        "\n",
        "fig, (ax1, ax2) = plt.subplots(1, 2, figsize=(10, 5))\n",
        "\n",
        "ax1.bar(x1, y1, color='blue')\n",
        "ax1.set_title('disaster tweets')\n",
        "\n",
        "ax2.bar(x2, y2, color='red')\n",
        "ax2.set_title('not disaster tweets')\n",
        "\n",
        "fig.suptitle('Top 10 stop words')\n",
        "\n",
        "plt.show()\n",
        "'''"
      ],
      "execution_count": 41,
      "outputs": [
        {
          "output_type": "execute_result",
          "data": {
            "text/plain": [
              "\"\\nx1, y1 = zip(*disaster_top_stop_words)\\nx2, y2 = zip(*not_disaster_top_stop_words)\\n\\nfig, (ax1, ax2) = plt.subplots(1, 2, figsize=(10, 5))\\n\\nax1.bar(x1, y1, color='blue')\\nax1.set_title('disaster tweets')\\n\\nax2.bar(x2, y2, color='red')\\nax2.set_title('not disaster tweets')\\n\\nfig.suptitle('Top 10 stop words')\\n\\nplt.show()\\n\""
            ]
          },
          "metadata": {
            "tags": []
          },
          "execution_count": 41
        }
      ]
    },
    {
      "cell_type": "markdown",
      "metadata": {
        "id": "Rp91kfMiJ8SY",
        "colab_type": "text"
      },
      "source": [
        "In both classes `the` is the most frequent stop word followed by `a` in class not disaster and `in` in class disaster."
      ]
    },
    {
      "cell_type": "markdown",
      "metadata": {
        "id": "sf_OQUT5J8SZ",
        "colab_type": "text"
      },
      "source": [
        "### Punctuations"
      ]
    },
    {
      "cell_type": "code",
      "metadata": {
        "trusted": true,
        "id": "2O75wENsJ8Sa",
        "colab_type": "code",
        "colab": {}
      },
      "source": [
        "punctuations = string.punctuation\n",
        "\n",
        "dic_punc_not_disaster = defaultdict(int)\n",
        "\n",
        "for word in not_disaster_corpus:\n",
        "    if word in punctuations:\n",
        "        dic_punc_not_disaster[word] += 1\n",
        "        \n",
        "dic_punc_disaster = defaultdict(int)\n",
        "\n",
        "for word in disaster_corpus:\n",
        "    if word in punctuations:\n",
        "        dic_punc_disaster[word] += 1\n",
        "\n"
      ],
      "execution_count": 0,
      "outputs": []
    },
    {
      "cell_type": "code",
      "metadata": {
        "id": "EZhP6lzfeQac",
        "colab_type": "code",
        "outputId": "e6d9a8c6-039a-4266-f4d5-1ccc04d2dc00",
        "colab": {
          "base_uri": "https://localhost:8080/",
          "height": 221
        }
      },
      "source": [
        "#print('Number of disaster tweets: {}'.format(train.loc[train['target']==1]['text']))\n",
        "tweet_len = train.loc[train['target']==1]['text'].str.len()\n",
        "print(tweet_len)"
      ],
      "execution_count": 43,
      "outputs": [
        {
          "output_type": "stream",
          "text": [
            "0        32\n",
            "2        53\n",
            "6        28\n",
            "7       103\n",
            "15       56\n",
            "       ... \n",
            "7511     67\n",
            "7512     68\n",
            "7521     31\n",
            "7528     35\n",
            "7541     31\n",
            "Name: text, Length: 3229, dtype: int64\n"
          ],
          "name": "stdout"
        }
      ]
    },
    {
      "cell_type": "code",
      "metadata": {
        "id": "XYnVw48B7ruh",
        "colab_type": "code",
        "outputId": "29248e2d-fb5d-43ab-9806-58e6437580cd",
        "colab": {
          "base_uri": "https://localhost:8080/",
          "height": 221
        }
      },
      "source": [
        "\n",
        "#df_train['text'].apply(lambda x: len([c for c in str(x) if c in string.punctuation]))\n",
        "tweet_punc = train.loc[train['target']==1]['text'].apply(lambda x: len([c for c in str(x) if c in string.punctuation]))\n",
        "print(tweet_punc)\n",
        "ax1.hist(tweet_punc, color='blue')\n",
        "ax1.set_title('disaster tweets')\n",
        "\n",
        "tweet_punc = train.loc[train['target']==0]['text'].apply(lambda x: len([c for c in str(x) if c in string.punctuation]))\n",
        "ax2.hist(tweet_punc, color='red')\n",
        "ax2.set_title('not disaster tweets')\n",
        "\n",
        "fig.suptitle('Number of punctuation in tweets')\n",
        "\n",
        "plt.show()"
      ],
      "execution_count": 44,
      "outputs": [
        {
          "output_type": "stream",
          "text": [
            "0       0\n",
            "2       0\n",
            "6       0\n",
            "7       0\n",
            "15      0\n",
            "       ..\n",
            "7511    0\n",
            "7512    0\n",
            "7521    0\n",
            "7528    0\n",
            "7541    0\n",
            "Name: text, Length: 3229, dtype: int64\n"
          ],
          "name": "stdout"
        }
      ]
    },
    {
      "cell_type": "markdown",
      "metadata": {
        "id": "HoCYhoXfJ8Sl",
        "colab_type": "text"
      },
      "source": [
        "### Common Words"
      ]
    },
    {
      "cell_type": "code",
      "metadata": {
        "trusted": true,
        "id": "O_9TaRZqJ8Sn",
        "colab_type": "code",
        "colab": {}
      },
      "source": [
        "disaster_counter = Counter(disaster_corpus)\n",
        "disaster_most_common_words = disaster_counter.most_common()\n",
        "\n",
        "x1 = []\n",
        "y1 = []\n",
        "\n",
        "for word, count in disaster_most_common_words[:40]:\n",
        "    if (word not in stop_words) & (word not in punctuations):\n",
        "        x1.append(word)\n",
        "        y1.append(count)\n",
        "        \n",
        "not_disaster_counter = Counter(not_disaster_corpus)\n",
        "not_disaster_most_common_words = not_disaster_counter.most_common()\n",
        "\n",
        "x2 = []\n",
        "y2 = []\n",
        "\n",
        "for word, count in not_disaster_most_common_words[:40]:\n",
        "    if (word not in stop_words) & (word not in punctuations):\n",
        "        x2.append(word)\n",
        "        y2.append(count)"
      ],
      "execution_count": 0,
      "outputs": []
    },
    {
      "cell_type": "code",
      "metadata": {
        "trusted": true,
        "id": "AtSGvpwTJ8Ss",
        "colab_type": "code",
        "outputId": "5fa36e96-e1bc-4491-8ed2-cca74c28e606",
        "colab": {
          "base_uri": "https://localhost:8080/",
          "height": 663
        }
      },
      "source": [
        "fig, (ax1, ax2) = plt.subplots(2, 1, figsize=(30, 10))\n",
        "\n",
        "sns.barplot(x1, y1, ax=ax1)\n",
        "ax1.set_title('disaster tweets')\n",
        "\n",
        "sns.barplot(x2, y2, ax=ax2)\n",
        "ax2.set_title('not disaster tweets')\n",
        "\n",
        "fig.suptitle('Common Words in Tweets')\n",
        "plt.show()"
      ],
      "execution_count": 46,
      "outputs": [
        {
          "output_type": "display_data",
          "data": {
            "image/png": "[encoded data removed]",
            "text/plain": [
              "<Figure size 2160x720 with 2 Axes>"
            ]
          },
          "metadata": {
            "tags": []
          }
        }
      ]
    },
    {
      "cell_type": "markdown",
      "metadata": {
        "id": "LDtW04lSJ8Sx",
        "colab_type": "text"
      },
      "source": [
        "Lots of cleaning needed!"
      ]
    },
    {
      "cell_type": "markdown",
      "metadata": {
        "id": "zi_NQQUpJ8Sy",
        "colab_type": "text"
      },
      "source": [
        "### Ngram Analysis"
      ]
    },
    {
      "cell_type": "markdown",
      "metadata": {
        "id": "t-WfvRIjJ8S0",
        "colab_type": "text"
      },
      "source": [
        "We analyze bigrams (n = 2) and trigrams (n = 3) over tweets. Let's check the most common ngrams in tweets. "
      ]
    },
    {
      "cell_type": "code",
      "metadata": {
        "trusted": true,
        "id": "MJlDg6XhJ8S1",
        "colab_type": "code",
        "colab": {}
      },
      "source": [
        "def get_top_tweet_ngrams(corpus, n=None):\n",
        "    vec = CountVectorizer(ngram_range=(n, n)).fit(corpus)\n",
        "    bag_of_words = vec.transform(corpus)\n",
        "    sum_words = bag_of_words.sum(axis=0)\n",
        "    words_freq = [(word, sum_words[0, idx]) for word, idx in vec.vocabulary_.items()]\n",
        "    words_freq = sorted(words_freq, key=lambda x: x[1], reverse=True)\n",
        "    return words_freq"
      ],
      "execution_count": 0,
      "outputs": []
    },
    {
      "cell_type": "code",
      "metadata": {
        "trusted": true,
        "id": "D5uPZo1ZJ8S7",
        "colab_type": "code",
        "outputId": "7f1880cf-a302-4505-c496-c55871daaccb",
        "colab": {
          "base_uri": "https://localhost:8080/",
          "height": 337
        }
      },
      "source": [
        "fig, (ax1, ax2) = plt.subplots(1, 2, figsize=(28, 5))\n",
        "\n",
        "top_tweet_bigrams = get_top_tweet_ngrams(train['text'], n=2)[:10]\n",
        "top_tweet_trigrams = get_top_tweet_ngrams(train['text'], n=3)[:10]\n",
        "\n",
        "x1, y1 = map(list, zip(*top_tweet_bigrams))\n",
        "x2, y2 = map(list, zip(*top_tweet_trigrams))\n",
        "\n",
        "sns.barplot(y1, x1, ax=ax1)\n",
        "sns.barplot(y2, x2, ax=ax2)\n",
        "ax1.set_title('Top 10 bigrams')\n",
        "ax2.set_title('Top 10 trigrams')\n",
        "\n",
        "plt.show()"
      ],
      "execution_count": 48,
      "outputs": [
        {
          "output_type": "display_data",
          "data": {
            "image/png": "[encoded data removed]",
            "text/plain": [
              "<Figure size 2016x360 with 2 Axes>"
            ]
          },
          "metadata": {
            "tags": []
          }
        }
      ]
    },
    {
      "cell_type": "markdown",
      "metadata": {
        "id": "9QN0_9iIJ8TB",
        "colab_type": "text"
      },
      "source": [
        "A lot of cleaning is needed here too!"
      ]
    },
    {
      "cell_type": "markdown",
      "metadata": {
        "id": "tPNfDHR5J8TC",
        "colab_type": "text"
      },
      "source": [
        "### Data Cleaning"
      ]
    },
    {
      "cell_type": "markdown",
      "metadata": {
        "id": "FdHl5SWYJ8TE",
        "colab_type": "text"
      },
      "source": [
        "* Spelling Correction\n",
        "* Removing Punctuations\n",
        "* Removing html tags\n",
        "* Removing Emojis"
      ]
    },
    {
      "cell_type": "code",
      "metadata": {
        "trusted": true,
        "id": "RMSRUFkQJ8TG",
        "colab_type": "code",
        "outputId": "fbfaef95-3a9a-4724-e9ea-2b67647bb245",
        "colab": {
          "base_uri": "https://localhost:8080/",
          "height": 204
        }
      },
      "source": [
        "#df = pd.concat([train, test])\n",
        "df= train \n",
        "df.head()"
      ],
      "execution_count": 49,
      "outputs": [
        {
          "output_type": "execute_result",
          "data": {
            "text/html": [
              "<div>\n",
              "<style scoped>\n",
              "    .dataframe tbody tr th:only-of-type {\n",
              "        vertical-align: middle;\n",
              "    }\n",
              "\n",
              "    .dataframe tbody tr th {\n",
              "        vertical-align: top;\n",
              "    }\n",
              "\n",
              "    .dataframe thead th {\n",
              "        text-align: right;\n",
              "    }\n",
              "</style>\n",
              "<table border=\"1\" class=\"dataframe\">\n",
              "  <thead>\n",
              "    <tr style=\"text-align: right;\">\n",
              "      <th></th>\n",
              "      <th>id</th>\n",
              "      <th>keyword</th>\n",
              "      <th>text</th>\n",
              "      <th>target</th>\n",
              "      <th>stopwords</th>\n",
              "      <th>punctuation</th>\n",
              "      <th>hastags</th>\n",
              "      <th>numerics</th>\n",
              "      <th>upper</th>\n",
              "      <th>word_count</th>\n",
              "      <th>char_count</th>\n",
              "      <th>avg_word</th>\n",
              "    </tr>\n",
              "  </thead>\n",
              "  <tbody>\n",
              "    <tr>\n",
              "      <th>0</th>\n",
              "      <td>48</td>\n",
              "      <td>ablaze</td>\n",
              "      <td>bbcmtd wholesale markets ablaze</td>\n",
              "      <td>1</td>\n",
              "      <td>0</td>\n",
              "      <td>6</td>\n",
              "      <td>0</td>\n",
              "      <td>0</td>\n",
              "      <td>0</td>\n",
              "      <td>5</td>\n",
              "      <td>32</td>\n",
              "      <td>6.999998</td>\n",
              "    </tr>\n",
              "    <tr>\n",
              "      <th>1</th>\n",
              "      <td>49</td>\n",
              "      <td>ablaze</td>\n",
              "      <td>always try bring heavy metal rt</td>\n",
              "      <td>0</td>\n",
              "      <td>2</td>\n",
              "      <td>8</td>\n",
              "      <td>2</td>\n",
              "      <td>0</td>\n",
              "      <td>1</td>\n",
              "      <td>7</td>\n",
              "      <td>32</td>\n",
              "      <td>4.333333</td>\n",
              "    </tr>\n",
              "    <tr>\n",
              "      <th>2</th>\n",
              "      <td>50</td>\n",
              "      <td>ablaze</td>\n",
              "      <td>africanbaze breaking newsnigeria flag set abla...</td>\n",
              "      <td>1</td>\n",
              "      <td>1</td>\n",
              "      <td>9</td>\n",
              "      <td>1</td>\n",
              "      <td>0</td>\n",
              "      <td>1</td>\n",
              "      <td>8</td>\n",
              "      <td>53</td>\n",
              "      <td>6.571428</td>\n",
              "    </tr>\n",
              "    <tr>\n",
              "      <th>3</th>\n",
              "      <td>52</td>\n",
              "      <td>ablaze</td>\n",
              "      <td>crying set ablaze</td>\n",
              "      <td>0</td>\n",
              "      <td>3</td>\n",
              "      <td>1</td>\n",
              "      <td>0</td>\n",
              "      <td>0</td>\n",
              "      <td>0</td>\n",
              "      <td>3</td>\n",
              "      <td>17</td>\n",
              "      <td>4.999998</td>\n",
              "    </tr>\n",
              "    <tr>\n",
              "      <th>4</th>\n",
              "      <td>53</td>\n",
              "      <td>ablaze</td>\n",
              "      <td>plus side look sky last night ablaze</td>\n",
              "      <td>0</td>\n",
              "      <td>0</td>\n",
              "      <td>5</td>\n",
              "      <td>0</td>\n",
              "      <td>0</td>\n",
              "      <td>9</td>\n",
              "      <td>8</td>\n",
              "      <td>37</td>\n",
              "      <td>4.285714</td>\n",
              "    </tr>\n",
              "  </tbody>\n",
              "</table>\n",
              "</div>"
            ],
            "text/plain": [
              "   id keyword  ... char_count  avg_word\n",
              "0  48  ablaze  ...         32  6.999998\n",
              "1  49  ablaze  ...         32  4.333333\n",
              "2  50  ablaze  ...         53  6.571428\n",
              "3  52  ablaze  ...         17  4.999998\n",
              "4  53  ablaze  ...         37  4.285714\n",
              "\n",
              "[5 rows x 12 columns]"
            ]
          },
          "metadata": {
            "tags": []
          },
          "execution_count": 49
        }
      ]
    },
    {
      "cell_type": "markdown",
      "metadata": {
        "id": "xiNgWnxdJ8TL",
        "colab_type": "text"
      },
      "source": [
        "### Removing urls"
      ]
    },
    {
      "cell_type": "code",
      "metadata": {
        "id": "Hs3vtpOj5tlF",
        "colab_type": "code",
        "outputId": "994c4e7d-3c9f-43cf-88fb-5060b71955f4",
        "colab": {
          "base_uri": "https://localhost:8080/",
          "height": 340
        }
      },
      "source": [
        "df.info()"
      ],
      "execution_count": 50,
      "outputs": [
        {
          "output_type": "stream",
          "text": [
            "<class 'pandas.core.frame.DataFrame'>\n",
            "Int64Index: 7551 entries, 0 to 7551\n",
            "Data columns (total 12 columns):\n",
            " #   Column       Non-Null Count  Dtype  \n",
            "---  ------       --------------  -----  \n",
            " 0   id           7551 non-null   int64  \n",
            " 1   keyword      7551 non-null   object \n",
            " 2   text         7551 non-null   object \n",
            " 3   target       7551 non-null   int64  \n",
            " 4   stopwords    7551 non-null   int64  \n",
            " 5   punctuation  7551 non-null   int64  \n",
            " 6   hastags      7551 non-null   int64  \n",
            " 7   numerics     7551 non-null   int64  \n",
            " 8   upper        7551 non-null   int64  \n",
            " 9   word_count   7551 non-null   int64  \n",
            " 10  char_count   7551 non-null   int64  \n",
            " 11  avg_word     7551 non-null   float64\n",
            "dtypes: float64(1), int64(9), object(2)\n",
            "memory usage: 766.9+ KB\n"
          ],
          "name": "stdout"
        }
      ]
    },
    {
      "cell_type": "code",
      "metadata": {
        "id": "RU4vbRYGEUtP",
        "colab_type": "code",
        "colab": {}
      },
      "source": [
        "df['text'] = df['text'].astype(str)"
      ],
      "execution_count": 0,
      "outputs": []
    },
    {
      "cell_type": "code",
      "metadata": {
        "id": "13WTXVdMEbwA",
        "colab_type": "code",
        "outputId": "110a0c45-127e-4585-ff8a-838930057652",
        "colab": {
          "base_uri": "https://localhost:8080/",
          "height": 340
        }
      },
      "source": [
        "df.info()"
      ],
      "execution_count": 52,
      "outputs": [
        {
          "output_type": "stream",
          "text": [
            "<class 'pandas.core.frame.DataFrame'>\n",
            "Int64Index: 7551 entries, 0 to 7551\n",
            "Data columns (total 12 columns):\n",
            " #   Column       Non-Null Count  Dtype  \n",
            "---  ------       --------------  -----  \n",
            " 0   id           7551 non-null   int64  \n",
            " 1   keyword      7551 non-null   object \n",
            " 2   text         7551 non-null   object \n",
            " 3   target       7551 non-null   int64  \n",
            " 4   stopwords    7551 non-null   int64  \n",
            " 5   punctuation  7551 non-null   int64  \n",
            " 6   hastags      7551 non-null   int64  \n",
            " 7   numerics     7551 non-null   int64  \n",
            " 8   upper        7551 non-null   int64  \n",
            " 9   word_count   7551 non-null   int64  \n",
            " 10  char_count   7551 non-null   int64  \n",
            " 11  avg_word     7551 non-null   float64\n",
            "dtypes: float64(1), int64(9), object(2)\n",
            "memory usage: 766.9+ KB\n"
          ],
          "name": "stdout"
        }
      ]
    },
    {
      "cell_type": "code",
      "metadata": {
        "trusted": true,
        "id": "WpDK9616J8TN",
        "colab_type": "code",
        "colab": {}
      },
      "source": [
        "def remove_url(text):\n",
        "    url = re.compile(r'https?://\\S+|www\\.\\S+')\n",
        "    return url.sub(r'', text)"
      ],
      "execution_count": 0,
      "outputs": []
    },
    {
      "cell_type": "code",
      "metadata": {
        "id": "fxYXKfq1DaPm",
        "colab_type": "code",
        "outputId": "09adf5b8-72c0-491a-b739-745a4654ed99",
        "colab": {
          "base_uri": "https://localhost:8080/",
          "height": 80
        }
      },
      "source": [
        "df.sample()"
      ],
      "execution_count": 54,
      "outputs": [
        {
          "output_type": "execute_result",
          "data": {
            "text/html": [
              "<div>\n",
              "<style scoped>\n",
              "    .dataframe tbody tr th:only-of-type {\n",
              "        vertical-align: middle;\n",
              "    }\n",
              "\n",
              "    .dataframe tbody tr th {\n",
              "        vertical-align: top;\n",
              "    }\n",
              "\n",
              "    .dataframe thead th {\n",
              "        text-align: right;\n",
              "    }\n",
              "</style>\n",
              "<table border=\"1\" class=\"dataframe\">\n",
              "  <thead>\n",
              "    <tr style=\"text-align: right;\">\n",
              "      <th></th>\n",
              "      <th>id</th>\n",
              "      <th>keyword</th>\n",
              "      <th>text</th>\n",
              "      <th>target</th>\n",
              "      <th>stopwords</th>\n",
              "      <th>punctuation</th>\n",
              "      <th>hastags</th>\n",
              "      <th>numerics</th>\n",
              "      <th>upper</th>\n",
              "      <th>word_count</th>\n",
              "      <th>char_count</th>\n",
              "      <th>avg_word</th>\n",
              "    </tr>\n",
              "  </thead>\n",
              "  <tbody>\n",
              "    <tr>\n",
              "      <th>3155</th>\n",
              "      <td>4575</td>\n",
              "      <td>emergency%20plan</td>\n",
              "      <td>bc costs less sick people using emergency room...</td>\n",
              "      <td>1</td>\n",
              "      <td>3</td>\n",
              "      <td>14</td>\n",
              "      <td>0</td>\n",
              "      <td>0</td>\n",
              "      <td>0</td>\n",
              "      <td>9</td>\n",
              "      <td>70</td>\n",
              "      <td>6.888888</td>\n",
              "    </tr>\n",
              "  </tbody>\n",
              "</table>\n",
              "</div>"
            ],
            "text/plain": [
              "        id           keyword  ... char_count  avg_word\n",
              "3155  4575  emergency%20plan  ...         70  6.888888\n",
              "\n",
              "[1 rows x 12 columns]"
            ]
          },
          "metadata": {
            "tags": []
          },
          "execution_count": 54
        }
      ]
    },
    {
      "cell_type": "code",
      "metadata": {
        "trusted": true,
        "id": "9G_uCumPJ8TR",
        "colab_type": "code",
        "colab": {}
      },
      "source": [
        "# remove all urls from df\n",
        "df['text'] = df['text'].apply(lambda x: remove_url(x))"
      ],
      "execution_count": 0,
      "outputs": []
    },
    {
      "cell_type": "markdown",
      "metadata": {
        "id": "xQ8FxAiMJ8TV",
        "colab_type": "text"
      },
      "source": [
        "### Removing HTML Tags"
      ]
    },
    {
      "cell_type": "code",
      "metadata": {
        "trusted": true,
        "id": "3PTM5HUAJ8TX",
        "colab_type": "code",
        "colab": {}
      },
      "source": [
        "def remove_html(text):\n",
        "    html=re.compile(r'<.*?>')\n",
        "    return html.sub(r'',text)"
      ],
      "execution_count": 0,
      "outputs": []
    },
    {
      "cell_type": "code",
      "metadata": {
        "trusted": true,
        "id": "9vbxCFdkJ8Tc",
        "colab_type": "code",
        "colab": {}
      },
      "source": [
        "# remove all html tags from df\n",
        "df['text'] = df['text'].apply(lambda x: remove_html(x))"
      ],
      "execution_count": 0,
      "outputs": []
    },
    {
      "cell_type": "markdown",
      "metadata": {
        "id": "dyvH42FZJ8Th",
        "colab_type": "text"
      },
      "source": [
        " ### Removing Emojis\n",
        " \n",
        " Emojis can be indactors of some emotionals that can be related to being disaster or not. So, later we should decide if we want to remove them from tweets or not."
      ]
    },
    {
      "cell_type": "code",
      "metadata": {
        "trusted": true,
        "id": "zhun21WHJ8Ti",
        "colab_type": "code",
        "colab": {}
      },
      "source": [
        "# Reference : https://gist.github.com/slowkow/7a7f61f495e3dbb7e3d767f97bd7304b\n",
        "def remove_emoji(text):\n",
        "    emoji_pattern = re.compile(\"[\"\n",
        "                           u\"\\U0001F600-\\U0001F64F\"  # emoticons\n",
        "                           u\"\\U0001F300-\\U0001F5FF\"  # symbols & pictographs\n",
        "                           u\"\\U0001F680-\\U0001F6FF\"  # transport & map symbols\n",
        "                           u\"\\U0001F1E0-\\U0001F1FF\"  # flags (iOS)\n",
        "                           u\"\\U00002702-\\U000027B0\"\n",
        "                           u\"\\U000024C2-\\U0001F251\"\n",
        "                           \"]+\", flags=re.UNICODE)\n",
        "    return emoji_pattern.sub(r'', text)"
      ],
      "execution_count": 0,
      "outputs": []
    },
    {
      "cell_type": "code",
      "metadata": {
        "trusted": true,
        "id": "pi0rfYdPJ8Tl",
        "colab_type": "code",
        "outputId": "884dd16e-ab77-4e0a-aaf8-8da5bfbab404",
        "colab": {
          "base_uri": "https://localhost:8080/",
          "height": 34
        }
      },
      "source": [
        "remove_emoji(\"Omg another Earthquake 😔😔\")"
      ],
      "execution_count": 59,
      "outputs": [
        {
          "output_type": "execute_result",
          "data": {
            "text/plain": [
              "'Omg another Earthquake '"
            ]
          },
          "metadata": {
            "tags": []
          },
          "execution_count": 59
        }
      ]
    },
    {
      "cell_type": "code",
      "metadata": {
        "trusted": true,
        "id": "Nusv4z57J8Tr",
        "colab_type": "code",
        "colab": {}
      },
      "source": [
        "# remove all emojis from df\n",
        "df['text'] = df['text'].apply(lambda x: remove_emoji(x))"
      ],
      "execution_count": 0,
      "outputs": []
    },
    {
      "cell_type": "markdown",
      "metadata": {
        "id": "flnXDR5IJ8Tu",
        "colab_type": "text"
      },
      "source": [
        "### Removing Punctuations"
      ]
    },
    {
      "cell_type": "code",
      "metadata": {
        "trusted": true,
        "id": "m0bWTvOfJ8Tw",
        "colab_type": "code",
        "outputId": "7845edfb-1fcc-4b72-f7bc-ae50f652ca72",
        "colab": {
          "base_uri": "https://localhost:8080/",
          "height": 34
        }
      },
      "source": [
        "def remove_punct(text):\n",
        "    table=str.maketrans('','',string.punctuation)\n",
        "    return text.translate(table)\n",
        "\n",
        "example=\"I am a #king\"\n",
        "print(remove_punct(example))"
      ],
      "execution_count": 61,
      "outputs": [
        {
          "output_type": "stream",
          "text": [
            "I am a king\n"
          ],
          "name": "stdout"
        }
      ]
    },
    {
      "cell_type": "code",
      "metadata": {
        "trusted": true,
        "id": "k1PgCtVSJ8T0",
        "colab_type": "code",
        "colab": {}
      },
      "source": [
        "# remove all punctuations from df\n",
        "df['text'] = df['text'].apply(lambda x: remove_punct(x))"
      ],
      "execution_count": 0,
      "outputs": []
    },
    {
      "cell_type": "markdown",
      "metadata": {
        "id": "WM5At_LCJ8T4",
        "colab_type": "text"
      },
      "source": [
        "### Spelling Correction"
      ]
    },
    {
      "cell_type": "markdown",
      "metadata": {
        "id": "MdYXqxFoJ8T4",
        "colab_type": "text"
      },
      "source": [
        "Couldn't install spellchecker package on kaggle teminal!"
      ]
    },
    {
      "cell_type": "code",
      "metadata": {
        "trusted": true,
        "id": "M1gAqdylJ8T6",
        "colab_type": "code",
        "colab": {}
      },
      "source": [
        "# from spellchecker import SpellChecker\n",
        "\n",
        "# spell = SpellChecker()\n",
        "# def correct_spellings(text):\n",
        "#     corrected_text = []\n",
        "#     misspelled_words = spell.unknown(text.split())\n",
        "#     for word in text.split():\n",
        "#         if word in misspelled_words:\n",
        "#             corrected_text.append(spell.correction(word))\n",
        "#         else:\n",
        "#             corrected_text.append(word)\n",
        "#     return \" \".join(corrected_text)\n",
        "        \n",
        "# text = \"corect me plese\"\n",
        "# correct_spellings(text)"
      ],
      "execution_count": 0,
      "outputs": []
    },
    {
      "cell_type": "code",
      "metadata": {
        "trusted": true,
        "id": "MmBSaEqcJ8T-",
        "colab_type": "code",
        "colab": {}
      },
      "source": [
        "# df['text'] = df['text'].apply(lambda x : correct_spellings(x))"
      ],
      "execution_count": 0,
      "outputs": []
    },
    {
      "cell_type": "markdown",
      "metadata": {
        "id": "SsURyvu1J8UB",
        "colab_type": "text"
      },
      "source": [
        "### Glove for Vectorization\n",
        "\n",
        "Loot at what this is and try to utulize"
      ]
    },
    {
      "cell_type": "code",
      "metadata": {
        "trusted": true,
        "id": "k1-sUzs3J8UD",
        "colab_type": "code",
        "colab": {}
      },
      "source": [
        "def create_corpus(df):\n",
        "    corpus = []\n",
        "    for tweet in tqdm(df['text']):\n",
        "        words = [word.lower() for word in word_tokenize(tweet) if ((word not in stop_words) & (word.isalpha()==1))]\n",
        "        corpus.append(words)\n",
        "    return corpus"
      ],
      "execution_count": 0,
      "outputs": []
    },
    {
      "cell_type": "code",
      "metadata": {
        "trusted": true,
        "id": "9fM70nNIJ8UG",
        "colab_type": "code",
        "outputId": "0fc27ed4-43ad-4176-cdf9-b5e59e0608e4",
        "colab": {
          "base_uri": "https://localhost:8080/",
          "height": 34
        }
      },
      "source": [
        "corpus = create_corpus(df)"
      ],
      "execution_count": 66,
      "outputs": [
        {
          "output_type": "stream",
          "text": [
            "100%|██████████| 7551/7551 [00:00<00:00, 7952.98it/s]\n"
          ],
          "name": "stderr"
        }
      ]
    },
    {
      "cell_type": "code",
      "metadata": {
        "trusted": true,
        "id": "AlZOOJRLJ8UK",
        "colab_type": "code",
        "outputId": "2da0d498-4dea-45e6-9d5f-b35471b9173e",
        "colab": {
          "base_uri": "https://localhost:8080/",
          "height": 34
        }
      },
      "source": [
        "! ls ../input/nlp-getting-started"
      ],
      "execution_count": 67,
      "outputs": [
        {
          "output_type": "stream",
          "text": [
            "ls: cannot access '../input/nlp-getting-started': No such file or directory\n"
          ],
          "name": "stdout"
        }
      ]
    },
    {
      "cell_type": "code",
      "metadata": {
        "trusted": true,
        "id": "AgiVJU5uJ8UO",
        "colab_type": "code",
        "outputId": "1cb97161-ff12-4a3e-f0d8-c9238231ca3c",
        "colab": {
          "base_uri": "https://localhost:8080/",
          "height": 318
        }
      },
      "source": [
        "!wget http://nlp.stanford.edu/data/glove.6B.zip #We need to explore the usage of this"
      ],
      "execution_count": 0,
      "outputs": [
        {
          "output_type": "stream",
          "text": [
            "--2020-05-16 02:57:44--  http://nlp.stanford.edu/data/glove.6B.zip\n",
            "Resolving nlp.stanford.edu (nlp.stanford.edu)... 171.64.67.140\n",
            "Connecting to nlp.stanford.edu (nlp.stanford.edu)|171.64.67.140|:80... connected.\n",
            "HTTP request sent, awaiting response... 302 Found\n",
            "Location: https://nlp.stanford.edu/data/glove.6B.zip [following]\n",
            "--2020-05-16 02:57:44--  https://nlp.stanford.edu/data/glove.6B.zip\n",
            "Connecting to nlp.stanford.edu (nlp.stanford.edu)|171.64.67.140|:443... connected.\n",
            "HTTP request sent, awaiting response... 301 Moved Permanently\n",
            "Location: http://downloads.cs.stanford.edu/nlp/data/glove.6B.zip [following]\n",
            "--2020-05-16 02:57:44--  http://downloads.cs.stanford.edu/nlp/data/glove.6B.zip\n",
            "Resolving downloads.cs.stanford.edu (downloads.cs.stanford.edu)... 171.64.64.22\n",
            "Connecting to downloads.cs.stanford.edu (downloads.cs.stanford.edu)|171.64.64.22|:80... connected.\n",
            "HTTP request sent, awaiting response... 200 OK\n",
            "Length: 862182613 (822M) [application/zip]\n",
            "Saving to: ‘glove.6B.zip’\n",
            "\n",
            "glove.6B.zip         67%[============>       ] 557.36M  2.19MB/s    eta 2m 1s  "
          ],
          "name": "stdout"
        }
      ]
    },
    {
      "cell_type": "code",
      "metadata": {
        "trusted": true,
        "id": "AxxmP0OMJ8US",
        "colab_type": "code",
        "colab": {}
      },
      "source": [
        "! ls"
      ],
      "execution_count": 0,
      "outputs": []
    },
    {
      "cell_type": "code",
      "metadata": {
        "trusted": true,
        "id": "TjR3-Vo8J8UW",
        "colab_type": "code",
        "colab": {}
      },
      "source": [
        "df.sample(5)"
      ],
      "execution_count": 0,
      "outputs": []
    },
    {
      "cell_type": "code",
      "metadata": {
        "id": "uoz9iJyky9BW",
        "colab_type": "code",
        "colab": {}
      },
      "source": [
        "# Now, let's take a look at the punctuation number for tweets\n",
        "\n",
        "plt.figure(figsize=(12,10), dpi= 100 )\n",
        "# sns.set(font_scale=1)\n",
        "\n",
        "with sns.axes_style('white'):\n",
        "    g = sns.catplot( 'punctuation', data= df, aspect= 2, kind='count', \n",
        "                    hue='target', hue_order=df['target'].value_counts().sort_values(ascending=False).index)\n",
        "    g.set_ylabels('Number of Tweets')\n",
        "    g.set_xlabels('Number of Punction')\n",
        "    g.set_titles('Distrubition of Number of Punction for Tweets')"
      ],
      "execution_count": 0,
      "outputs": []
    },
    {
      "cell_type": "markdown",
      "metadata": {
        "id": "7ncf143AIrrn",
        "colab_type": "text"
      },
      "source": [
        "Until number of punction is 5, no disaster tweets have has more number of tweets. In the other words,  no disaster tweets use less punction.\n",
        "\n",
        "\n",
        "##### **Keep in mind:**  \n",
        "    Number of disaster tweets: 3229\n",
        "    Number of no disaster tweets: 4323"
      ]
    },
    {
      "cell_type": "code",
      "metadata": {
        "id": "9mLKr4GYLjFv",
        "colab_type": "code",
        "colab": {}
      },
      "source": [
        "df.sample()"
      ],
      "execution_count": 0,
      "outputs": []
    },
    {
      "cell_type": "code",
      "metadata": {
        "id": "CNFk_RWDGMM6",
        "colab_type": "code",
        "colab": {}
      },
      "source": [
        "\n",
        "import plotly.express as px\n",
        "fig = px.histogram(df, x=\"char_count\",color=\"target\", marginal=\"rug\",\n",
        "                   title='Distiribtion of number of character',\n",
        "                   labels={'char_count':'Distiribtion of number of character'})\n",
        "fig.show()\n"
      ],
      "execution_count": 0,
      "outputs": []
    },
    {
      "cell_type": "code",
      "metadata": {
        "id": "CYkJS1mVS9g6",
        "colab_type": "code",
        "colab": {}
      },
      "source": [
        "df.groupby('word_count').numerics.agg(['sum','count']).plot(kind='area') # I need to figure out how to make this plot bigger\n",
        "\n",
        "#This may not be a meaningful plot\n",
        "\n"
      ],
      "execution_count": 0,
      "outputs": []
    },
    {
      "cell_type": "code",
      "metadata": {
        "id": "MubkonxTfY-T",
        "colab_type": "code",
        "colab": {}
      },
      "source": [
        "df.groupby('word_count').numerics.agg(['sum','count'])"
      ],
      "execution_count": 0,
      "outputs": []
    },
    {
      "cell_type": "code",
      "metadata": {
        "id": "x1SmByveZJgY",
        "colab_type": "code",
        "colab": {}
      },
      "source": [
        "# Now, let's take a look at the pet species for each claim\n",
        "\n",
        "plt.figure(figsize=(12,10), dpi= 100 )\n",
        "# sns.set(font_scale=1)\n",
        "\n",
        "with sns.axes_style('white'):\n",
        "    g = sns.catplot( 'hastags', data= df, aspect= 2, kind='count', \n",
        "                    hue='target', hue_order=df['target'].value_counts().sort_values(ascending=False).index)\n",
        "    g.set_ylabels('Number of Tweets')\n",
        "    g.set_xlabels('Number of Hastag')\n",
        "    g.set_titles('Distrubition of Number of Hastag for Tweets')"
      ],
      "execution_count": 0,
      "outputs": []
    },
    {
      "cell_type": "code",
      "metadata": {
        "id": "9LppvbENVrN5",
        "colab_type": "code",
        "colab": {}
      },
      "source": [
        "\n",
        "import plotly.express as px\n",
        "fig = px.histogram(df, x=\"hastags\",color=\"target\", marginal=\"rug\",\n",
        "                   title='Distiribtion of number of character',\n",
        "                   labels={'char_count':'Distiribtion of number of character'})\n",
        "fig.show()\n"
      ],
      "execution_count": 0,
      "outputs": []
    },
    {
      "cell_type": "code",
      "metadata": {
        "id": "c0M7eljcqCRg",
        "colab_type": "code",
        "colab": {}
      },
      "source": [
        ""
      ],
      "execution_count": 0,
      "outputs": []
    }
  ]
}