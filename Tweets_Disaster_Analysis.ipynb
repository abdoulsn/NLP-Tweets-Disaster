{
  "nbformat": 4,
  "nbformat_minor": 0,
  "metadata": {
    "kernelspec": {
      "language": "python",
      "display_name": "Python 3",
      "name": "python3"
    },
    "language_info": {
      "pygments_lexer": "ipython3",
      "nbconvert_exporter": "python",
      "version": "3.6.4",
      "file_extension": ".py",
      "codemirror_mode": {
        "name": "ipython",
        "version": 3
      },
      "name": "python",
      "mimetype": "text/x-python"
    },
    "colab": {
      "name": "Tweets Disaster Analysis.ipynb",
      "provenance": [],
      "collapsed_sections": [
        "Yn5X1ACCJ8Ru",
        "PKlrdGQfJ8R3",
        "y6f1Jo6aJ8SJ",
        "sf_OQUT5J8SZ",
        "HoCYhoXfJ8Sl",
        "zi_NQQUpJ8Sy",
        "tPNfDHR5J8TC",
        "xiNgWnxdJ8TL",
        "xQ8FxAiMJ8TV",
        "dyvH42FZJ8Th",
        "flnXDR5IJ8Tu",
        "WM5At_LCJ8T4",
        "SsURyvu1J8UB"
      ],
      "include_colab_link": true
    }
  },
  "cells": [
    {
      "cell_type": "markdown",
      "metadata": {
        "id": "view-in-github",
        "colab_type": "text"
      },
      "source": [
        "<a href=\"https://colab.research.google.com/github/abdoulsn/NLP-Tweets-Disaster/blob/master/Tweets_Disaster_Analysis.ipynb\" target=\"_parent\"><img src=\"https://colab.research.google.com/assets/colab-badge.svg\" alt=\"Open In Colab\"/></a>"
      ]
    },
    {
      "cell_type": "markdown",
      "metadata": {
        "id": "Xw2rZhc-J8Qg",
        "colab_type": "text"
      },
      "source": [
        "# Disaster Tweets EDA\n",
        "\n",
        "This notebook contains basic and/or complicated EDA."
      ]
    },
    {
      "cell_type": "code",
      "metadata": {
        "_uuid": "8f2839f25d086af736a60e9eeb907d3b93b6e0e5",
        "_cell_guid": "b1076dfc-b9ad-4769-8c92-a6c4dae69d19",
        "trusted": true,
        "id": "RoYrmbMoJ8Qn",
        "colab_type": "code",
        "outputId": "d921896a-9a9d-4267-fd32-9458478ff652",
        "colab": {
          "base_uri": "https://localhost:8080/",
          "height": 187
        }
      },
      "source": [
        "# This Python 3 environment comes with many helpful analytics libraries installed\n",
        "# It is defined by the kaggle/python docker image: https://github.com/kaggle/docker-python\n",
        "# For example, here's several helpful packages to load in \n",
        "\n",
        "import numpy as np # linear algebra\n",
        "import pandas as pd # data processing, CSV file I/O (e.g. pd.read_csv)\n",
        "import matplotlib.pyplot as plt\n",
        "import seaborn as sns\n",
        "import string\n",
        "import re\n",
        "!pip install -q wordcloud\n",
        "import wordcloud\n",
        "from nltk.corpus import stopwords\n",
        "import nltk\n",
        "nltk.download('stopwords')\n",
        "nltk.download('wordnet')\n",
        "nltk.download('punkt')\n",
        "nltk.download('averaged_perceptron_tagger')\n",
        "\n",
        "\n",
        "\n",
        "from nltk.util import ngrams\n",
        "from collections import defaultdict\n",
        "from collections import Counter\n",
        "from nltk.tokenize import word_tokenize\n",
        "from sklearn.feature_extraction.text import CountVectorizer\n",
        "from keras.preprocessing.text import Tokenizer\n",
        "from keras.preprocessing.sequence import pad_sequences\n",
        "from tqdm import tqdm\n",
        "# from spellchecker import SpellChecker\n",
        "\n",
        "# set color codes\n",
        "sns.set_color_codes('pastel')\n",
        "plt.style.use('ggplot')\n",
        "stop_words = set(stopwords.words('english'))"
      ],
      "execution_count": 27,
      "outputs": [
        {
          "output_type": "stream",
          "text": [
            "[nltk_data] Downloading package stopwords to /root/nltk_data...\n",
            "[nltk_data]   Package stopwords is already up-to-date!\n",
            "[nltk_data] Downloading package wordnet to /root/nltk_data...\n",
            "[nltk_data]   Package wordnet is already up-to-date!\n",
            "[nltk_data] Downloading package punkt to /root/nltk_data...\n",
            "[nltk_data]   Package punkt is already up-to-date!\n",
            "[nltk_data] Downloading package averaged_perceptron_tagger to\n",
            "[nltk_data]     /root/nltk_data...\n",
            "[nltk_data]   Package averaged_perceptron_tagger is already up-to-\n",
            "[nltk_data]       date!\n"
          ],
          "name": "stdout"
        }
      ]
    },
    {
      "cell_type": "markdown",
      "metadata": {
        "id": "CAN1xSBJJ8Q5",
        "colab_type": "text"
      },
      "source": [
        "### Loading the dataset from [EnesGokce](https://raw.githubusercontent.com/EnesGokceDS/)  Repo (He was in my team)\n"
      ]
    },
    {
      "cell_type": "code",
      "metadata": {
        "_uuid": "d629ff2d2480ee46fbb7e2d37f6b5fab8052498a",
        "_cell_guid": "79c7e3d0-c299-4dcb-8224-4455121ee9b0",
        "trusted": true,
        "id": "BllCIa56J8Q7",
        "colab_type": "code",
        "colab": {}
      },
      "source": [
        "url1= 'https://raw.githubusercontent.com/EnesGokceDS/NLP_team_project/master/text_cleaned.csv' # With text_cleaned data\n",
        "url2='https://raw.githubusercontent.com/EnesGokceDS/NLP_team_project/master/text__testdata_cleaned.csv'\n",
        "url3= 'https://raw.githubusercontent.com/farmani60/NLP-Tweets-Disaster/master/data/sample_submission.csv'\n",
        "train = pd.read_csv(url1)\n",
        "test = pd.read_csv(url2)\n",
        "sample_submission = pd.read_csv(url3)"
      ],
      "execution_count": 0,
      "outputs": []
    },
    {
      "cell_type": "code",
      "metadata": {
        "trusted": true,
        "id": "jD14ivm1J8RF",
        "colab_type": "code",
        "outputId": "960723a2-4778-4211-8f52-f9c96300190a",
        "colab": {
          "base_uri": "https://localhost:8080/",
          "height": 51
        }
      },
      "source": [
        "print('Number of samples in train set: {}'.format(train.shape[0]))\n",
        "print('Number of samples in test set: {}'.format(test.shape[0]))"
      ],
      "execution_count": 29,
      "outputs": [
        {
          "output_type": "stream",
          "text": [
            "Number of samples in train set: 7552\n",
            "Number of samples in test set: 3237\n"
          ],
          "name": "stdout"
        }
      ]
    },
    {
      "cell_type": "code",
      "metadata": {
        "id": "jgx3Je49o1St",
        "colab_type": "code",
        "outputId": "165d773a-d802-47d6-ce77-3d7c463d1d86",
        "colab": {
          "base_uri": "https://localhost:8080/",
          "height": 204
        }
      },
      "source": [
        "train.sample(5).round(2)"
      ],
      "execution_count": 30,
      "outputs": [
        {
          "output_type": "execute_result",
          "data": {
            "text/html": [
              "<div>\n",
              "<style scoped>\n",
              "    .dataframe tbody tr th:only-of-type {\n",
              "        vertical-align: middle;\n",
              "    }\n",
              "\n",
              "    .dataframe tbody tr th {\n",
              "        vertical-align: top;\n",
              "    }\n",
              "\n",
              "    .dataframe thead th {\n",
              "        text-align: right;\n",
              "    }\n",
              "</style>\n",
              "<table border=\"1\" class=\"dataframe\">\n",
              "  <thead>\n",
              "    <tr style=\"text-align: right;\">\n",
              "      <th></th>\n",
              "      <th>id</th>\n",
              "      <th>keyword</th>\n",
              "      <th>text</th>\n",
              "      <th>target</th>\n",
              "      <th>stopwords</th>\n",
              "      <th>punctuation</th>\n",
              "      <th>hastags</th>\n",
              "      <th>numerics</th>\n",
              "      <th>upper</th>\n",
              "      <th>word_count</th>\n",
              "      <th>char_count</th>\n",
              "      <th>avg_word</th>\n",
              "    </tr>\n",
              "  </thead>\n",
              "  <tbody>\n",
              "    <tr>\n",
              "      <th>822</th>\n",
              "      <td>1235</td>\n",
              "      <td>blood</td>\n",
              "      <td>stars  reviewers dragon blood boxset lindsay...</td>\n",
              "      <td>0</td>\n",
              "      <td>5</td>\n",
              "      <td>14</td>\n",
              "      <td>1</td>\n",
              "      <td>2</td>\n",
              "      <td>0</td>\n",
              "      <td>13</td>\n",
              "      <td>80</td>\n",
              "      <td>7.56</td>\n",
              "    </tr>\n",
              "    <tr>\n",
              "      <th>2330</th>\n",
              "      <td>3397</td>\n",
              "      <td>demolition</td>\n",
              "      <td>seven chinese christians detained amid widespr...</td>\n",
              "      <td>1</td>\n",
              "      <td>0</td>\n",
              "      <td>5</td>\n",
              "      <td>0</td>\n",
              "      <td>0</td>\n",
              "      <td>0</td>\n",
              "      <td>10</td>\n",
              "      <td>73</td>\n",
              "      <td>7.11</td>\n",
              "    </tr>\n",
              "    <tr>\n",
              "      <th>4373</th>\n",
              "      <td>6261</td>\n",
              "      <td>hijacking</td>\n",
              "      <td>hot funtenna hijacking computers send data sou...</td>\n",
              "      <td>0</td>\n",
              "      <td>2</td>\n",
              "      <td>11</td>\n",
              "      <td>3</td>\n",
              "      <td>0</td>\n",
              "      <td>0</td>\n",
              "      <td>14</td>\n",
              "      <td>80</td>\n",
              "      <td>5.58</td>\n",
              "    </tr>\n",
              "    <tr>\n",
              "      <th>5611</th>\n",
              "      <td>8045</td>\n",
              "      <td>refugees</td>\n",
              "      <td>newlyweds feed thousands syrian refugees inste...</td>\n",
              "      <td>1</td>\n",
              "      <td>3</td>\n",
              "      <td>7</td>\n",
              "      <td>0</td>\n",
              "      <td>0</td>\n",
              "      <td>0</td>\n",
              "      <td>13</td>\n",
              "      <td>88</td>\n",
              "      <td>6.33</td>\n",
              "    </tr>\n",
              "    <tr>\n",
              "      <th>7215</th>\n",
              "      <td>10376</td>\n",
              "      <td>weapons</td>\n",
              "      <td>liked youtube video dannyonpc  battlefield har...</td>\n",
              "      <td>0</td>\n",
              "      <td>2</td>\n",
              "      <td>11</td>\n",
              "      <td>0</td>\n",
              "      <td>1</td>\n",
              "      <td>3</td>\n",
              "      <td>13</td>\n",
              "      <td>87</td>\n",
              "      <td>6.82</td>\n",
              "    </tr>\n",
              "  </tbody>\n",
              "</table>\n",
              "</div>"
            ],
            "text/plain": [
              "         id     keyword  ... char_count  avg_word\n",
              "822    1235       blood  ...         80      7.56\n",
              "2330   3397  demolition  ...         73      7.11\n",
              "4373   6261   hijacking  ...         80      5.58\n",
              "5611   8045    refugees  ...         88      6.33\n",
              "7215  10376     weapons  ...         87      6.82\n",
              "\n",
              "[5 rows x 12 columns]"
            ]
          },
          "metadata": {
            "tags": []
          },
          "execution_count": 30
        }
      ]
    },
    {
      "cell_type": "markdown",
      "metadata": {
        "id": "zaJ_qhJHJ8RM",
        "colab_type": "text"
      },
      "source": [
        "### Distribution of the Target"
      ]
    },
    {
      "cell_type": "code",
      "metadata": {
        "trusted": true,
        "id": "pTqSM1yLJ8RP",
        "colab_type": "code",
        "outputId": "f26a6170-5c1e-4394-ab7d-661ad20eb4a2",
        "colab": {
          "base_uri": "https://localhost:8080/",
          "height": 408
        }
      },
      "source": [
        "df = train.groupby(['target'])['id'].count()\n",
        "df = df.reset_index()\n",
        "df = df.rename(columns={'id': 'number of samples'})\n",
        "fig, ax = plt.subplots(figsize=(4, 6))\n",
        "\n",
        "sns.barplot(x='target', y='number of samples', data=df)"
      ],
      "execution_count": 31,
      "outputs": [
        {
          "output_type": "execute_result",
          "data": {
            "text/plain": [
              "<matplotlib.axes._subplots.AxesSubplot at 0x7f46b2e5ec18>"
            ]
          },
          "metadata": {
            "tags": []
          },
          "execution_count": 31
        },
        {
          "output_type": "display_data",
          "data": {
            "image/png": "[encoded data removed]",
            "text/plain": [
              "<Figure size 288x432 with 1 Axes>"
            ]
          },
          "metadata": {
            "tags": []
          }
        }
      ]
    },
    {
      "cell_type": "markdown",
      "metadata": {
        "id": "QLbV8iTeJ8Re",
        "colab_type": "text"
      },
      "source": [
        "So, the classes are kind of balanced but we have about 1000 more samples in no disaster tweets."
      ]
    },
    {
      "cell_type": "code",
      "metadata": {
        "trusted": true,
        "id": "mnaMD0bwJ8RX",
        "colab_type": "code",
        "outputId": "106ac585-a48e-4e46-e3d5-2bf1d0580513",
        "colab": {
          "base_uri": "https://localhost:8080/",
          "height": 51
        }
      },
      "source": [
        "print('Number of disaster tweets: {}'.format(df.loc[df['target']==1]['number of samples'].values[0]))\n",
        "print('Number of no disaster tweets: {}'.format(df.loc[df['target']==0]['number of samples'].values[0]))"
      ],
      "execution_count": 32,
      "outputs": [
        {
          "output_type": "stream",
          "text": [
            "Number of disaster tweets: 3229\n",
            "Number of no disaster tweets: 4323\n"
          ],
          "name": "stdout"
        }
      ]
    },
    {
      "cell_type": "code",
      "metadata": {
        "id": "6ICsBh4frxAv",
        "colab_type": "code",
        "outputId": "26dd9059-c5f6-4192-b92e-067e2fd19c46",
        "colab": {
          "base_uri": "https://localhost:8080/",
          "height": 80
        }
      },
      "source": [
        "train.loc[train.text.isnull()]"
      ],
      "execution_count": 33,
      "outputs": [
        {
          "output_type": "execute_result",
          "data": {
            "text/html": [
              "<div>\n",
              "<style scoped>\n",
              "    .dataframe tbody tr th:only-of-type {\n",
              "        vertical-align: middle;\n",
              "    }\n",
              "\n",
              "    .dataframe tbody tr th {\n",
              "        vertical-align: top;\n",
              "    }\n",
              "\n",
              "    .dataframe thead th {\n",
              "        text-align: right;\n",
              "    }\n",
              "</style>\n",
              "<table border=\"1\" class=\"dataframe\">\n",
              "  <thead>\n",
              "    <tr style=\"text-align: right;\">\n",
              "      <th></th>\n",
              "      <th>id</th>\n",
              "      <th>keyword</th>\n",
              "      <th>text</th>\n",
              "      <th>target</th>\n",
              "      <th>stopwords</th>\n",
              "      <th>punctuation</th>\n",
              "      <th>hastags</th>\n",
              "      <th>numerics</th>\n",
              "      <th>upper</th>\n",
              "      <th>word_count</th>\n",
              "      <th>char_count</th>\n",
              "      <th>avg_word</th>\n",
              "    </tr>\n",
              "  </thead>\n",
              "  <tbody>\n",
              "    <tr>\n",
              "      <th>5084</th>\n",
              "      <td>7295</td>\n",
              "      <td>nuclear%20reactor</td>\n",
              "      <td>NaN</td>\n",
              "      <td>0</td>\n",
              "      <td>0</td>\n",
              "      <td>1</td>\n",
              "      <td>0</td>\n",
              "      <td>0</td>\n",
              "      <td>0</td>\n",
              "      <td>1</td>\n",
              "      <td>0</td>\n",
              "      <td>0.0</td>\n",
              "    </tr>\n",
              "  </tbody>\n",
              "</table>\n",
              "</div>"
            ],
            "text/plain": [
              "        id            keyword text  ...  word_count  char_count  avg_word\n",
              "5084  7295  nuclear%20reactor  NaN  ...           1           0       0.0\n",
              "\n",
              "[1 rows x 12 columns]"
            ]
          },
          "metadata": {
            "tags": []
          },
          "execution_count": 33
        }
      ]
    },
    {
      "cell_type": "code",
      "metadata": {
        "id": "e8ww5Ia_r43a",
        "colab_type": "code",
        "outputId": "5dd6518b-3c73-4126-ebb7-5d49c4aa4c05",
        "colab": {
          "base_uri": "https://localhost:8080/",
          "height": 48
        }
      },
      "source": [
        "train= train.dropna()\n",
        "train.loc[train.text.isnull()]"
      ],
      "execution_count": 34,
      "outputs": [
        {
          "output_type": "execute_result",
          "data": {
            "text/html": [
              "<div>\n",
              "<style scoped>\n",
              "    .dataframe tbody tr th:only-of-type {\n",
              "        vertical-align: middle;\n",
              "    }\n",
              "\n",
              "    .dataframe tbody tr th {\n",
              "        vertical-align: top;\n",
              "    }\n",
              "\n",
              "    .dataframe thead th {\n",
              "        text-align: right;\n",
              "    }\n",
              "</style>\n",
              "<table border=\"1\" class=\"dataframe\">\n",
              "  <thead>\n",
              "    <tr style=\"text-align: right;\">\n",
              "      <th></th>\n",
              "      <th>id</th>\n",
              "      <th>keyword</th>\n",
              "      <th>text</th>\n",
              "      <th>target</th>\n",
              "      <th>stopwords</th>\n",
              "      <th>punctuation</th>\n",
              "      <th>hastags</th>\n",
              "      <th>numerics</th>\n",
              "      <th>upper</th>\n",
              "      <th>word_count</th>\n",
              "      <th>char_count</th>\n",
              "      <th>avg_word</th>\n",
              "    </tr>\n",
              "  </thead>\n",
              "  <tbody>\n",
              "  </tbody>\n",
              "</table>\n",
              "</div>"
            ],
            "text/plain": [
              "Empty DataFrame\n",
              "Columns: [id, keyword, text, target, stopwords, punctuation, hastags, numerics, upper, word_count, char_count, avg_word]\n",
              "Index: []"
            ]
          },
          "metadata": {
            "tags": []
          },
          "execution_count": 34
        }
      ]
    },
    {
      "cell_type": "markdown",
      "metadata": {
        "id": "TGSIbcXvJ8Rg",
        "colab_type": "text"
      },
      "source": [
        "### Number of Characters in Tweets"
      ]
    },
    {
      "cell_type": "code",
      "metadata": {
        "trusted": true,
        "id": "cwSEr4yaJ8Rj",
        "colab_type": "code",
        "outputId": "9a0eefc5-cef8-4056-eaba-4ec4a454a656",
        "colab": {
          "base_uri": "https://localhost:8080/",
          "height": 356
        }
      },
      "source": [
        "fig, (ax1, ax2) = plt.subplots(1, 2, figsize=(10, 5))\n",
        "\n",
        "tweet_len = train.loc[train['target']==1]['text'].str.len()\n",
        "ax1.hist(tweet_len, color='blue')\n",
        "ax1.set_title('disaster tweets')\n",
        "tweet_len = train.loc[train['target']==0]['text'].str.len()\n",
        "ax2.hist(tweet_len, color='red')\n",
        "ax2.set_title('not disaster tweets')\n",
        "\n",
        "fig.suptitle('Number of characters in tweets')\n",
        "\n",
        "plt.show()"
      ],
      "execution_count": 35,
      "outputs": [
        {
          "output_type": "display_data",
          "data": {
            "image/png": "[encoded data removed]",
            "text/plain": [
              "<Figure size 720x360 with 2 Axes>"
            ]
          },
          "metadata": {
            "tags": []
          }
        }
      ]
    },
    {
      "cell_type": "markdown",
      "metadata": {
        "id": "k0xYTVvNJ8Rr",
        "colab_type": "text"
      },
      "source": [
        "Both diaster and not disaster tweets have almost same distribution on number of characters. 70 to 90 characters are most common in both groups."
      ]
    },
    {
      "cell_type": "markdown",
      "metadata": {
        "id": "Yn5X1ACCJ8Ru",
        "colab_type": "text"
      },
      "source": [
        "### Number of Words in Tweets"
      ]
    },
    {
      "cell_type": "code",
      "metadata": {
        "trusted": true,
        "id": "-o2BTxxVJ8Rv",
        "colab_type": "code",
        "outputId": "94ff558b-effe-46b6-a14c-5a6fd25fe5be",
        "colab": {
          "base_uri": "https://localhost:8080/",
          "height": 54
        }
      },
      "source": [
        "fig, (ax1, ax2) = plt.subplots(1, 2, figsize=(10, 5))\n",
        "tweet_len = train.loc[train['target']==1]['text'].str.split().map(lambda x: len(x))\n",
        "ax1.hist(tweet_len, color='blue')\n",
        "ax1.set_title('disaster tweets')\n",
        "\n",
        "tweet_len = train.loc[train['target']==0]['text'].str.split().map(lambda x: len(x))\n",
        "ax2.hist(tweet_len, color='red')\n",
        "ax2.set_title('not disaster tweets')\n",
        "\n",
        "fig.suptitle('Number of words in tweets')\n",
        "\n",
        "plt.show()"
      ],
      "execution_count": 36,
      "outputs": [
        {
          "output_type": "display_data",
          "data": {
            "image/png": "[encoded data removed]",
            "text/plain": [
              "<Figure size 720x360 with 2 Axes>"
            ]
          },
          "metadata": {
            "tags": []
          }
        }
      ]
    },
    {
      "cell_type": "markdown",
      "metadata": {
        "id": "g8-cs6GLJ8R2",
        "colab_type": "text"
      },
      "source": [
        "It seems not disaster tweets have slightly more words. This might be used as a feature!"
      ]
    },
    {
      "cell_type": "markdown",
      "metadata": {
        "id": "PKlrdGQfJ8R3",
        "colab_type": "text"
      },
      "source": [
        "### Average Word Length in Tweets"
      ]
    },
    {
      "cell_type": "code",
      "metadata": {
        "trusted": true,
        "id": "5r4x5fvQJ8R6",
        "colab_type": "code",
        "outputId": "4330134c-236a-46da-c671-80a894f26f68",
        "colab": {
          "base_uri": "https://localhost:8080/",
          "height": 54
        }
      },
      "source": [
        "fig, (ax1, ax2) = plt.subplots(1, 2, figsize=(10, 5))\n",
        "\n",
        "words = train.loc[train['target']==1] ['text'].str.split().apply(lambda x: [len(i) for i in x])\n",
        "sns.distplot(words.map(lambda x: np.mean(x)), ax=ax1, color='blue')\n",
        "\n",
        "\n",
        "words = train.loc[train['target']==0] ['text'].str.split().apply(lambda x: [len(i) for i in x])\n",
        "sns.distplot(words.map(lambda x: np.mean(x)), ax=ax2, color='red')\n",
        "ax2.set_title('not disaster tweets')\n",
        "\n",
        "fig.suptitle('Average length of words in tweets')\n",
        "\n",
        "plt.show()"
      ],
      "execution_count": 37,
      "outputs": [
        {
          "output_type": "display_data",
          "data": {
            "image/png": "[encoded data removed]",
            "text/plain": [
              "<Figure size 720x360 with 2 Axes>"
            ]
          },
          "metadata": {
            "tags": []
          }
        }
      ]
    },
    {
      "cell_type": "markdown",
      "metadata": {
        "id": "zpc62HcgJ8SA",
        "colab_type": "text"
      },
      "source": [
        "Disaster and not disaster have almost same distribution over average length of words in them."
      ]
    },
    {
      "cell_type": "code",
      "metadata": {
        "trusted": true,
        "id": "VL6ao5OCJ8SD",
        "colab_type": "code",
        "colab": {}
      },
      "source": [
        "# funcion to make corpus\n",
        "def make_corpus(df, target):\n",
        "    corpus = []\n",
        "    for x in df.loc[df['target']==target]['text'].str.split():\n",
        "        for i in x:\n",
        "            corpus.append(i)\n",
        "    return corpus"
      ],
      "execution_count": 0,
      "outputs": []
    },
    {
      "cell_type": "markdown",
      "metadata": {
        "id": "y6f1Jo6aJ8SJ",
        "colab_type": "text"
      },
      "source": [
        "### Stop Words"
      ]
    },
    {
      "cell_type": "code",
      "metadata": {
        "trusted": true,
        "id": "MLlhbLgEJ8SL",
        "colab_type": "code",
        "colab": {}
      },
      "source": [
        "# make a corpus of not disaster tweets\n",
        "not_disaster_corpus = make_corpus(train, target=0) # stop words for not disaster tweets\n",
        "dic = defaultdict(int)\n",
        "\n",
        "for word in not_disaster_corpus:\n",
        "    if word in stop_words:\n",
        "        dic[word] += 1\n",
        "        \n",
        "# top 10 stop words in not disaster tweets\n",
        "not_disaster_top_stop_words = sorted(dic.items(), key=lambda x: x[1], reverse=True)[:10]\n",
        "\n",
        "# make a corpus of disaster tweets\n",
        "disaster_corpus = make_corpus(train, target=1) # stop words for disaster tweets\n",
        "dic = defaultdict(int)\n",
        "\n",
        "for word in disaster_corpus:\n",
        "    if word in stop_words:\n",
        "        dic[word] += 1\n",
        "        \n",
        "# top 10 stop words in disaster tweets\n",
        "disaster_top_stop_words = sorted(dic.items(), key=lambda x: x[1], reverse=True)[:10]"
      ],
      "execution_count": 0,
      "outputs": []
    },
    {
      "cell_type": "code",
      "metadata": {
        "id": "8D_fQVFafNXV",
        "colab_type": "code",
        "outputId": "83e0fa2b-20e8-4007-f307-6609620ab814",
        "colab": {
          "base_uri": "https://localhost:8080/",
          "height": 54
        }
      },
      "source": [
        "print(disaster_top_stop_words)"
      ],
      "execution_count": 40,
      "outputs": [
        {
          "output_type": "stream",
          "text": [
            "[]\n"
          ],
          "name": "stdout"
        }
      ]
    },
    {
      "cell_type": "code",
      "metadata": {
        "trusted": true,
        "id": "kmKefXN6J8SQ",
        "colab_type": "code",
        "outputId": "06166be4-d128-4e5b-f760-ca1e1d4f3ab1",
        "colab": {
          "base_uri": "https://localhost:8080/",
          "height": 54
        }
      },
      "source": [
        "#This part can be added to data cleaning section before cleaning stopwords\n",
        "\n",
        "'''\n",
        "x1, y1 = zip(*disaster_top_stop_words)\n",
        "x2, y2 = zip(*not_disaster_top_stop_words)\n",
        "\n",
        "fig, (ax1, ax2) = plt.subplots(1, 2, figsize=(10, 5))\n",
        "\n",
        "ax1.bar(x1, y1, color='blue')\n",
        "ax1.set_title('disaster tweets')\n",
        "\n",
        "ax2.bar(x2, y2, color='red')\n",
        "ax2.set_title('not disaster tweets')\n",
        "\n",
        "fig.suptitle('Top 10 stop words')\n",
        "\n",
        "plt.show()\n",
        "'''"
      ],
      "execution_count": 41,
      "outputs": [
        {
          "output_type": "execute_result",
          "data": {
            "text/plain": [
              "\"\\nx1, y1 = zip(*disaster_top_stop_words)\\nx2, y2 = zip(*not_disaster_top_stop_words)\\n\\nfig, (ax1, ax2) = plt.subplots(1, 2, figsize=(10, 5))\\n\\nax1.bar(x1, y1, color='blue')\\nax1.set_title('disaster tweets')\\n\\nax2.bar(x2, y2, color='red')\\nax2.set_title('not disaster tweets')\\n\\nfig.suptitle('Top 10 stop words')\\n\\nplt.show()\\n\""
            ]
          },
          "metadata": {
            "tags": []
          },
          "execution_count": 41
        }
      ]
    },
    {
      "cell_type": "markdown",
      "metadata": {
        "id": "Rp91kfMiJ8SY",
        "colab_type": "text"
      },
      "source": [
        "In both classes `the` is the most frequent stop word followed by `a` in class not disaster and `in` in class disaster."
      ]
    },
    {
      "cell_type": "markdown",
      "metadata": {
        "id": "sf_OQUT5J8SZ",
        "colab_type": "text"
      },
      "source": [
        "### Punctuations"
      ]
    },
    {
      "cell_type": "code",
      "metadata": {
        "trusted": true,
        "id": "2O75wENsJ8Sa",
        "colab_type": "code",
        "colab": {}
      },
      "source": [
        "punctuations = string.punctuation\n",
        "\n",
        "dic_punc_not_disaster = defaultdict(int)\n",
        "\n",
        "for word in not_disaster_corpus:\n",
        "    if word in punctuations:\n",
        "        dic_punc_not_disaster[word] += 1\n",
        "        \n",
        "dic_punc_disaster = defaultdict(int)\n",
        "\n",
        "for word in disaster_corpus:\n",
        "    if word in punctuations:\n",
        "        dic_punc_disaster[word] += 1\n",
        "\n"
      ],
      "execution_count": 0,
      "outputs": []
    },
    {
      "cell_type": "code",
      "metadata": {
        "id": "EZhP6lzfeQac",
        "colab_type": "code",
        "outputId": "e6d9a8c6-039a-4266-f4d5-1ccc04d2dc00",
        "colab": {
          "base_uri": "https://localhost:8080/",
          "height": 221
        }
      },
      "source": [
        "#print('Number of disaster tweets: {}'.format(train.loc[train['target']==1]['text']))\n",
        "tweet_len = train.loc[train['target']==1]['text'].str.len()\n",
        "print(tweet_len)"
      ],
      "execution_count": 43,
      "outputs": [
        {
          "output_type": "stream",
          "text": [
            "0        32\n",
            "2        53\n",
            "6        28\n",
            "7       103\n",
            "15       56\n",
            "       ... \n",
            "7511     67\n",
            "7512     68\n",
            "7521     31\n",
            "7528     35\n",
            "7541     31\n",
            "Name: text, Length: 3229, dtype: int64\n"
          ],
          "name": "stdout"
        }
      ]
    },
    {
      "cell_type": "code",
      "metadata": {
        "id": "XYnVw48B7ruh",
        "colab_type": "code",
        "outputId": "29248e2d-fb5d-43ab-9806-58e6437580cd",
        "colab": {
          "base_uri": "https://localhost:8080/",
          "height": 221
        }
      },
      "source": [
        "\n",
        "#df_train['text'].apply(lambda x: len([c for c in str(x) if c in string.punctuation]))\n",
        "tweet_punc = train.loc[train['target']==1]['text'].apply(lambda x: len([c for c in str(x) if c in string.punctuation]))\n",
        "print(tweet_punc)\n",
        "ax1.hist(tweet_punc, color='blue')\n",
        "ax1.set_title('disaster tweets')\n",
        "\n",
        "tweet_punc = train.loc[train['target']==0]['text'].apply(lambda x: len([c for c in str(x) if c in string.punctuation]))\n",
        "ax2.hist(tweet_punc, color='red')\n",
        "ax2.set_title('not disaster tweets')\n",
        "\n",
        "fig.suptitle('Number of punctuation in tweets')\n",
        "\n",
        "plt.show()"
      ],
      "execution_count": 44,
      "outputs": [
        {
          "output_type": "stream",
          "text": [
            "0       0\n",
            "2       0\n",
            "6       0\n",
            "7       0\n",
            "15      0\n",
            "       ..\n",
            "7511    0\n",
            "7512    0\n",
            "7521    0\n",
            "7528    0\n",
            "7541    0\n",
            "Name: text, Length: 3229, dtype: int64\n"
          ],
          "name": "stdout"
        }
      ]
    },
    {
      "cell_type": "markdown",
      "metadata": {
        "id": "HoCYhoXfJ8Sl",
        "colab_type": "text"
      },
      "source": [
        "### Common Words"
      ]
    },
    {
      "cell_type": "code",
      "metadata": {
        "trusted": true,
        "id": "O_9TaRZqJ8Sn",
        "colab_type": "code",
        "colab": {}
      },
      "source": [
        "disaster_counter = Counter(disaster_corpus)\n",
        "disaster_most_common_words = disaster_counter.most_common()\n",
        "\n",
        "x1 = []\n",
        "y1 = []\n",
        "\n",
        "for word, count in disaster_most_common_words[:40]:\n",
        "    if (word not in stop_words) & (word not in punctuations):\n",
        "        x1.append(word)\n",
        "        y1.append(count)\n",
        "        \n",
        "not_disaster_counter = Counter(not_disaster_corpus)\n",
        "not_disaster_most_common_words = not_disaster_counter.most_common()\n",
        "\n",
        "x2 = []\n",
        "y2 = []\n",
        "\n",
        "for word, count in not_disaster_most_common_words[:40]:\n",
        "    if (word not in stop_words) & (word not in punctuations):\n",
        "        x2.append(word)\n",
        "        y2.append(count)"
      ],
      "execution_count": 0,
      "outputs": []
    },
    {
      "cell_type": "code",
      "metadata": {
        "trusted": true,
        "id": "AtSGvpwTJ8Ss",
        "colab_type": "code",
        "outputId": "5fa36e96-e1bc-4491-8ed2-cca74c28e606",
        "colab": {
          "base_uri": "https://localhost:8080/",
          "height": 663
        }
      },
      "source": [
        "fig, (ax1, ax2) = plt.subplots(2, 1, figsize=(30, 10))\n",
        "\n",
        "sns.barplot(x1, y1, ax=ax1)\n",
        "ax1.set_title('disaster tweets')\n",
        "\n",
        "sns.barplot(x2, y2, ax=ax2)\n",
        "ax2.set_title('not disaster tweets')\n",
        "\n",
        "fig.suptitle('Common Words in Tweets')\n",
        "plt.show()"
      ],
      "execution_count": 46,
      "outputs": [
        {
          "output_type": "display_data",
          "data": {
            "image/png": "[encoded data removed]",
            "text/plain": [
              "<Figure size 2160x720 with 2 Axes>"
            ]
          },
          "metadata": {
            "tags": []
          }
        }
      ]
    },
    {
      "cell_type": "markdown",
      "metadata": {
        "id": "LDtW04lSJ8Sx",
        "colab_type": "text"
      },
      "source": [
        "Lots of cleaning needed!"
      ]
    },
    {
      "cell_type": "markdown",
      "metadata": {
        "id": "zi_NQQUpJ8Sy",
        "colab_type": "text"
      },
      "source": [
        "### Ngram Analysis"
      ]
    },
    {
      "cell_type": "markdown",
      "metadata": {
        "id": "t-WfvRIjJ8S0",
        "colab_type": "text"
      },
      "source": [
        "We analyze bigrams (n = 2) and trigrams (n = 3) over tweets. Let's check the most common ngrams in tweets. "
      ]
    },
    {
      "cell_type": "code",
      "metadata": {
        "trusted": true,
        "id": "MJlDg6XhJ8S1",
        "colab_type": "code",
        "colab": {}
      },
      "source": [
        "def get_top_tweet_ngrams(corpus, n=None):\n",
        "    vec = CountVectorizer(ngram_range=(n, n)).fit(corpus)\n",
        "    bag_of_words = vec.transform(corpus)\n",
        "    sum_words = bag_of_words.sum(axis=0)\n",
        "    words_freq = [(word, sum_words[0, idx]) for word, idx in vec.vocabulary_.items()]\n",
        "    words_freq = sorted(words_freq, key=lambda x: x[1], reverse=True)\n",
        "    return words_freq"
      ],
      "execution_count": 0,
      "outputs": []
    },
    {
      "cell_type": "code",
      "metadata": {
        "trusted": true,
        "id": "D5uPZo1ZJ8S7",
        "colab_type": "code",
        "outputId": "7f1880cf-a302-4505-c496-c55871daaccb",
        "colab": {
          "base_uri": "https://localhost:8080/",
          "height": 337
        }
      },
      "source": [
        "fig, (ax1, ax2) = plt.subplots(1, 2, figsize=(28, 5))\n",
        "\n",
        "top_tweet_bigrams = get_top_tweet_ngrams(train['text'], n=2)[:10]\n",
        "top_tweet_trigrams = get_top_tweet_ngrams(train['text'], n=3)[:10]\n",
        "\n",
        "x1, y1 = map(list, zip(*top_tweet_bigrams))\n",
        "x2, y2 = map(list, zip(*top_tweet_trigrams))\n",
        "\n",
        "sns.barplot(y1, x1, ax=ax1)\n",
        "sns.barplot(y2, x2, ax=ax2)\n",
        "ax1.set_title('Top 10 bigrams')\n",
        "ax2.set_title('Top 10 trigrams')\n",
        "\n",
        "plt.show()"
      ],
      "execution_count": 48,
      "outputs": [
        {
          "output_type": "display_data",
          "data": {
            "image/png": "[encoded data removed]",
            "text/plain": [
              "<Figure size 2016x360 with 2 Axes>"
            ]
          },
          "metadata": {
            "tags": []
          }
        }
      ]
    },
    {
      "cell_type": "markdown",
      "metadata": {
        "id": "9QN0_9iIJ8TB",
        "colab_type": "text"
      },
      "source": [
        "A lot of cleaning is needed here too!"
      ]
    },
    {
      "cell_type": "markdown",
      "metadata": {
        "id": "tPNfDHR5J8TC",
        "colab_type": "text"
      },
      "source": [
        "### Data Cleaning"
      ]
    },
    {
      "cell_type": "markdown",
      "metadata": {
        "id": "FdHl5SWYJ8TE",
        "colab_type": "text"
      },
      "source": [
        "* Spelling Correction\n",
        "* Removing Punctuations\n",
        "* Removing html tags\n",
        "* Removing Emojis"
      ]
    },
    {
      "cell_type": "code",
      "metadata": {
        "trusted": true,
        "id": "RMSRUFkQJ8TG",
        "colab_type": "code",
        "outputId": "fbfaef95-3a9a-4724-e9ea-2b67647bb245",
        "colab": {
          "base_uri": "https://localhost:8080/",
          "height": 204
        }
      },
      "source": [
        "#df = pd.concat([train, test])\n",
        "df= train \n",
        "df.head()"
      ],
      "execution_count": 49,
      "outputs": [
        {
          "output_type": "execute_result",
          "data": {
            "text/html": [
              "<div>\n",
              "<style scoped>\n",
              "    .dataframe tbody tr th:only-of-type {\n",
              "        vertical-align: middle;\n",
              "    }\n",
              "\n",
              "    .dataframe tbody tr th {\n",
              "        vertical-align: top;\n",
              "    }\n",
              "\n",
              "    .dataframe thead th {\n",
              "        text-align: right;\n",
              "    }\n",
              "</style>\n",
              "<table border=\"1\" class=\"dataframe\">\n",
              "  <thead>\n",
              "    <tr style=\"text-align: right;\">\n",
              "      <th></th>\n",
              "      <th>id</th>\n",
              "      <th>keyword</th>\n",
              "      <th>text</th>\n",
              "      <th>target</th>\n",
              "      <th>stopwords</th>\n",
              "      <th>punctuation</th>\n",
              "      <th>hastags</th>\n",
              "      <th>numerics</th>\n",
              "      <th>upper</th>\n",
              "      <th>word_count</th>\n",
              "      <th>char_count</th>\n",
              "      <th>avg_word</th>\n",
              "    </tr>\n",
              "  </thead>\n",
              "  <tbody>\n",
              "    <tr>\n",
              "      <th>0</th>\n",
              "      <td>48</td>\n",
              "      <td>ablaze</td>\n",
              "      <td>bbcmtd wholesale markets ablaze</td>\n",
              "      <td>1</td>\n",
              "      <td>0</td>\n",
              "      <td>6</td>\n",
              "      <td>0</td>\n",
              "      <td>0</td>\n",
              "      <td>0</td>\n",
              "      <td>5</td>\n",
              "      <td>32</td>\n",
              "      <td>6.999998</td>\n",
              "    </tr>\n",
              "    <tr>\n",
              "      <th>1</th>\n",
              "      <td>49</td>\n",
              "      <td>ablaze</td>\n",
              "      <td>always try bring heavy metal rt</td>\n",
              "      <td>0</td>\n",
              "      <td>2</td>\n",
              "      <td>8</td>\n",
              "      <td>2</td>\n",
              "      <td>0</td>\n",
              "      <td>1</td>\n",
              "      <td>7</td>\n",
              "      <td>32</td>\n",
              "      <td>4.333333</td>\n",
              "    </tr>\n",
              "    <tr>\n",
              "      <th>2</th>\n",
              "      <td>50</td>\n",
              "      <td>ablaze</td>\n",
              "      <td>africanbaze breaking newsnigeria flag set abla...</td>\n",
              "      <td>1</td>\n",
              "      <td>1</td>\n",
              "      <td>9</td>\n",
              "      <td>1</td>\n",
              "      <td>0</td>\n",
              "      <td>1</td>\n",
              "      <td>8</td>\n",
              "      <td>53</td>\n",
              "      <td>6.571428</td>\n",
              "    </tr>\n",
              "    <tr>\n",
              "      <th>3</th>\n",
              "      <td>52</td>\n",
              "      <td>ablaze</td>\n",
              "      <td>crying set ablaze</td>\n",
              "      <td>0</td>\n",
              "      <td>3</td>\n",
              "      <td>1</td>\n",
              "      <td>0</td>\n",
              "      <td>0</td>\n",
              "      <td>0</td>\n",
              "      <td>3</td>\n",
              "      <td>17</td>\n",
              "      <td>4.999998</td>\n",
              "    </tr>\n",
              "    <tr>\n",
              "      <th>4</th>\n",
              "      <td>53</td>\n",
              "      <td>ablaze</td>\n",
              "      <td>plus side look sky last night ablaze</td>\n",
              "      <td>0</td>\n",
              "      <td>0</td>\n",
              "      <td>5</td>\n",
              "      <td>0</td>\n",
              "      <td>0</td>\n",
              "      <td>9</td>\n",
              "      <td>8</td>\n",
              "      <td>37</td>\n",
              "      <td>4.285714</td>\n",
              "    </tr>\n",
              "  </tbody>\n",
              "</table>\n",
              "</div>"
            ],
            "text/plain": [
              "   id keyword  ... char_count  avg_word\n",
              "0  48  ablaze  ...         32  6.999998\n",
              "1  49  ablaze  ...         32  4.333333\n",
              "2  50  ablaze  ...         53  6.571428\n",
              "3  52  ablaze  ...         17  4.999998\n",
              "4  53  ablaze  ...         37  4.285714\n",
              "\n",
              "[5 rows x 12 columns]"
            ]
          },
          "metadata": {
            "tags": []
          },
          "execution_count": 49
        }
      ]
    },
    {
      "cell_type": "markdown",
      "metadata": {
        "id": "xiNgWnxdJ8TL",
        "colab_type": "text"
      },
      "source": [
        "### Removing urls"
      ]
    },
    {
      "cell_type": "code",
      "metadata": {
        "id": "Hs3vtpOj5tlF",
        "colab_type": "code",
        "outputId": "994c4e7d-3c9f-43cf-88fb-5060b71955f4",
        "colab": {
          "base_uri": "https://localhost:8080/",
          "height": 340
        }
      },
      "source": [
        "df.info()"
      ],
      "execution_count": 50,
      "outputs": [
        {
          "output_type": "stream",
          "text": [
            "<class 'pandas.core.frame.DataFrame'>\n",
            "Int64Index: 7551 entries, 0 to 7551\n",
            "Data columns (total 12 columns):\n",
            " #   Column       Non-Null Count  Dtype  \n",
            "---  ------       --------------  -----  \n",
            " 0   id           7551 non-null   int64  \n",
            " 1   keyword      7551 non-null   object \n",
            " 2   text         7551 non-null   object \n",
            " 3   target       7551 non-null   int64  \n",
            " 4   stopwords    7551 non-null   int64  \n",
            " 5   punctuation  7551 non-null   int64  \n",
            " 6   hastags      7551 non-null   int64  \n",
            " 7   numerics     7551 non-null   int64  \n",
            " 8   upper        7551 non-null   int64  \n",
            " 9   word_count   7551 non-null   int64  \n",
            " 10  char_count   7551 non-null   int64  \n",
            " 11  avg_word     7551 non-null   float64\n",
            "dtypes: float64(1), int64(9), object(2)\n",
            "memory usage: 766.9+ KB\n"
          ],
          "name": "stdout"
        }
      ]
    },
    {
      "cell_type": "code",
      "metadata": {
        "id": "RU4vbRYGEUtP",
        "colab_type": "code",
        "colab": {}
      },
      "source": [
        "df['text'] = df['text'].astype(str)"
      ],
      "execution_count": 0,
      "outputs": []
    },
    {
      "cell_type": "code",
      "metadata": {
        "id": "13WTXVdMEbwA",
        "colab_type": "code",
        "outputId": "110a0c45-127e-4585-ff8a-838930057652",
        "colab": {
          "base_uri": "https://localhost:8080/",
          "height": 340
        }
      },
      "source": [
        "df.info()"
      ],
      "execution_count": 52,
      "outputs": [
        {
          "output_type": "stream",
          "text": [
            "<class 'pandas.core.frame.DataFrame'>\n",
            "Int64Index: 7551 entries, 0 to 7551\n",
            "Data columns (total 12 columns):\n",
            " #   Column       Non-Null Count  Dtype  \n",
            "---  ------       --------------  -----  \n",
            " 0   id           7551 non-null   int64  \n",
            " 1   keyword      7551 non-null   object \n",
            " 2   text         7551 non-null   object \n",
            " 3   target       7551 non-null   int64  \n",
            " 4   stopwords    7551 non-null   int64  \n",
            " 5   punctuation  7551 non-null   int64  \n",
            " 6   hastags      7551 non-null   int64  \n",
            " 7   numerics     7551 non-null   int64  \n",
            " 8   upper        7551 non-null   int64  \n",
            " 9   word_count   7551 non-null   int64  \n",
            " 10  char_count   7551 non-null   int64  \n",
            " 11  avg_word     7551 non-null   float64\n",
            "dtypes: float64(1), int64(9), object(2)\n",
            "memory usage: 766.9+ KB\n"
          ],
          "name": "stdout"
        }
      ]
    },
    {
      "cell_type": "code",
      "metadata": {
        "trusted": true,
        "id": "WpDK9616J8TN",
        "colab_type": "code",
        "colab": {}
      },
      "source": [
        "def remove_url(text):\n",
        "    url = re.compile(r'https?://\\S+|www\\.\\S+')\n",
        "    return url.sub(r'', text)"
      ],
      "execution_count": 0,
      "outputs": []
    },
    {
      "cell_type": "code",
      "metadata": {
        "id": "fxYXKfq1DaPm",
        "colab_type": "code",
        "outputId": "09adf5b8-72c0-491a-b739-745a4654ed99",
        "colab": {
          "base_uri": "https://localhost:8080/",
          "height": 80
        }
      },
      "source": [
        "df.sample()"
      ],
      "execution_count": 54,
      "outputs": [
        {
          "output_type": "execute_result",
          "data": {
            "text/html": [
              "<div>\n",
              "<style scoped>\n",
              "    .dataframe tbody tr th:only-of-type {\n",
              "        vertical-align: middle;\n",
              "    }\n",
              "\n",
              "    .dataframe tbody tr th {\n",
              "        vertical-align: top;\n",
              "    }\n",
              "\n",
              "    .dataframe thead th {\n",
              "        text-align: right;\n",
              "    }\n",
              "</style>\n",
              "<table border=\"1\" class=\"dataframe\">\n",
              "  <thead>\n",
              "    <tr style=\"text-align: right;\">\n",
              "      <th></th>\n",
              "      <th>id</th>\n",
              "      <th>keyword</th>\n",
              "      <th>text</th>\n",
              "      <th>target</th>\n",
              "      <th>stopwords</th>\n",
              "      <th>punctuation</th>\n",
              "      <th>hastags</th>\n",
              "      <th>numerics</th>\n",
              "      <th>upper</th>\n",
              "      <th>word_count</th>\n",
              "      <th>char_count</th>\n",
              "      <th>avg_word</th>\n",
              "    </tr>\n",
              "  </thead>\n",
              "  <tbody>\n",
              "    <tr>\n",
              "      <th>3155</th>\n",
              "      <td>4575</td>\n",
              "      <td>emergency%20plan</td>\n",
              "      <td>bc costs less sick people using emergency room...</td>\n",
              "      <td>1</td>\n",
              "      <td>3</td>\n",
              "      <td>14</td>\n",
              "      <td>0</td>\n",
              "      <td>0</td>\n",
              "      <td>0</td>\n",
              "      <td>9</td>\n",
              "      <td>70</td>\n",
              "      <td>6.888888</td>\n",
              "    </tr>\n",
              "  </tbody>\n",
              "</table>\n",
              "</div>"
            ],
            "text/plain": [
              "        id           keyword  ... char_count  avg_word\n",
              "3155  4575  emergency%20plan  ...         70  6.888888\n",
              "\n",
              "[1 rows x 12 columns]"
            ]
          },
          "metadata": {
            "tags": []
          },
          "execution_count": 54
        }
      ]
    },
    {
      "cell_type": "code",
      "metadata": {
        "trusted": true,
        "id": "9G_uCumPJ8TR",
        "colab_type": "code",
        "colab": {}
      },
      "source": [
        "# remove all urls from df\n",
        "df['text'] = df['text'].apply(lambda x: remove_url(x))"
      ],
      "execution_count": 0,
      "outputs": []
    },
    {
      "cell_type": "markdown",
      "metadata": {
        "id": "xQ8FxAiMJ8TV",
        "colab_type": "text"
      },
      "source": [
        "### Removing HTML Tags"
      ]
    },
    {
      "cell_type": "code",
      "metadata": {
        "trusted": true,
        "id": "3PTM5HUAJ8TX",
        "colab_type": "code",
        "colab": {}
      },
      "source": [
        "def remove_html(text):\n",
        "    html=re.compile(r'<.*?>')\n",
        "    return html.sub(r'',text)"
      ],
      "execution_count": 0,
      "outputs": []
    },
    {
      "cell_type": "code",
      "metadata": {
        "trusted": true,
        "id": "9vbxCFdkJ8Tc",
        "colab_type": "code",
        "colab": {}
      },
      "source": [
        "# remove all html tags from df\n",
        "df['text'] = df['text'].apply(lambda x: remove_html(x))"
      ],
      "execution_count": 0,
      "outputs": []
    },
    {
      "cell_type": "markdown",
      "metadata": {
        "id": "dyvH42FZJ8Th",
        "colab_type": "text"
      },
      "source": [
        " ### Removing Emojis\n",
        " \n",
        " Emojis can be indactors of some emotionals that can be related to being disaster or not. So, later we should decide if we want to remove them from tweets or not."
      ]
    },
    {
      "cell_type": "code",
      "metadata": {
        "trusted": true,
        "id": "zhun21WHJ8Ti",
        "colab_type": "code",
        "colab": {}
      },
      "source": [
        "# Reference : https://gist.github.com/slowkow/7a7f61f495e3dbb7e3d767f97bd7304b\n",
        "def remove_emoji(text):\n",
        "    emoji_pattern = re.compile(\"[\"\n",
        "                           u\"\\U0001F600-\\U0001F64F\"  # emoticons\n",
        "                           u\"\\U0001F300-\\U0001F5FF\"  # symbols & pictographs\n",
        "                           u\"\\U0001F680-\\U0001F6FF\"  # transport & map symbols\n",
        "                           u\"\\U0001F1E0-\\U0001F1FF\"  # flags (iOS)\n",
        "                           u\"\\U00002702-\\U000027B0\"\n",
        "                           u\"\\U000024C2-\\U0001F251\"\n",
        "                           \"]+\", flags=re.UNICODE)\n",
        "    return emoji_pattern.sub(r'', text)"
      ],
      "execution_count": 0,
      "outputs": []
    },
    {
      "cell_type": "code",
      "metadata": {
        "trusted": true,
        "id": "pi0rfYdPJ8Tl",
        "colab_type": "code",
        "outputId": "884dd16e-ab77-4e0a-aaf8-8da5bfbab404",
        "colab": {
          "base_uri": "https://localhost:8080/",
          "height": 34
        }
      },
      "source": [
        "remove_emoji(\"Omg another Earthquake 😔😔\")"
      ],
      "execution_count": 59,
      "outputs": [
        {
          "output_type": "execute_result",
          "data": {
            "text/plain": [
              "'Omg another Earthquake '"
            ]
          },
          "metadata": {
            "tags": []
          },
          "execution_count": 59
        }
      ]
    },
    {
      "cell_type": "code",
      "metadata": {
        "trusted": true,
        "id": "Nusv4z57J8Tr",
        "colab_type": "code",
        "colab": {}
      },
      "source": [
        "# remove all emojis from df\n",
        "df['text'] = df['text'].apply(lambda x: remove_emoji(x))"
      ],
      "execution_count": 0,
      "outputs": []
    },
    {
      "cell_type": "markdown",
      "metadata": {
        "id": "flnXDR5IJ8Tu",
        "colab_type": "text"
      },
      "source": [
        "### Removing Punctuations"
      ]
    },
    {
      "cell_type": "code",
      "metadata": {
        "trusted": true,
        "id": "m0bWTvOfJ8Tw",
        "colab_type": "code",
        "outputId": "7845edfb-1fcc-4b72-f7bc-ae50f652ca72",
        "colab": {
          "base_uri": "https://localhost:8080/",
          "height": 34
        }
      },
      "source": [
        "def remove_punct(text):\n",
        "    table=str.maketrans('','',string.punctuation)\n",
        "    return text.translate(table)\n",
        "\n",
        "example=\"I am a #king\"\n",
        "print(remove_punct(example))"
      ],
      "execution_count": 61,
      "outputs": [
        {
          "output_type": "stream",
          "text": [
            "I am a king\n"
          ],
          "name": "stdout"
        }
      ]
    },
    {
      "cell_type": "code",
      "metadata": {
        "trusted": true,
        "id": "k1PgCtVSJ8T0",
        "colab_type": "code",
        "colab": {}
      },
      "source": [
        "# remove all punctuations from df\n",
        "df['text'] = df['text'].apply(lambda x: remove_punct(x))"
      ],
      "execution_count": 0,
      "outputs": []
    },
    {
      "cell_type": "markdown",
      "metadata": {
        "id": "WM5At_LCJ8T4",
        "colab_type": "text"
      },
      "source": [
        "### Spelling Correction"
      ]
    },
    {
      "cell_type": "markdown",
      "metadata": {
        "id": "MdYXqxFoJ8T4",
        "colab_type": "text"
      },
      "source": [
        "Couldn't install spellchecker package on kaggle teminal!"
      ]
    },
    {
      "cell_type": "code",
      "metadata": {
        "trusted": true,
        "id": "M1gAqdylJ8T6",
        "colab_type": "code",
        "colab": {}
      },
      "source": [
        "# from spellchecker import SpellChecker\n",
        "\n",
        "# spell = SpellChecker()\n",
        "# def correct_spellings(text):\n",
        "#     corrected_text = []\n",
        "#     misspelled_words = spell.unknown(text.split())\n",
        "#     for word in text.split():\n",
        "#         if word in misspelled_words:\n",
        "#             corrected_text.append(spell.correction(word))\n",
        "#         else:\n",
        "#             corrected_text.append(word)\n",
        "#     return \" \".join(corrected_text)\n",
        "        \n",
        "# text = \"corect me plese\"\n",
        "# correct_spellings(text)"
      ],
      "execution_count": 0,
      "outputs": []
    },
    {
      "cell_type": "code",
      "metadata": {
        "trusted": true,
        "id": "MmBSaEqcJ8T-",
        "colab_type": "code",
        "colab": {}
      },
      "source": [
        "# df['text'] = df['text'].apply(lambda x : correct_spellings(x))"
      ],
      "execution_count": 0,
      "outputs": []
    },
    {
      "cell_type": "markdown",
      "metadata": {
        "id": "SsURyvu1J8UB",
        "colab_type": "text"
      },
      "source": [
        "### Glove for Vectorization\n",
        "\n",
        "Loot at what this is and try to utulize"
      ]
    },
    {
      "cell_type": "code",
      "metadata": {
        "trusted": true,
        "id": "k1-sUzs3J8UD",
        "colab_type": "code",
        "colab": {}
      },
      "source": [
        "def create_corpus(df):\n",
        "    corpus = []\n",
        "    for tweet in tqdm(df['text']):\n",
        "        words = [word.lower() for word in word_tokenize(tweet) if ((word not in stop_words) & (word.isalpha()==1))]\n",
        "        corpus.append(words)\n",
        "    return corpus"
      ],
      "execution_count": 0,
      "outputs": []
    },
    {
      "cell_type": "code",
      "metadata": {
        "trusted": true,
        "id": "9fM70nNIJ8UG",
        "colab_type": "code",
        "outputId": "0fc27ed4-43ad-4176-cdf9-b5e59e0608e4",
        "colab": {
          "base_uri": "https://localhost:8080/",
          "height": 34
        }
      },
      "source": [
        "corpus = create_corpus(df)"
      ],
      "execution_count": 66,
      "outputs": [
        {
          "output_type": "stream",
          "text": [
            "100%|██████████| 7551/7551 [00:00<00:00, 7952.98it/s]\n"
          ],
          "name": "stderr"
        }
      ]
    },
    {
      "cell_type": "code",
      "metadata": {
        "trusted": true,
        "id": "AlZOOJRLJ8UK",
        "colab_type": "code",
        "outputId": "2da0d498-4dea-45e6-9d5f-b35471b9173e",
        "colab": {
          "base_uri": "https://localhost:8080/",
          "height": 34
        }
      },
      "source": [
        "! ls ../input/nlp-getting-started"
      ],
      "execution_count": 67,
      "outputs": [
        {
          "output_type": "stream",
          "text": [
            "ls: cannot access '../input/nlp-getting-started': No such file or directory\n"
          ],
          "name": "stdout"
        }
      ]
    },
    {
      "cell_type": "code",
      "metadata": {
        "trusted": true,
        "id": "AgiVJU5uJ8UO",
        "colab_type": "code",
        "outputId": "1cb97161-ff12-4a3e-f0d8-c9238231ca3c",
        "colab": {
          "base_uri": "https://localhost:8080/",
          "height": 357
        }
      },
      "source": [
        "!wget http://nlp.stanford.edu/data/glove.6B.zip #We need to explore the usage of this"
      ],
      "execution_count": 68,
      "outputs": [
        {
          "output_type": "stream",
          "text": [
            "--2020-05-16 02:57:44--  http://nlp.stanford.edu/data/glove.6B.zip\n",
            "Resolving nlp.stanford.edu (nlp.stanford.edu)... 171.64.67.140\n",
            "Connecting to nlp.stanford.edu (nlp.stanford.edu)|171.64.67.140|:80... connected.\n",
            "HTTP request sent, awaiting response... 302 Found\n",
            "Location: https://nlp.stanford.edu/data/glove.6B.zip [following]\n",
            "--2020-05-16 02:57:44--  https://nlp.stanford.edu/data/glove.6B.zip\n",
            "Connecting to nlp.stanford.edu (nlp.stanford.edu)|171.64.67.140|:443... connected.\n",
            "HTTP request sent, awaiting response... 301 Moved Permanently\n",
            "Location: http://downloads.cs.stanford.edu/nlp/data/glove.6B.zip [following]\n",
            "--2020-05-16 02:57:44--  http://downloads.cs.stanford.edu/nlp/data/glove.6B.zip\n",
            "Resolving downloads.cs.stanford.edu (downloads.cs.stanford.edu)... 171.64.64.22\n",
            "Connecting to downloads.cs.stanford.edu (downloads.cs.stanford.edu)|171.64.64.22|:80... connected.\n",
            "HTTP request sent, awaiting response... 200 OK\n",
            "Length: 862182613 (822M) [application/zip]\n",
            "Saving to: ‘glove.6B.zip’\n",
            "\n",
            "glove.6B.zip        100%[===================>] 822.24M  2.12MB/s    in 6m 28s  \n",
            "\n",
            "2020-05-16 03:04:12 (2.12 MB/s) - ‘glove.6B.zip’ saved [862182613/862182613]\n",
            "\n"
          ],
          "name": "stdout"
        }
      ]
    },
    {
      "cell_type": "code",
      "metadata": {
        "trusted": true,
        "id": "AxxmP0OMJ8US",
        "colab_type": "code",
        "outputId": "541d1561-0ffd-4041-9d5c-5af7bf3b1af3",
        "colab": {
          "base_uri": "https://localhost:8080/",
          "height": 34
        }
      },
      "source": [
        "! ls"
      ],
      "execution_count": 69,
      "outputs": [
        {
          "output_type": "stream",
          "text": [
            "glove.6B.zip  sample_data\n"
          ],
          "name": "stdout"
        }
      ]
    },
    {
      "cell_type": "code",
      "metadata": {
        "trusted": true,
        "id": "TjR3-Vo8J8UW",
        "colab_type": "code",
        "outputId": "0f528c07-4733-4e72-ddae-7a962964bfc5",
        "colab": {
          "base_uri": "https://localhost:8080/",
          "height": 204
        }
      },
      "source": [
        "df.sample(5)"
      ],
      "execution_count": 70,
      "outputs": [
        {
          "output_type": "execute_result",
          "data": {
            "text/html": [
              "<div>\n",
              "<style scoped>\n",
              "    .dataframe tbody tr th:only-of-type {\n",
              "        vertical-align: middle;\n",
              "    }\n",
              "\n",
              "    .dataframe tbody tr th {\n",
              "        vertical-align: top;\n",
              "    }\n",
              "\n",
              "    .dataframe thead th {\n",
              "        text-align: right;\n",
              "    }\n",
              "</style>\n",
              "<table border=\"1\" class=\"dataframe\">\n",
              "  <thead>\n",
              "    <tr style=\"text-align: right;\">\n",
              "      <th></th>\n",
              "      <th>id</th>\n",
              "      <th>keyword</th>\n",
              "      <th>text</th>\n",
              "      <th>target</th>\n",
              "      <th>stopwords</th>\n",
              "      <th>punctuation</th>\n",
              "      <th>hastags</th>\n",
              "      <th>numerics</th>\n",
              "      <th>upper</th>\n",
              "      <th>word_count</th>\n",
              "      <th>char_count</th>\n",
              "      <th>avg_word</th>\n",
              "    </tr>\n",
              "  </thead>\n",
              "  <tbody>\n",
              "    <tr>\n",
              "      <th>5225</th>\n",
              "      <td>7517</td>\n",
              "      <td>oil%20spill</td>\n",
              "      <td>national briefing west california spring oil s...</td>\n",
              "      <td>1</td>\n",
              "      <td>1</td>\n",
              "      <td>12</td>\n",
              "      <td>0</td>\n",
              "      <td>0</td>\n",
              "      <td>0</td>\n",
              "      <td>14</td>\n",
              "      <td>103</td>\n",
              "      <td>6.923076</td>\n",
              "    </tr>\n",
              "    <tr>\n",
              "      <th>4502</th>\n",
              "      <td>6446</td>\n",
              "      <td>injured</td>\n",
              "      <td>terrorists attack police post  spos injured ht...</td>\n",
              "      <td>1</td>\n",
              "      <td>0</td>\n",
              "      <td>7</td>\n",
              "      <td>1</td>\n",
              "      <td>1</td>\n",
              "      <td>1</td>\n",
              "      <td>9</td>\n",
              "      <td>65</td>\n",
              "      <td>7.124999</td>\n",
              "    </tr>\n",
              "    <tr>\n",
              "      <th>1353</th>\n",
              "      <td>1995</td>\n",
              "      <td>bush%20fires</td>\n",
              "      <td>drought fuels bush fires jamaica   jamaicaobse...</td>\n",
              "      <td>1</td>\n",
              "      <td>1</td>\n",
              "      <td>19</td>\n",
              "      <td>0</td>\n",
              "      <td>0</td>\n",
              "      <td>1</td>\n",
              "      <td>10</td>\n",
              "      <td>61</td>\n",
              "      <td>7.428570</td>\n",
              "    </tr>\n",
              "    <tr>\n",
              "      <th>4175</th>\n",
              "      <td>5975</td>\n",
              "      <td>hazard</td>\n",
              "      <td>pm hazard high traffic area  deans bridge rd</td>\n",
              "      <td>1</td>\n",
              "      <td>1</td>\n",
              "      <td>10</td>\n",
              "      <td>0</td>\n",
              "      <td>1</td>\n",
              "      <td>9</td>\n",
              "      <td>11</td>\n",
              "      <td>46</td>\n",
              "      <td>4.499999</td>\n",
              "    </tr>\n",
              "    <tr>\n",
              "      <th>6793</th>\n",
              "      <td>9774</td>\n",
              "      <td>trapped</td>\n",
              "      <td>hollywood movie trapped miners released chile</td>\n",
              "      <td>0</td>\n",
              "      <td>2</td>\n",
              "      <td>0</td>\n",
              "      <td>0</td>\n",
              "      <td>0</td>\n",
              "      <td>0</td>\n",
              "      <td>6</td>\n",
              "      <td>45</td>\n",
              "      <td>6.666666</td>\n",
              "    </tr>\n",
              "  </tbody>\n",
              "</table>\n",
              "</div>"
            ],
            "text/plain": [
              "        id       keyword  ... char_count  avg_word\n",
              "5225  7517   oil%20spill  ...        103  6.923076\n",
              "4502  6446       injured  ...         65  7.124999\n",
              "1353  1995  bush%20fires  ...         61  7.428570\n",
              "4175  5975        hazard  ...         46  4.499999\n",
              "6793  9774       trapped  ...         45  6.666666\n",
              "\n",
              "[5 rows x 12 columns]"
            ]
          },
          "metadata": {
            "tags": []
          },
          "execution_count": 70
        }
      ]
    },
    {
      "cell_type": "code",
      "metadata": {
        "id": "uoz9iJyky9BW",
        "colab_type": "code",
        "outputId": "131603e6-7c95-4fb8-9662-7f404724dfe6",
        "colab": {
          "base_uri": "https://localhost:8080/",
          "height": 386
        }
      },
      "source": [
        "# Now, let's take a look at the punctuation number for tweets\n",
        "\n",
        "plt.figure(figsize=(12,10), dpi= 100 )\n",
        "# sns.set(font_scale=1)\n",
        "\n",
        "with sns.axes_style('white'):\n",
        "    g = sns.catplot( 'punctuation', data= df, aspect= 2, kind='count', \n",
        "                    hue='target', hue_order=df['target'].value_counts().sort_values(ascending=False).index)\n",
        "    g.set_ylabels('Number of Tweets')\n",
        "    g.set_xlabels('Number of Punction')\n",
        "    g.set_titles('Distrubition of Number of Punction for Tweets')"
      ],
      "execution_count": 71,
      "outputs": [
        {
          "output_type": "display_data",
          "data": {
            "text/plain": [
              "<Figure size 1200x1000 with 0 Axes>"
            ]
          },
          "metadata": {
            "tags": []
          }
        },
        {
          "output_type": "display_data",
          "data": {
            "image/png": "[encoded data removed]",
            "text/plain": [
              "<Figure size 762.375x360 with 1 Axes>"
            ]
          },
          "metadata": {
            "tags": []
          }
        }
      ]
    },
    {
      "cell_type": "markdown",
      "metadata": {
        "id": "7ncf143AIrrn",
        "colab_type": "text"
      },
      "source": [
        "Until number of punction is 5, no disaster tweets have has more number of tweets. In the other words,  no disaster tweets use less punction.\n",
        "\n",
        "\n",
        "##### **Keep in mind:**  \n",
        "    Number of disaster tweets: 3229\n",
        "    Number of no disaster tweets: 4323"
      ]
    },
    {
      "cell_type": "code",
      "metadata": {
        "id": "9mLKr4GYLjFv",
        "colab_type": "code",
        "outputId": "87f585dc-e99e-4155-b366-7b974b0e1633",
        "colab": {
          "base_uri": "https://localhost:8080/",
          "height": 80
        }
      },
      "source": [
        "df.sample()"
      ],
      "execution_count": 72,
      "outputs": [
        {
          "output_type": "execute_result",
          "data": {
            "text/html": [
              "<div>\n",
              "<style scoped>\n",
              "    .dataframe tbody tr th:only-of-type {\n",
              "        vertical-align: middle;\n",
              "    }\n",
              "\n",
              "    .dataframe tbody tr th {\n",
              "        vertical-align: top;\n",
              "    }\n",
              "\n",
              "    .dataframe thead th {\n",
              "        text-align: right;\n",
              "    }\n",
              "</style>\n",
              "<table border=\"1\" class=\"dataframe\">\n",
              "  <thead>\n",
              "    <tr style=\"text-align: right;\">\n",
              "      <th></th>\n",
              "      <th>id</th>\n",
              "      <th>keyword</th>\n",
              "      <th>text</th>\n",
              "      <th>target</th>\n",
              "      <th>stopwords</th>\n",
              "      <th>punctuation</th>\n",
              "      <th>hastags</th>\n",
              "      <th>numerics</th>\n",
              "      <th>upper</th>\n",
              "      <th>word_count</th>\n",
              "      <th>char_count</th>\n",
              "      <th>avg_word</th>\n",
              "    </tr>\n",
              "  </thead>\n",
              "  <tbody>\n",
              "    <tr>\n",
              "      <th>4377</th>\n",
              "      <td>6267</td>\n",
              "      <td>hijacking</td>\n",
              "      <td>hot funtenna hijacking computers send data sou...</td>\n",
              "      <td>0</td>\n",
              "      <td>2</td>\n",
              "      <td>11</td>\n",
              "      <td>3</td>\n",
              "      <td>0</td>\n",
              "      <td>0</td>\n",
              "      <td>14</td>\n",
              "      <td>80</td>\n",
              "      <td>5.583333</td>\n",
              "    </tr>\n",
              "  </tbody>\n",
              "</table>\n",
              "</div>"
            ],
            "text/plain": [
              "        id    keyword  ... char_count  avg_word\n",
              "4377  6267  hijacking  ...         80  5.583333\n",
              "\n",
              "[1 rows x 12 columns]"
            ]
          },
          "metadata": {
            "tags": []
          },
          "execution_count": 72
        }
      ]
    },
    {
      "cell_type": "code",
      "metadata": {
        "id": "CNFk_RWDGMM6",
        "colab_type": "code",
        "outputId": "376ca6ac-61f4-4d2b-cde8-6cac2e439573",
        "colab": {
          "base_uri": "https://localhost:8080/",
          "height": 542
        }
      },
      "source": [
        "\n",
        "import plotly.express as px\n",
        "fig = px.histogram(df, x=\"char_count\",color=\"target\", marginal=\"rug\",\n",
        "                   title='Distiribtion of number of character',\n",
        "                   labels={'char_count':'Distiribtion of number of character'})\n",
        "fig.show()\n"
      ],
      "execution_count": 73,
      "outputs": [
        {
          "output_type": "display_data",
          "data": {
            "text/html": [
              "<html>\n",
              "<head><meta charset=\"utf-8\" /></head>\n",
              "<body>\n",
              "    <div>\n",
              "            <script src=\"https://cdnjs.cloudflare.com/ajax/libs/mathjax/2.7.5/MathJax.js?config=TeX-AMS-MML_SVG\"></script><script type=\"text/javascript\">if (window.MathJax) {MathJax.Hub.Config({SVG: {font: \"STIX-Web\"}});}</script>\n",
              "                <script type=\"text/javascript\">window.PlotlyConfig = {MathJaxConfig: 'local'};</script>\n",
              "        <script src=\"https://cdn.plot.ly/plotly-latest.min.js\"></script>    \n",
              "            <div id=\"7eb19d15-fec8-4d82-83a1-a7689f49af2f\" class=\"plotly-graph-div\" style=\"height:525px; width:100%;\"></div>\n",
              "            <script type=\"text/javascript\">\n",
              "                \n",
              "                    window.PLOTLYENV=window.PLOTLYENV || {};\n",
              "                    \n",
              "                if (document.getElementById(\"7eb19d15-fec8-4d82-83a1-a7689f49af2f\")) {\n",
              "                    Plotly.newPlot(\n",
              "                        '7eb19d15-fec8-4d82-83a1-a7689f49af2f',\n",
              "                        [{\"alignmentgroup\": \"True\", \"bingroup\": \"x\", \"hoverlabel\": {\"namelength\": 0}, \"hovertemplate\": \"target=1<br>Distiribtion of number of character=%{x}<br>count=%{y}\", \"legendgroup\": \"target=1\", \"marker\": {\"color\": \"#636efa\"}, \"name\": \"target=1\", \"offsetgroup\": \"target=1\", \"orientation\": \"v\", \"showlegend\": true, \"type\": \"histogram\", \"x\": [32, 53, 28, 103, 56, 43, 49, 69, 93, 63, 72, 75, 67, 58, 96, 104, 35, 73, 48, 73, 42, 70, 55, 37, 89, 49, 108, 94, 44, 33, 47, 49, 26, 97, 84, 61, 90, 118, 84, 118, 78, 83, 46, 43, 115, 57, 107, 121, 68, 100, 84, 34, 43, 62, 101, 60, 103, 101, 73, 99, 63, 69, 121, 17, 71, 27, 90, 76, 63, 62, 95, 106, 62, 50, 78, 80, 51, 97, 62, 35, 70, 63, 63, 63, 72, 72, 63, 16, 87, 85, 85, 89, 69, 31, 101, 75, 68, 66, 93, 38, 54, 99, 99, 60, 82, 69, 93, 99, 81, 85, 52, 30, 92, 64, 69, 24, 71, 44, 11, 59, 59, 91, 96, 49, 43, 70, 87, 99, 73, 53, 76, 70, 70, 55, 42, 59, 68, 89, 40, 99, 82, 89, 70, 87, 51, 84, 72, 73, 55, 36, 42, 58, 72, 90, 55, 60, 51, 69, 81, 43, 89, 56, 48, 60, 75, 51, 73, 72, 78, 75, 62, 66, 114, 78, 55, 107, 99, 76, 64, 74, 38, 77, 100, 70, 78, 78, 78, 73, 37, 78, 78, 78, 64, 78, 78, 78, 78, 78, 78, 78, 102, 78, 78, 44, 75, 43, 97, 86, 77, 40, 83, 53, 69, 77, 89, 78, 86, 96, 110, 98, 70, 88, 84, 64, 92, 94, 67, 97, 77, 77, 64, 64, 97, 77, 22, 91, 105, 102, 78, 64, 125, 112, 92, 106, 113, 41, 91, 125, 22, 96, 97, 97, 75, 30, 102, 55, 36, 70, 62, 76, 77, 36, 35, 41, 31, 52, 55, 59, 52, 75, 83, 59, 65, 24, 55, 85, 14, 41, 50, 99, 30, 101, 106, 63, 97, 92, 85, 80, 73, 24, 72, 71, 30, 78, 67, 62, 75, 78, 51, 61, 34, 83, 68, 74, 34, 78, 45, 67, 75, 93, 78, 84, 44, 90, 102, 84, 93, 70, 37, 89, 75, 73, 72, 64, 74, 52, 61, 93, 76, 63, 54, 100, 74, 114, 81, 61, 93, 71, 41, 54, 45, 50, 50, 50, 67, 88, 74, 73, 50, 53, 93, 55, 100, 113, 62, 91, 65, 117, 89, 49, 94, 65, 67, 84, 71, 62, 112, 71, 65, 59, 94, 54, 54, 99, 67, 111, 54, 54, 56, 65, 104, 54, 87, 68, 69, 70, 71, 89, 68, 75, 82, 80, 95, 46, 26, 97, 113, 69, 53, 84, 55, 66, 97, 32, 47, 118, 107, 101, 81, 102, 62, 47, 41, 46, 101, 75, 74, 70, 19, 63, 66, 105, 95, 80, 19, 48, 71, 95, 120, 39, 52, 88, 86, 113, 96, 104, 70, 62, 62, 61, 105, 79, 92, 70, 80, 81, 35, 97, 24, 12, 33, 42, 91, 116, 72, 76, 75, 88, 98, 89, 49, 32, 77, 90, 51, 68, 92, 39, 97, 50, 103, 82, 50, 62, 34, 71, 87, 53, 49, 95, 62, 80, 24, 17, 87, 37, 61, 103, 94, 57, 100, 19, 88, 93, 66, 51, 60, 102, 94, 73, 86, 38, 25, 54, 89, 82, 89, 57, 100, 77, 51, 96, 83, 69, 102, 61, 85, 94, 53, 61, 41, 87, 70, 97, 104, 87, 64, 66, 79, 105, 82, 55, 83, 83, 45, 65, 98, 60, 74, 79, 79, 107, 38, 100, 73, 73, 73, 89, 52, 73, 70, 73, 85, 49, 69, 90, 49, 90, 49, 35, 109, 66, 77, 111, 104, 119, 63, 64, 112, 138, 91, 108, 79, 56, 89, 63, 71, 61, 38, 86, 18, 66, 95, 90, 59, 46, 86, 89, 58, 115, 99, 61, 31, 31, 51, 76, 112, 36, 52, 32, 75, 72, 84, 57, 55, 93, 67, 75, 74, 62, 51, 83, 70, 35, 84, 96, 113, 68, 62, 90, 78, 63, 48, 99, 96, 60, 82, 97, 97, 68, 89, 90, 81, 82, 47, 74, 69, 85, 47, 87, 61, 45, 74, 63, 45, 82, 87, 51, 87, 103, 58, 53, 46, 90, 57, 46, 89, 98, 78, 92, 71, 74, 36, 50, 81, 57, 73, 42, 32, 50, 33, 47, 20, 114, 11, 11, 34, 43, 42, 92, 53, 78, 88, 84, 112, 51, 87, 90, 52, 30, 36, 28, 80, 75, 96, 97, 117, 75, 86, 50, 49, 26, 20, 48, 16, 22, 82, 17, 101, 117, 112, 51, 83, 69, 76, 59, 53, 81, 58, 90, 62, 49, 80, 92, 68, 64, 83, 91, 88, 68, 77, 110, 113, 65, 40, 37, 28, 73, 57, 55, 86, 64, 63, 124, 58, 17, 61, 86, 82, 93, 38, 78, 64, 84, 27, 57, 84, 31, 84, 86, 84, 86, 91, 83, 40, 58, 23, 26, 44, 28, 50, 54, 14, 74, 116, 54, 102, 77, 93, 42, 81, 98, 77, 110, 89, 50, 8, 89, 81, 79, 53, 40, 85, 104, 72, 86, 85, 44, 81, 65, 69, 109, 80, 92, 60, 63, 17, 60, 61, 60, 76, 66, 66, 89, 60, 62, 106, 56, 96, 68, 74, 60, 48, 48, 41, 71, 40, 44, 61, 67, 71, 107, 97, 51, 89, 22, 86, 86, 46, 74, 39, 88, 91, 65, 86, 43, 50, 61, 100, 79, 53, 81, 61, 94, 83, 92, 80, 82, 68, 109, 97, 72, 47, 88, 47, 77, 90, 42, 94, 48, 70, 53, 73, 46, 67, 77, 105, 80, 67, 68, 38, 24, 67, 82, 43, 80, 47, 35, 48, 67, 67, 77, 94, 95, 69, 87, 48, 100, 50, 37, 87, 99, 91, 101, 73, 88, 67, 103, 83, 80, 56, 67, 51, 93, 124, 33, 62, 75, 62, 80, 97, 94, 88, 76, 71, 93, 62, 112, 60, 112, 69, 62, 78, 112, 68, 61, 82, 73, 59, 107, 54, 99, 92, 82, 55, 59, 58, 74, 57, 69, 96, 33, 76, 93, 62, 94, 47, 85, 52, 83, 39, 75, 43, 90, 105, 83, 58, 79, 107, 28, 63, 93, 53, 100, 82, 101, 55, 96, 61, 87, 81, 89, 114, 104, 87, 43, 90, 96, 52, 84, 59, 41, 86, 29, 48, 87, 107, 62, 76, 34, 94, 96, 66, 69, 68, 49, 68, 86, 92, 55, 63, 70, 78, 84, 91, 114, 94, 59, 116, 95, 99, 78, 99, 99, 99, 42, 61, 49, 99, 38, 70, 84, 78, 85, 105, 85, 85, 71, 85, 85, 93, 85, 85, 88, 85, 115, 85, 77, 85, 85, 77, 99, 85, 85, 65, 91, 49, 78, 99, 105, 18, 66, 104, 62, 67, 77, 55, 92, 103, 75, 55, 98, 62, 94, 50, 79, 85, 94, 87, 59, 85, 59, 94, 94, 94, 71, 100, 98, 79, 98, 49, 69, 99, 59, 69, 80, 91, 63, 28, 28, 63, 88, 46, 39, 99, 53, 91, 51, 107, 62, 109, 78, 67, 55, 12, 65, 72, 100, 72, 98, 21, 42, 77, 42, 88, 88, 27, 106, 21, 52, 82, 78, 67, 40, 44, 49, 84, 52, 73, 39, 80, 52, 86, 87, 36, 18, 48, 51, 39, 72, 67, 94, 75, 72, 64, 87, 97, 80, 89, 19, 40, 67, 87, 75, 40, 17, 85, 84, 29, 75, 68, 76, 55, 72, 55, 97, 48, 74, 87, 93, 74, 53, 52, 77, 46, 67, 97, 55, 89, 43, 57, 53, 75, 70, 45, 43, 90, 31, 20, 93, 16, 49, 47, 73, 60, 56, 78, 108, 41, 62, 67, 77, 113, 82, 77, 78, 91, 114, 108, 41, 105, 22, 120, 59, 114, 117, 80, 103, 34, 122, 109, 105, 95, 60, 81, 71, 73, 81, 85, 48, 89, 72, 44, 70, 111, 98, 86, 90, 112, 115, 89, 71, 63, 67, 55, 91, 67, 69, 101, 61, 55, 95, 63, 36, 97, 111, 36, 73, 90, 114, 90, 80, 90, 66, 80, 90, 41, 99, 61, 68, 73, 90, 90, 99, 74, 79, 86, 97, 94, 76, 76, 43, 38, 54, 96, 67, 88, 80, 77, 67, 75, 65, 82, 73, 76, 58, 50, 91, 72, 69, 26, 57, 80, 50, 97, 69, 14, 77, 101, 87, 100, 94, 105, 55, 71, 82, 90, 60, 51, 41, 101, 54, 41, 96, 56, 11, 46, 68, 52, 76, 111, 92, 50, 102, 91, 62, 102, 63, 59, 64, 88, 110, 105, 99, 99, 91, 56, 90, 99, 118, 83, 88, 58, 110, 89, 40, 83, 69, 51, 82, 47, 40, 86, 29, 44, 66, 22, 41, 79, 75, 98, 89, 87, 87, 69, 60, 100, 56, 58, 71, 70, 45, 61, 101, 75, 24, 69, 49, 79, 26, 49, 65, 63, 95, 103, 62, 91, 87, 92, 67, 47, 44, 90, 103, 98, 102, 60, 103, 68, 57, 110, 77, 85, 27, 68, 78, 102, 77, 89, 100, 82, 94, 69, 101, 96, 45, 67, 86, 103, 81, 79, 75, 92, 86, 51, 44, 61, 75, 75, 82, 92, 68, 85, 75, 66, 75, 51, 75, 75, 72, 89, 75, 51, 29, 75, 75, 68, 57, 84, 84, 80, 92, 46, 59, 116, 45, 82, 54, 52, 73, 79, 76, 58, 73, 50, 84, 79, 96, 96, 99, 89, 107, 56, 17, 46, 45, 67, 70, 96, 9, 61, 70, 96, 27, 105, 78, 25, 36, 64, 33, 24, 25, 23, 87, 62, 19, 50, 35, 68, 92, 37, 77, 85, 49, 95, 70, 98, 42, 92, 62, 96, 23, 75, 96, 93, 37, 29, 36, 92, 80, 67, 102, 89, 106, 66, 85, 56, 66, 68, 96, 91, 97, 115, 94, 50, 78, 84, 109, 18, 53, 104, 84, 93, 96, 105, 84, 99, 83, 95, 22, 95, 55, 95, 31, 62, 60, 80, 73, 79, 60, 65, 89, 44, 77, 64, 66, 104, 47, 43, 97, 81, 9, 78, 87, 59, 112, 47, 59, 57, 85, 105, 56, 31, 77, 60, 90, 74, 88, 59, 104, 81, 101, 86, 85, 64, 101, 82, 50, 65, 30, 96, 85, 86, 61, 91, 52, 53, 115, 76, 50, 119, 53, 52, 31, 73, 21, 54, 118, 84, 77, 67, 27, 41, 95, 41, 32, 78, 30, 41, 82, 54, 101, 21, 91, 63, 98, 47, 112, 45, 80, 72, 69, 86, 31, 111, 39, 96, 47, 91, 80, 72, 50, 73, 91, 68, 63, 107, 77, 132, 69, 56, 80, 92, 95, 61, 109, 97, 93, 81, 27, 25, 55, 93, 108, 39, 71, 111, 88, 106, 94, 40, 65, 70, 44, 20, 61, 47, 95, 92, 47, 55, 55, 70, 54, 24, 60, 90, 83, 65, 76, 74, 71, 69, 93, 88, 51, 118, 45, 25, 46, 71, 62, 107, 111, 41, 44, 83, 41, 98, 68, 44, 44, 38, 64, 41, 38, 83, 82, 41, 82, 58, 68, 44, 41, 76, 82, 54, 67, 82, 52, 76, 32, 98, 102, 73, 33, 66, 72, 88, 70, 45, 77, 79, 71, 64, 87, 22, 56, 76, 67, 72, 87, 106, 33, 67, 67, 55, 92, 96, 68, 82, 52, 73, 106, 49, 83, 76, 72, 65, 56, 72, 72, 73, 93, 34, 66, 43, 107, 40, 51, 43, 70, 73, 61, 28, 43, 89, 61, 56, 70, 74, 43, 80, 85, 43, 104, 80, 73, 61, 61, 80, 80, 43, 65, 43, 80, 97, 74, 65, 72, 53, 85, 55, 55, 76, 72, 84, 68, 56, 92, 48, 102, 90, 73, 102, 56, 120, 58, 73, 73, 56, 71, 51, 96, 55, 99, 46, 90, 102, 88, 74, 115, 71, 77, 73, 73, 97, 101, 29, 67, 50, 18, 46, 35, 22, 14, 76, 25, 14, 45, 92, 112, 85, 102, 67, 75, 19, 54, 102, 95, 46, 85, 90, 65, 97, 82, 83, 30, 83, 100, 122, 96, 78, 92, 71, 101, 67, 97, 122, 82, 83, 105, 75, 61, 124, 98, 29, 57, 85, 84, 89, 55, 70, 50, 57, 55, 96, 61, 42, 36, 48, 48, 93, 114, 109, 51, 76, 50, 79, 113, 27, 121, 45, 86, 70, 57, 52, 77, 78, 64, 70, 82, 52, 46, 29, 69, 21, 69, 61, 71, 27, 71, 100, 81, 72, 94, 37, 57, 49, 72, 80, 66, 89, 58, 59, 60, 76, 89, 73, 89, 57, 94, 106, 65, 59, 40, 93, 65, 88, 30, 92, 63, 37, 92, 79, 104, 65, 79, 62, 78, 78, 79, 91, 34, 65, 79, 92, 86, 60, 109, 68, 78, 86, 70, 86, 117, 80, 81, 54, 114, 45, 89, 24, 89, 46, 54, 63, 56, 36, 66, 85, 84, 59, 50, 73, 92, 76, 71, 63, 91, 43, 76, 12, 77, 99, 38, 74, 99, 93, 49, 90, 85, 77, 91, 70, 53, 50, 40, 24, 54, 83, 51, 81, 92, 71, 46, 70, 73, 104, 71, 70, 36, 50, 83, 50, 82, 28, 28, 73, 21, 24, 69, 93, 97, 55, 66, 74, 30, 102, 90, 81, 72, 63, 59, 69, 88, 85, 40, 92, 88, 99, 74, 65, 98, 97, 118, 88, 41, 48, 84, 57, 100, 57, 55, 73, 106, 91, 87, 74, 85, 75, 82, 96, 69, 51, 98, 62, 57, 82, 100, 111, 103, 51, 87, 100, 89, 82, 83, 53, 93, 94, 72, 60, 82, 78, 92, 89, 71, 77, 95, 103, 44, 111, 72, 118, 58, 24, 61, 91, 79, 100, 57, 68, 48, 48, 65, 48, 48, 87, 94, 59, 75, 103, 87, 61, 48, 74, 107, 94, 99, 85, 90, 70, 46, 65, 48, 53, 53, 67, 70, 86, 48, 57, 48, 68, 79, 90, 79, 53, 102, 78, 62, 79, 95, 54, 79, 79, 90, 79, 79, 79, 96, 79, 84, 79, 79, 44, 79, 79, 79, 79, 96, 52, 89, 79, 62, 95, 78, 79, 96, 89, 79, 86, 94, 57, 56, 24, 27, 56, 69, 57, 113, 79, 43, 81, 60, 36, 68, 85, 86, 111, 84, 106, 93, 86, 76, 88, 93, 59, 72, 80, 81, 86, 80, 65, 63, 59, 96, 75, 85, 54, 37, 36, 55, 31, 101, 101, 44, 79, 78, 108, 98, 66, 65, 90, 68, 72, 74, 66, 110, 105, 93, 89, 74, 95, 67, 88, 56, 83, 85, 30, 68, 88, 94, 39, 105, 85, 43, 38, 56, 74, 70, 89, 66, 57, 57, 72, 74, 57, 57, 66, 49, 49, 66, 49, 57, 29, 57, 57, 83, 46, 56, 77, 57, 57, 57, 59, 49, 56, 66, 57, 96, 53, 80, 64, 44, 44, 45, 51, 107, 50, 96, 40, 62, 62, 44, 103, 67, 88, 46, 45, 76, 104, 40, 64, 64, 109, 78, 57, 39, 56, 35, 63, 35, 36, 59, 96, 63, 33, 54, 69, 67, 52, 97, 35, 76, 75, 92, 75, 78, 83, 81, 83, 89, 60, 75, 75, 89, 93, 89, 79, 75, 57, 81, 96, 82, 75, 75, 42, 81, 89, 65, 83, 48, 54, 83, 73, 20, 36, 46, 89, 55, 111, 100, 63, 58, 55, 49, 102, 59, 37, 80, 95, 88, 93, 19, 67, 60, 97, 76, 73, 62, 48, 85, 92, 76, 95, 52, 62, 39, 70, 49, 89, 42, 57, 39, 52, 45, 45, 45, 62, 45, 45, 45, 45, 89, 17, 45, 45, 45, 45, 116, 45, 45, 45, 45, 45, 45, 45, 45, 45, 62, 64, 45, 45, 83, 101, 71, 23, 32, 32, 17, 77, 106, 73, 69, 20, 70, 46, 61, 91, 80, 89, 91, 69, 47, 61, 104, 62, 95, 93, 43, 48, 56, 40, 93, 60, 66, 48, 87, 73, 35, 105, 48, 52, 50, 20, 52, 116, 97, 42, 49, 56, 111, 24, 79, 41, 63, 87, 51, 43, 63, 63, 63, 64, 79, 79, 43, 63, 104, 43, 43, 67, 74, 78, 90, 84, 75, 20, 55, 88, 88, 81, 44, 81, 96, 88, 35, 81, 100, 67, 104, 60, 20, 24, 97, 36, 41, 111, 50, 64, 82, 73, 11, 96, 109, 54, 85, 44, 93, 105, 98, 41, 114, 52, 74, 119, 85, 92, 97, 106, 95, 112, 106, 85, 61, 85, 108, 123, 92, 94, 61, 96, 83, 86, 116, 99, 72, 106, 99, 53, 106, 71, 76, 83, 99, 72, 92, 71, 99, 99, 71, 77, 87, 67, 67, 67, 72, 74, 71, 52, 76, 67, 84, 99, 85, 84, 97, 58, 55, 114, 57, 66, 49, 103, 73, 100, 61, 63, 114, 97, 33, 64, 92, 57, 57, 107, 58, 79, 84, 36, 58, 90, 98, 89, 84, 59, 57, 83, 103, 66, 117, 85, 78, 32, 61, 87, 66, 54, 90, 122, 88, 24, 62, 88, 54, 54, 84, 85, 89, 61, 93, 44, 97, 94, 54, 73, 110, 96, 57, 91, 71, 42, 108, 75, 68, 108, 43, 59, 47, 20, 40, 88, 81, 53, 55, 79, 89, 91, 83, 82, 82, 62, 63, 38, 58, 98, 97, 89, 45, 76, 34, 59, 87, 48, 60, 59, 73, 55, 98, 100, 93, 74, 34, 23, 54, 95, 79, 53, 51, 63, 101, 48, 93, 43, 86, 56, 76, 94, 55, 71, 46, 62, 78, 62, 88, 81, 62, 77, 53, 105, 64, 95, 80, 29, 44, 103, 77, 39, 66, 86, 101, 125, 80, 66, 73, 97, 43, 79, 108, 97, 73, 36, 72, 97, 52, 89, 44, 50, 27, 49, 46, 75, 81, 36, 54, 56, 46, 86, 65, 69, 86, 95, 56, 91, 90, 96, 87, 91, 95, 50, 107, 56, 67, 85, 62, 82, 82, 86, 44, 53, 86, 88, 73, 41, 73, 73, 77, 61, 40, 74, 51, 76, 98, 109, 55, 41, 18, 65, 44, 82, 82, 106, 77, 101, 48, 99, 85, 85, 45, 82, 82, 96, 103, 96, 82, 82, 82, 76, 42, 102, 95, 106, 81, 57, 46, 39, 87, 87, 81, 78, 57, 73, 92, 67, 26, 57, 108, 71, 84, 92, 25, 61, 58, 21, 56, 96, 67, 105, 74, 80, 61, 68, 77, 37, 91, 63, 65, 32, 68, 76, 65, 81, 92, 113, 82, 96, 99, 104, 99, 99, 109, 99, 47, 99, 68, 40, 107, 80, 111, 114, 99, 99, 48, 99, 49, 93, 124, 50, 36, 40, 90, 96, 57, 67, 24, 22, 96, 99, 40, 78, 41, 84, 43, 54, 43, 92, 47, 47, 108, 74, 76, 112, 72, 92, 68, 88, 88, 56, 67, 66, 68, 99, 57, 47, 97, 114, 65, 67, 49, 94, 92, 66, 77, 91, 39, 61, 77, 86, 53, 41, 57, 75, 18, 70, 86, 29, 43, 67, 57, 65, 28, 114, 90, 26, 43, 39, 81, 99, 74, 81, 63, 72, 36, 86, 42, 41, 43, 62, 91, 50, 74, 90, 99, 88, 64, 91, 84, 46, 97, 42, 107, 68, 33, 107, 59, 68, 60, 33, 54, 32, 39, 50, 79, 61, 63, 58, 69, 35, 86, 41, 92, 80, 52, 74, 64, 63, 83, 97, 48, 95, 48, 122, 34, 99, 113, 31, 39, 96, 78, 21, 50, 87, 65, 33, 103, 20, 35, 104, 73, 58, 73, 103, 87, 38, 82, 12, 67, 87, 35, 43, 51, 106, 65, 63, 83, 59, 54, 84, 74, 84, 89, 57, 82, 51, 98, 59, 50, 64, 86, 55, 31, 53, 100, 55, 89, 64, 55, 74, 106, 46, 51, 60, 100, 101, 53, 99, 99, 60, 47, 101, 78, 116, 36, 101, 60, 98, 53, 63, 67, 88, 100, 99, 52, 84, 78, 95, 67, 62, 100, 80, 100, 100, 101, 55, 112, 66, 24, 88, 63, 24, 38, 63, 24, 71, 21, 39, 85, 68, 68, 80, 68, 108, 68, 68, 98, 65, 57, 68, 68, 97, 68, 85, 44, 91, 65, 68, 89, 68, 65, 85, 85, 45, 47, 65, 44, 68, 46, 68, 44, 68, 68, 68, 68, 67, 68, 31, 35, 31], \"xaxis\": \"x\", \"yaxis\": \"y\"}, {\"alignmentgroup\": \"True\", \"boxpoints\": \"all\", \"fillcolor\": \"rgba(255,255,255,0)\", \"hoverlabel\": {\"namelength\": 0}, \"hoveron\": \"points\", \"hovertemplate\": \"target=1<br>Distiribtion of number of character=%{x}\", \"jitter\": 0, \"legendgroup\": \"target=1\", \"line\": {\"color\": \"rgba(255,255,255,0)\"}, \"marker\": {\"color\": \"#636efa\", \"symbol\": \"line-ns-open\"}, \"name\": \"target=1\", \"offsetgroup\": \"target=1\", \"showlegend\": false, \"type\": \"box\", \"x\": [32, 53, 28, 103, 56, 43, 49, 69, 93, 63, 72, 75, 67, 58, 96, 104, 35, 73, 48, 73, 42, 70, 55, 37, 89, 49, 108, 94, 44, 33, 47, 49, 26, 97, 84, 61, 90, 118, 84, 118, 78, 83, 46, 43, 115, 57, 107, 121, 68, 100, 84, 34, 43, 62, 101, 60, 103, 101, 73, 99, 63, 69, 121, 17, 71, 27, 90, 76, 63, 62, 95, 106, 62, 50, 78, 80, 51, 97, 62, 35, 70, 63, 63, 63, 72, 72, 63, 16, 87, 85, 85, 89, 69, 31, 101, 75, 68, 66, 93, 38, 54, 99, 99, 60, 82, 69, 93, 99, 81, 85, 52, 30, 92, 64, 69, 24, 71, 44, 11, 59, 59, 91, 96, 49, 43, 70, 87, 99, 73, 53, 76, 70, 70, 55, 42, 59, 68, 89, 40, 99, 82, 89, 70, 87, 51, 84, 72, 73, 55, 36, 42, 58, 72, 90, 55, 60, 51, 69, 81, 43, 89, 56, 48, 60, 75, 51, 73, 72, 78, 75, 62, 66, 114, 78, 55, 107, 99, 76, 64, 74, 38, 77, 100, 70, 78, 78, 78, 73, 37, 78, 78, 78, 64, 78, 78, 78, 78, 78, 78, 78, 102, 78, 78, 44, 75, 43, 97, 86, 77, 40, 83, 53, 69, 77, 89, 78, 86, 96, 110, 98, 70, 88, 84, 64, 92, 94, 67, 97, 77, 77, 64, 64, 97, 77, 22, 91, 105, 102, 78, 64, 125, 112, 92, 106, 113, 41, 91, 125, 22, 96, 97, 97, 75, 30, 102, 55, 36, 70, 62, 76, 77, 36, 35, 41, 31, 52, 55, 59, 52, 75, 83, 59, 65, 24, 55, 85, 14, 41, 50, 99, 30, 101, 106, 63, 97, 92, 85, 80, 73, 24, 72, 71, 30, 78, 67, 62, 75, 78, 51, 61, 34, 83, 68, 74, 34, 78, 45, 67, 75, 93, 78, 84, 44, 90, 102, 84, 93, 70, 37, 89, 75, 73, 72, 64, 74, 52, 61, 93, 76, 63, 54, 100, 74, 114, 81, 61, 93, 71, 41, 54, 45, 50, 50, 50, 67, 88, 74, 73, 50, 53, 93, 55, 100, 113, 62, 91, 65, 117, 89, 49, 94, 65, 67, 84, 71, 62, 112, 71, 65, 59, 94, 54, 54, 99, 67, 111, 54, 54, 56, 65, 104, 54, 87, 68, 69, 70, 71, 89, 68, 75, 82, 80, 95, 46, 26, 97, 113, 69, 53, 84, 55, 66, 97, 32, 47, 118, 107, 101, 81, 102, 62, 47, 41, 46, 101, 75, 74, 70, 19, 63, 66, 105, 95, 80, 19, 48, 71, 95, 120, 39, 52, 88, 86, 113, 96, 104, 70, 62, 62, 61, 105, 79, 92, 70, 80, 81, 35, 97, 24, 12, 33, 42, 91, 116, 72, 76, 75, 88, 98, 89, 49, 32, 77, 90, 51, 68, 92, 39, 97, 50, 103, 82, 50, 62, 34, 71, 87, 53, 49, 95, 62, 80, 24, 17, 87, 37, 61, 103, 94, 57, 100, 19, 88, 93, 66, 51, 60, 102, 94, 73, 86, 38, 25, 54, 89, 82, 89, 57, 100, 77, 51, 96, 83, 69, 102, 61, 85, 94, 53, 61, 41, 87, 70, 97, 104, 87, 64, 66, 79, 105, 82, 55, 83, 83, 45, 65, 98, 60, 74, 79, 79, 107, 38, 100, 73, 73, 73, 89, 52, 73, 70, 73, 85, 49, 69, 90, 49, 90, 49, 35, 109, 66, 77, 111, 104, 119, 63, 64, 112, 138, 91, 108, 79, 56, 89, 63, 71, 61, 38, 86, 18, 66, 95, 90, 59, 46, 86, 89, 58, 115, 99, 61, 31, 31, 51, 76, 112, 36, 52, 32, 75, 72, 84, 57, 55, 93, 67, 75, 74, 62, 51, 83, 70, 35, 84, 96, 113, 68, 62, 90, 78, 63, 48, 99, 96, 60, 82, 97, 97, 68, 89, 90, 81, 82, 47, 74, 69, 85, 47, 87, 61, 45, 74, 63, 45, 82, 87, 51, 87, 103, 58, 53, 46, 90, 57, 46, 89, 98, 78, 92, 71, 74, 36, 50, 81, 57, 73, 42, 32, 50, 33, 47, 20, 114, 11, 11, 34, 43, 42, 92, 53, 78, 88, 84, 112, 51, 87, 90, 52, 30, 36, 28, 80, 75, 96, 97, 117, 75, 86, 50, 49, 26, 20, 48, 16, 22, 82, 17, 101, 117, 112, 51, 83, 69, 76, 59, 53, 81, 58, 90, 62, 49, 80, 92, 68, 64, 83, 91, 88, 68, 77, 110, 113, 65, 40, 37, 28, 73, 57, 55, 86, 64, 63, 124, 58, 17, 61, 86, 82, 93, 38, 78, 64, 84, 27, 57, 84, 31, 84, 86, 84, 86, 91, 83, 40, 58, 23, 26, 44, 28, 50, 54, 14, 74, 116, 54, 102, 77, 93, 42, 81, 98, 77, 110, 89, 50, 8, 89, 81, 79, 53, 40, 85, 104, 72, 86, 85, 44, 81, 65, 69, 109, 80, 92, 60, 63, 17, 60, 61, 60, 76, 66, 66, 89, 60, 62, 106, 56, 96, 68, 74, 60, 48, 48, 41, 71, 40, 44, 61, 67, 71, 107, 97, 51, 89, 22, 86, 86, 46, 74, 39, 88, 91, 65, 86, 43, 50, 61, 100, 79, 53, 81, 61, 94, 83, 92, 80, 82, 68, 109, 97, 72, 47, 88, 47, 77, 90, 42, 94, 48, 70, 53, 73, 46, 67, 77, 105, 80, 67, 68, 38, 24, 67, 82, 43, 80, 47, 35, 48, 67, 67, 77, 94, 95, 69, 87, 48, 100, 50, 37, 87, 99, 91, 101, 73, 88, 67, 103, 83, 80, 56, 67, 51, 93, 124, 33, 62, 75, 62, 80, 97, 94, 88, 76, 71, 93, 62, 112, 60, 112, 69, 62, 78, 112, 68, 61, 82, 73, 59, 107, 54, 99, 92, 82, 55, 59, 58, 74, 57, 69, 96, 33, 76, 93, 62, 94, 47, 85, 52, 83, 39, 75, 43, 90, 105, 83, 58, 79, 107, 28, 63, 93, 53, 100, 82, 101, 55, 96, 61, 87, 81, 89, 114, 104, 87, 43, 90, 96, 52, 84, 59, 41, 86, 29, 48, 87, 107, 62, 76, 34, 94, 96, 66, 69, 68, 49, 68, 86, 92, 55, 63, 70, 78, 84, 91, 114, 94, 59, 116, 95, 99, 78, 99, 99, 99, 42, 61, 49, 99, 38, 70, 84, 78, 85, 105, 85, 85, 71, 85, 85, 93, 85, 85, 88, 85, 115, 85, 77, 85, 85, 77, 99, 85, 85, 65, 91, 49, 78, 99, 105, 18, 66, 104, 62, 67, 77, 55, 92, 103, 75, 55, 98, 62, 94, 50, 79, 85, 94, 87, 59, 85, 59, 94, 94, 94, 71, 100, 98, 79, 98, 49, 69, 99, 59, 69, 80, 91, 63, 28, 28, 63, 88, 46, 39, 99, 53, 91, 51, 107, 62, 109, 78, 67, 55, 12, 65, 72, 100, 72, 98, 21, 42, 77, 42, 88, 88, 27, 106, 21, 52, 82, 78, 67, 40, 44, 49, 84, 52, 73, 39, 80, 52, 86, 87, 36, 18, 48, 51, 39, 72, 67, 94, 75, 72, 64, 87, 97, 80, 89, 19, 40, 67, 87, 75, 40, 17, 85, 84, 29, 75, 68, 76, 55, 72, 55, 97, 48, 74, 87, 93, 74, 53, 52, 77, 46, 67, 97, 55, 89, 43, 57, 53, 75, 70, 45, 43, 90, 31, 20, 93, 16, 49, 47, 73, 60, 56, 78, 108, 41, 62, 67, 77, 113, 82, 77, 78, 91, 114, 108, 41, 105, 22, 120, 59, 114, 117, 80, 103, 34, 122, 109, 105, 95, 60, 81, 71, 73, 81, 85, 48, 89, 72, 44, 70, 111, 98, 86, 90, 112, 115, 89, 71, 63, 67, 55, 91, 67, 69, 101, 61, 55, 95, 63, 36, 97, 111, 36, 73, 90, 114, 90, 80, 90, 66, 80, 90, 41, 99, 61, 68, 73, 90, 90, 99, 74, 79, 86, 97, 94, 76, 76, 43, 38, 54, 96, 67, 88, 80, 77, 67, 75, 65, 82, 73, 76, 58, 50, 91, 72, 69, 26, 57, 80, 50, 97, 69, 14, 77, 101, 87, 100, 94, 105, 55, 71, 82, 90, 60, 51, 41, 101, 54, 41, 96, 56, 11, 46, 68, 52, 76, 111, 92, 50, 102, 91, 62, 102, 63, 59, 64, 88, 110, 105, 99, 99, 91, 56, 90, 99, 118, 83, 88, 58, 110, 89, 40, 83, 69, 51, 82, 47, 40, 86, 29, 44, 66, 22, 41, 79, 75, 98, 89, 87, 87, 69, 60, 100, 56, 58, 71, 70, 45, 61, 101, 75, 24, 69, 49, 79, 26, 49, 65, 63, 95, 103, 62, 91, 87, 92, 67, 47, 44, 90, 103, 98, 102, 60, 103, 68, 57, 110, 77, 85, 27, 68, 78, 102, 77, 89, 100, 82, 94, 69, 101, 96, 45, 67, 86, 103, 81, 79, 75, 92, 86, 51, 44, 61, 75, 75, 82, 92, 68, 85, 75, 66, 75, 51, 75, 75, 72, 89, 75, 51, 29, 75, 75, 68, 57, 84, 84, 80, 92, 46, 59, 116, 45, 82, 54, 52, 73, 79, 76, 58, 73, 50, 84, 79, 96, 96, 99, 89, 107, 56, 17, 46, 45, 67, 70, 96, 9, 61, 70, 96, 27, 105, 78, 25, 36, 64, 33, 24, 25, 23, 87, 62, 19, 50, 35, 68, 92, 37, 77, 85, 49, 95, 70, 98, 42, 92, 62, 96, 23, 75, 96, 93, 37, 29, 36, 92, 80, 67, 102, 89, 106, 66, 85, 56, 66, 68, 96, 91, 97, 115, 94, 50, 78, 84, 109, 18, 53, 104, 84, 93, 96, 105, 84, 99, 83, 95, 22, 95, 55, 95, 31, 62, 60, 80, 73, 79, 60, 65, 89, 44, 77, 64, 66, 104, 47, 43, 97, 81, 9, 78, 87, 59, 112, 47, 59, 57, 85, 105, 56, 31, 77, 60, 90, 74, 88, 59, 104, 81, 101, 86, 85, 64, 101, 82, 50, 65, 30, 96, 85, 86, 61, 91, 52, 53, 115, 76, 50, 119, 53, 52, 31, 73, 21, 54, 118, 84, 77, 67, 27, 41, 95, 41, 32, 78, 30, 41, 82, 54, 101, 21, 91, 63, 98, 47, 112, 45, 80, 72, 69, 86, 31, 111, 39, 96, 47, 91, 80, 72, 50, 73, 91, 68, 63, 107, 77, 132, 69, 56, 80, 92, 95, 61, 109, 97, 93, 81, 27, 25, 55, 93, 108, 39, 71, 111, 88, 106, 94, 40, 65, 70, 44, 20, 61, 47, 95, 92, 47, 55, 55, 70, 54, 24, 60, 90, 83, 65, 76, 74, 71, 69, 93, 88, 51, 118, 45, 25, 46, 71, 62, 107, 111, 41, 44, 83, 41, 98, 68, 44, 44, 38, 64, 41, 38, 83, 82, 41, 82, 58, 68, 44, 41, 76, 82, 54, 67, 82, 52, 76, 32, 98, 102, 73, 33, 66, 72, 88, 70, 45, 77, 79, 71, 64, 87, 22, 56, 76, 67, 72, 87, 106, 33, 67, 67, 55, 92, 96, 68, 82, 52, 73, 106, 49, 83, 76, 72, 65, 56, 72, 72, 73, 93, 34, 66, 43, 107, 40, 51, 43, 70, 73, 61, 28, 43, 89, 61, 56, 70, 74, 43, 80, 85, 43, 104, 80, 73, 61, 61, 80, 80, 43, 65, 43, 80, 97, 74, 65, 72, 53, 85, 55, 55, 76, 72, 84, 68, 56, 92, 48, 102, 90, 73, 102, 56, 120, 58, 73, 73, 56, 71, 51, 96, 55, 99, 46, 90, 102, 88, 74, 115, 71, 77, 73, 73, 97, 101, 29, 67, 50, 18, 46, 35, 22, 14, 76, 25, 14, 45, 92, 112, 85, 102, 67, 75, 19, 54, 102, 95, 46, 85, 90, 65, 97, 82, 83, 30, 83, 100, 122, 96, 78, 92, 71, 101, 67, 97, 122, 82, 83, 105, 75, 61, 124, 98, 29, 57, 85, 84, 89, 55, 70, 50, 57, 55, 96, 61, 42, 36, 48, 48, 93, 114, 109, 51, 76, 50, 79, 113, 27, 121, 45, 86, 70, 57, 52, 77, 78, 64, 70, 82, 52, 46, 29, 69, 21, 69, 61, 71, 27, 71, 100, 81, 72, 94, 37, 57, 49, 72, 80, 66, 89, 58, 59, 60, 76, 89, 73, 89, 57, 94, 106, 65, 59, 40, 93, 65, 88, 30, 92, 63, 37, 92, 79, 104, 65, 79, 62, 78, 78, 79, 91, 34, 65, 79, 92, 86, 60, 109, 68, 78, 86, 70, 86, 117, 80, 81, 54, 114, 45, 89, 24, 89, 46, 54, 63, 56, 36, 66, 85, 84, 59, 50, 73, 92, 76, 71, 63, 91, 43, 76, 12, 77, 99, 38, 74, 99, 93, 49, 90, 85, 77, 91, 70, 53, 50, 40, 24, 54, 83, 51, 81, 92, 71, 46, 70, 73, 104, 71, 70, 36, 50, 83, 50, 82, 28, 28, 73, 21, 24, 69, 93, 97, 55, 66, 74, 30, 102, 90, 81, 72, 63, 59, 69, 88, 85, 40, 92, 88, 99, 74, 65, 98, 97, 118, 88, 41, 48, 84, 57, 100, 57, 55, 73, 106, 91, 87, 74, 85, 75, 82, 96, 69, 51, 98, 62, 57, 82, 100, 111, 103, 51, 87, 100, 89, 82, 83, 53, 93, 94, 72, 60, 82, 78, 92, 89, 71, 77, 95, 103, 44, 111, 72, 118, 58, 24, 61, 91, 79, 100, 57, 68, 48, 48, 65, 48, 48, 87, 94, 59, 75, 103, 87, 61, 48, 74, 107, 94, 99, 85, 90, 70, 46, 65, 48, 53, 53, 67, 70, 86, 48, 57, 48, 68, 79, 90, 79, 53, 102, 78, 62, 79, 95, 54, 79, 79, 90, 79, 79, 79, 96, 79, 84, 79, 79, 44, 79, 79, 79, 79, 96, 52, 89, 79, 62, 95, 78, 79, 96, 89, 79, 86, 94, 57, 56, 24, 27, 56, 69, 57, 113, 79, 43, 81, 60, 36, 68, 85, 86, 111, 84, 106, 93, 86, 76, 88, 93, 59, 72, 80, 81, 86, 80, 65, 63, 59, 96, 75, 85, 54, 37, 36, 55, 31, 101, 101, 44, 79, 78, 108, 98, 66, 65, 90, 68, 72, 74, 66, 110, 105, 93, 89, 74, 95, 67, 88, 56, 83, 85, 30, 68, 88, 94, 39, 105, 85, 43, 38, 56, 74, 70, 89, 66, 57, 57, 72, 74, 57, 57, 66, 49, 49, 66, 49, 57, 29, 57, 57, 83, 46, 56, 77, 57, 57, 57, 59, 49, 56, 66, 57, 96, 53, 80, 64, 44, 44, 45, 51, 107, 50, 96, 40, 62, 62, 44, 103, 67, 88, 46, 45, 76, 104, 40, 64, 64, 109, 78, 57, 39, 56, 35, 63, 35, 36, 59, 96, 63, 33, 54, 69, 67, 52, 97, 35, 76, 75, 92, 75, 78, 83, 81, 83, 89, 60, 75, 75, 89, 93, 89, 79, 75, 57, 81, 96, 82, 75, 75, 42, 81, 89, 65, 83, 48, 54, 83, 73, 20, 36, 46, 89, 55, 111, 100, 63, 58, 55, 49, 102, 59, 37, 80, 95, 88, 93, 19, 67, 60, 97, 76, 73, 62, 48, 85, 92, 76, 95, 52, 62, 39, 70, 49, 89, 42, 57, 39, 52, 45, 45, 45, 62, 45, 45, 45, 45, 89, 17, 45, 45, 45, 45, 116, 45, 45, 45, 45, 45, 45, 45, 45, 45, 62, 64, 45, 45, 83, 101, 71, 23, 32, 32, 17, 77, 106, 73, 69, 20, 70, 46, 61, 91, 80, 89, 91, 69, 47, 61, 104, 62, 95, 93, 43, 48, 56, 40, 93, 60, 66, 48, 87, 73, 35, 105, 48, 52, 50, 20, 52, 116, 97, 42, 49, 56, 111, 24, 79, 41, 63, 87, 51, 43, 63, 63, 63, 64, 79, 79, 43, 63, 104, 43, 43, 67, 74, 78, 90, 84, 75, 20, 55, 88, 88, 81, 44, 81, 96, 88, 35, 81, 100, 67, 104, 60, 20, 24, 97, 36, 41, 111, 50, 64, 82, 73, 11, 96, 109, 54, 85, 44, 93, 105, 98, 41, 114, 52, 74, 119, 85, 92, 97, 106, 95, 112, 106, 85, 61, 85, 108, 123, 92, 94, 61, 96, 83, 86, 116, 99, 72, 106, 99, 53, 106, 71, 76, 83, 99, 72, 92, 71, 99, 99, 71, 77, 87, 67, 67, 67, 72, 74, 71, 52, 76, 67, 84, 99, 85, 84, 97, 58, 55, 114, 57, 66, 49, 103, 73, 100, 61, 63, 114, 97, 33, 64, 92, 57, 57, 107, 58, 79, 84, 36, 58, 90, 98, 89, 84, 59, 57, 83, 103, 66, 117, 85, 78, 32, 61, 87, 66, 54, 90, 122, 88, 24, 62, 88, 54, 54, 84, 85, 89, 61, 93, 44, 97, 94, 54, 73, 110, 96, 57, 91, 71, 42, 108, 75, 68, 108, 43, 59, 47, 20, 40, 88, 81, 53, 55, 79, 89, 91, 83, 82, 82, 62, 63, 38, 58, 98, 97, 89, 45, 76, 34, 59, 87, 48, 60, 59, 73, 55, 98, 100, 93, 74, 34, 23, 54, 95, 79, 53, 51, 63, 101, 48, 93, 43, 86, 56, 76, 94, 55, 71, 46, 62, 78, 62, 88, 81, 62, 77, 53, 105, 64, 95, 80, 29, 44, 103, 77, 39, 66, 86, 101, 125, 80, 66, 73, 97, 43, 79, 108, 97, 73, 36, 72, 97, 52, 89, 44, 50, 27, 49, 46, 75, 81, 36, 54, 56, 46, 86, 65, 69, 86, 95, 56, 91, 90, 96, 87, 91, 95, 50, 107, 56, 67, 85, 62, 82, 82, 86, 44, 53, 86, 88, 73, 41, 73, 73, 77, 61, 40, 74, 51, 76, 98, 109, 55, 41, 18, 65, 44, 82, 82, 106, 77, 101, 48, 99, 85, 85, 45, 82, 82, 96, 103, 96, 82, 82, 82, 76, 42, 102, 95, 106, 81, 57, 46, 39, 87, 87, 81, 78, 57, 73, 92, 67, 26, 57, 108, 71, 84, 92, 25, 61, 58, 21, 56, 96, 67, 105, 74, 80, 61, 68, 77, 37, 91, 63, 65, 32, 68, 76, 65, 81, 92, 113, 82, 96, 99, 104, 99, 99, 109, 99, 47, 99, 68, 40, 107, 80, 111, 114, 99, 99, 48, 99, 49, 93, 124, 50, 36, 40, 90, 96, 57, 67, 24, 22, 96, 99, 40, 78, 41, 84, 43, 54, 43, 92, 47, 47, 108, 74, 76, 112, 72, 92, 68, 88, 88, 56, 67, 66, 68, 99, 57, 47, 97, 114, 65, 67, 49, 94, 92, 66, 77, 91, 39, 61, 77, 86, 53, 41, 57, 75, 18, 70, 86, 29, 43, 67, 57, 65, 28, 114, 90, 26, 43, 39, 81, 99, 74, 81, 63, 72, 36, 86, 42, 41, 43, 62, 91, 50, 74, 90, 99, 88, 64, 91, 84, 46, 97, 42, 107, 68, 33, 107, 59, 68, 60, 33, 54, 32, 39, 50, 79, 61, 63, 58, 69, 35, 86, 41, 92, 80, 52, 74, 64, 63, 83, 97, 48, 95, 48, 122, 34, 99, 113, 31, 39, 96, 78, 21, 50, 87, 65, 33, 103, 20, 35, 104, 73, 58, 73, 103, 87, 38, 82, 12, 67, 87, 35, 43, 51, 106, 65, 63, 83, 59, 54, 84, 74, 84, 89, 57, 82, 51, 98, 59, 50, 64, 86, 55, 31, 53, 100, 55, 89, 64, 55, 74, 106, 46, 51, 60, 100, 101, 53, 99, 99, 60, 47, 101, 78, 116, 36, 101, 60, 98, 53, 63, 67, 88, 100, 99, 52, 84, 78, 95, 67, 62, 100, 80, 100, 100, 101, 55, 112, 66, 24, 88, 63, 24, 38, 63, 24, 71, 21, 39, 85, 68, 68, 80, 68, 108, 68, 68, 98, 65, 57, 68, 68, 97, 68, 85, 44, 91, 65, 68, 89, 68, 65, 85, 85, 45, 47, 65, 44, 68, 46, 68, 44, 68, 68, 68, 68, 67, 68, 31, 35, 31], \"xaxis\": \"x2\", \"yaxis\": \"y2\"}, {\"alignmentgroup\": \"True\", \"bingroup\": \"x\", \"hoverlabel\": {\"namelength\": 0}, \"hovertemplate\": \"target=0<br>Distiribtion of number of character=%{x}<br>count=%{y}\", \"legendgroup\": \"target=0\", \"marker\": {\"color\": \"#EF553B\"}, \"name\": \"target=0\", \"offsetgroup\": \"target=0\", \"orientation\": \"v\", \"showlegend\": true, \"type\": \"histogram\", \"x\": [32, 17, 37, 90, 11, 31, 44, 87, 34, 42, 44, 52, 31, 89, 72, 82, 70, 80, 66, 78, 56, 50, 43, 85, 76, 86, 56, 25, 66, 44, 9, 98, 26, 110, 36, 53, 106, 55, 89, 43, 73, 45, 61, 43, 65, 29, 72, 89, 72, 37, 72, 72, 86, 77, 88, 38, 73, 83, 58, 50, 84, 40, 20, 11, 81, 55, 59, 92, 50, 59, 83, 52, 64, 63, 74, 52, 48, 26, 42, 74, 82, 69, 74, 74, 68, 28, 42, 61, 47, 90, 39, 71, 60, 31, 80, 95, 64, 44, 55, 16, 48, 63, 72, 96, 44, 65, 113, 63, 50, 95, 98, 103, 80, 38, 63, 35, 99, 93, 99, 66, 107, 35, 79, 117, 89, 81, 78, 87, 85, 99, 62, 61, 99, 30, 35, 93, 17, 65, 88, 18, 50, 18, 101, 89, 87, 87, 37, 53, 74, 35, 96, 77, 59, 38, 108, 92, 50, 44, 95, 33, 55, 53, 56, 59, 92, 55, 94, 67, 81, 102, 55, 57, 89, 11, 99, 57, 113, 49, 87, 112, 78, 69, 40, 81, 40, 67, 98, 47, 80, 116, 73, 72, 70, 32, 43, 32, 41, 41, 43, 63, 72, 60, 38, 90, 43, 41, 33, 32, 43, 74, 42, 80, 101, 32, 41, 32, 41, 87, 84, 84, 43, 59, 63, 23, 11, 69, 6, 90, 70, 18, 71, 52, 47, 72, 52, 16, 69, 15, 31, 107, 103, 25, 79, 6, 41, 70, 11, 69, 19, 44, 39, 55, 43, 56, 23, 31, 91, 80, 58, 57, 51, 53, 46, 81, 25, 95, 42, 40, 14, 26, 64, 25, 20, 62, 101, 51, 20, 87, 79, 61, 85, 46, 33, 76, 59, 25, 93, 70, 24, 72, 84, 84, 107, 70, 93, 61, 110, 45, 87, 85, 104, 66, 62, 29, 20, 53, 41, 62, 42, 79, 83, 64, 66, 35, 109, 80, 30, 46, 19, 45, 46, 49, 28, 91, 36, 13, 69, 83, 71, 88, 52, 84, 68, 64, 100, 77, 116, 70, 92, 61, 52, 82, 70, 81, 110, 103, 114, 86, 22, 98, 103, 103, 22, 116, 21, 26, 47, 84, 10, 16, 73, 106, 33, 33, 46, 18, 51, 87, 119, 26, 56, 56, 40, 13, 28, 69, 103, 43, 61, 49, 67, 51, 73, 47, 9, 27, 84, 51, 58, 82, 79, 79, 44, 87, 62, 72, 14, 48, 65, 51, 58, 69, 34, 85, 50, 84, 33, 13, 62, 23, 106, 42, 67, 28, 59, 80, 74, 94, 57, 63, 52, 41, 39, 67, 38, 50, 96, 70, 51, 44, 30, 21, 43, 82, 14, 46, 38, 40, 53, 100, 60, 32, 42, 43, 73, 72, 26, 20, 33, 62, 39, 27, 57, 20, 57, 65, 86, 68, 65, 66, 34, 16, 33, 62, 13, 20, 88, 103, 40, 61, 13, 61, 20, 28, 55, 49, 95, 28, 17, 20, 86, 63, 78, 108, 17, 9, 83, 47, 57, 62, 83, 43, 95, 27, 83, 63, 81, 26, 28, 56, 37, 66, 81, 34, 86, 86, 62, 77, 90, 57, 27, 67, 21, 50, 33, 97, 70, 52, 6, 84, 18, 35, 40, 28, 27, 62, 103, 35, 27, 30, 46, 25, 58, 24, 43, 26, 23, 36, 65, 40, 27, 47, 90, 21, 9, 45, 42, 74, 80, 80, 47, 18, 49, 60, 65, 40, 42, 39, 64, 103, 27, 11, 35, 69, 52, 28, 21, 65, 70, 18, 76, 79, 31, 79, 27, 40, 27, 72, 69, 24, 59, 53, 103, 39, 74, 53, 55, 94, 15, 29, 94, 101, 53, 56, 34, 76, 37, 28, 76, 30, 48, 73, 51, 94, 100, 56, 81, 74, 82, 35, 14, 28, 88, 53, 18, 67, 65, 83, 50, 45, 66, 65, 69, 67, 58, 96, 77, 93, 97, 26, 49, 15, 75, 87, 91, 108, 82, 57, 96, 101, 84, 63, 88, 92, 91, 51, 89, 81, 91, 97, 89, 80, 51, 90, 84, 91, 38, 90, 82, 75, 90, 84, 80, 29, 91, 71, 63, 49, 30, 99, 88, 64, 26, 48, 38, 87, 67, 25, 68, 59, 64, 65, 47, 53, 87, 101, 101, 94, 43, 59, 74, 24, 36, 62, 114, 51, 73, 77, 20, 67, 65, 60, 10, 70, 114, 94, 90, 82, 111, 31, 55, 93, 74, 17, 89, 102, 93, 81, 25, 41, 78, 96, 54, 39, 29, 80, 92, 123, 97, 33, 116, 82, 95, 81, 61, 61, 26, 31, 30, 59, 51, 25, 17, 61, 31, 30, 25, 52, 23, 26, 57, 97, 15, 96, 22, 52, 49, 30, 73, 83, 40, 77, 50, 92, 114, 56, 32, 53, 59, 56, 21, 30, 32, 41, 66, 70, 106, 89, 90, 66, 51, 40, 93, 63, 40, 80, 61, 50, 77, 82, 49, 81, 72, 79, 118, 89, 81, 61, 76, 80, 14, 23, 66, 61, 87, 74, 56, 60, 27, 49, 54, 35, 90, 62, 52, 39, 65, 53, 75, 26, 70, 27, 24, 70, 85, 86, 64, 93, 39, 31, 70, 65, 24, 86, 89, 52, 69, 43, 30, 60, 28, 71, 67, 83, 50, 87, 70, 63, 100, 58, 74, 79, 93, 119, 73, 97, 82, 78, 105, 89, 87, 78, 80, 80, 78, 59, 66, 80, 80, 53, 78, 89, 51, 66, 31, 49, 112, 65, 66, 98, 31, 94, 57, 59, 73, 24, 85, 20, 16, 64, 27, 79, 39, 48, 86, 97, 61, 66, 104, 40, 103, 67, 95, 73, 21, 72, 80, 78, 51, 60, 106, 62, 65, 35, 65, 60, 82, 86, 53, 96, 62, 48, 76, 83, 65, 104, 55, 109, 101, 97, 89, 95, 54, 106, 71, 92, 76, 92, 92, 117, 60, 114, 73, 83, 79, 68, 114, 97, 67, 86, 93, 70, 100, 43, 35, 92, 89, 23, 45, 23, 77, 53, 16, 53, 15, 85, 73, 41, 15, 46, 77, 35, 31, 76, 63, 51, 82, 64, 80, 82, 35, 70, 80, 90, 49, 56, 99, 53, 77, 56, 67, 58, 62, 98, 74, 30, 51, 75, 109, 96, 94, 87, 89, 55, 86, 60, 40, 75, 30, 70, 105, 70, 77, 34, 86, 77, 64, 55, 40, 50, 17, 89, 65, 21, 44, 84, 35, 54, 106, 69, 44, 30, 62, 48, 36, 66, 26, 81, 91, 101, 38, 44, 65, 50, 63, 94, 75, 62, 40, 60, 26, 39, 95, 93, 72, 45, 75, 98, 80, 88, 26, 81, 98, 16, 42, 84, 79, 70, 86, 61, 36, 86, 83, 56, 56, 56, 61, 38, 100, 88, 33, 53, 93, 57, 70, 36, 57, 10, 27, 64, 28, 100, 89, 59, 67, 49, 54, 25, 63, 71, 55, 47, 45, 63, 14, 51, 74, 21, 75, 47, 68, 104, 53, 75, 33, 39, 71, 29, 90, 42, 17, 14, 35, 44, 42, 7, 24, 59, 34, 43, 98, 46, 49, 24, 24, 35, 37, 48, 28, 22, 17, 53, 56, 35, 30, 27, 7, 24, 17, 35, 8, 62, 92, 17, 31, 27, 67, 61, 92, 67, 42, 51, 28, 33, 61, 64, 51, 38, 94, 135, 44, 45, 102, 30, 24, 11, 110, 26, 47, 33, 28, 40, 91, 36, 16, 74, 21, 17, 46, 12, 91, 65, 42, 63, 97, 76, 93, 109, 30, 16, 60, 30, 71, 36, 32, 57, 97, 89, 96, 71, 25, 76, 47, 128, 57, 35, 53, 59, 68, 17, 73, 66, 46, 84, 42, 30, 38, 72, 67, 58, 77, 79, 78, 23, 62, 92, 85, 94, 22, 47, 102, 83, 19, 95, 99, 59, 83, 78, 82, 76, 50, 90, 31, 58, 45, 90, 80, 81, 77, 42, 67, 60, 80, 71, 20, 28, 85, 91, 17, 84, 48, 120, 48, 58, 52, 34, 64, 115, 79, 18, 37, 94, 85, 59, 32, 37, 95, 51, 17, 62, 67, 78, 69, 32, 37, 49, 48, 75, 15, 52, 67, 66, 72, 43, 18, 86, 43, 41, 88, 25, 77, 75, 66, 30, 42, 59, 25, 14, 86, 92, 68, 96, 27, 96, 25, 73, 110, 104, 73, 83, 60, 50, 58, 99, 46, 101, 75, 43, 68, 90, 38, 55, 100, 74, 98, 64, 41, 67, 78, 105, 48, 58, 93, 77, 45, 28, 107, 103, 103, 70, 78, 95, 47, 96, 89, 89, 67, 68, 76, 76, 105, 82, 79, 79, 91, 33, 80, 75, 80, 80, 81, 38, 80, 83, 51, 85, 94, 104, 102, 30, 95, 99, 33, 77, 77, 73, 73, 36, 38, 22, 70, 91, 78, 37, 52, 21, 54, 104, 94, 77, 106, 93, 73, 120, 72, 69, 21, 44, 84, 56, 90, 36, 35, 89, 43, 67, 19, 72, 53, 85, 58, 72, 47, 42, 31, 79, 54, 87, 43, 52, 106, 48, 83, 65, 40, 82, 34, 33, 91, 65, 82, 111, 65, 47, 69, 60, 72, 53, 97, 67, 61, 64, 103, 77, 104, 96, 79, 111, 80, 105, 103, 91, 108, 37, 52, 106, 103, 84, 68, 97, 100, 57, 46, 83, 79, 106, 28, 82, 51, 37, 80, 68, 89, 63, 58, 59, 45, 76, 59, 35, 77, 74, 104, 55, 70, 13, 48, 62, 82, 80, 38, 77, 28, 65, 110, 82, 77, 37, 74, 113, 70, 43, 67, 43, 47, 57, 97, 74, 78, 90, 67, 64, 72, 71, 81, 57, 56, 35, 69, 27, 88, 69, 37, 71, 89, 48, 39, 82, 72, 93, 73, 64, 52, 74, 86, 37, 81, 73, 84, 72, 28, 54, 13, 25, 109, 57, 73, 18, 99, 78, 85, 67, 68, 83, 93, 102, 21, 17, 62, 83, 83, 102, 83, 55, 13, 77, 50, 65, 83, 84, 94, 83, 67, 58, 83, 67, 110, 50, 108, 92, 81, 115, 50, 70, 62, 27, 74, 46, 70, 110, 52, 48, 35, 93, 35, 66, 89, 31, 40, 85, 75, 35, 17, 49, 29, 71, 51, 42, 51, 28, 48, 67, 28, 53, 22, 36, 49, 64, 31, 42, 34, 57, 62, 106, 51, 48, 34, 49, 78, 62, 64, 49, 83, 66, 76, 89, 71, 64, 47, 43, 66, 89, 68, 82, 67, 65, 82, 109, 94, 92, 78, 66, 69, 9, 76, 53, 57, 83, 90, 24, 45, 29, 14, 49, 89, 65, 69, 66, 81, 23, 77, 78, 79, 70, 37, 12, 70, 43, 19, 32, 78, 23, 22, 19, 85, 47, 73, 66, 116, 69, 62, 80, 70, 59, 79, 100, 84, 94, 42, 33, 43, 100, 67, 70, 45, 43, 29, 46, 66, 90, 40, 81, 65, 24, 66, 49, 50, 21, 35, 18, 29, 28, 24, 21, 39, 30, 99, 11, 32, 30, 81, 34, 30, 88, 73, 61, 84, 56, 36, 54, 78, 69, 31, 70, 25, 60, 77, 83, 80, 55, 70, 32, 56, 33, 46, 52, 78, 69, 50, 13, 88, 77, 66, 25, 116, 82, 100, 34, 83, 99, 29, 18, 40, 57, 83, 42, 99, 24, 82, 105, 34, 101, 84, 24, 67, 75, 33, 42, 91, 82, 65, 59, 66, 104, 63, 66, 82, 104, 83, 84, 59, 28, 74, 27, 23, 38, 59, 39, 16, 25, 62, 104, 39, 66, 65, 104, 59, 11, 17, 38, 18, 53, 59, 34, 74, 26, 49, 71, 48, 45, 16, 68, 17, 70, 74, 98, 74, 23, 81, 54, 55, 60, 40, 87, 34, 83, 42, 79, 38, 52, 59, 91, 70, 73, 39, 70, 68, 21, 78, 66, 55, 74, 44, 88, 17, 85, 71, 74, 92, 96, 72, 104, 99, 54, 62, 101, 72, 116, 89, 64, 77, 84, 66, 103, 36, 66, 73, 50, 112, 70, 59, 51, 75, 40, 64, 80, 86, 81, 85, 91, 72, 83, 123, 68, 84, 72, 87, 70, 104, 82, 101, 43, 83, 76, 124, 65, 98, 92, 77, 103, 80, 62, 39, 56, 80, 23, 51, 34, 67, 56, 80, 80, 94, 70, 34, 80, 56, 78, 48, 49, 46, 35, 83, 51, 41, 80, 40, 63, 79, 35, 55, 76, 36, 37, 49, 55, 43, 95, 25, 70, 13, 78, 90, 90, 82, 79, 45, 75, 90, 84, 80, 76, 64, 100, 92, 48, 81, 58, 47, 54, 65, 70, 87, 53, 53, 65, 45, 26, 21, 60, 98, 104, 70, 10, 81, 23, 60, 88, 60, 43, 105, 81, 35, 14, 81, 55, 18, 17, 35, 81, 72, 87, 82, 92, 41, 59, 47, 82, 99, 69, 41, 37, 32, 30, 59, 42, 88, 19, 84, 99, 47, 47, 97, 101, 100, 47, 48, 75, 84, 73, 83, 92, 89, 83, 83, 78, 75, 96, 70, 100, 73, 75, 93, 76, 21, 38, 84, 82, 100, 101, 74, 80, 94, 71, 71, 96, 35, 99, 61, 88, 74, 67, 81, 25, 74, 60, 40, 55, 109, 80, 65, 45, 45, 58, 71, 65, 69, 37, 24, 51, 46, 57, 39, 93, 35, 53, 48, 16, 65, 51, 75, 52, 76, 26, 70, 96, 42, 33, 51, 41, 51, 90, 45, 80, 61, 100, 53, 76, 36, 96, 82, 64, 8, 8, 91, 9, 34, 55, 26, 29, 21, 22, 107, 32, 26, 52, 9, 70, 50, 82, 107, 81, 8, 48, 31, 56, 84, 62, 77, 41, 35, 86, 109, 55, 79, 82, 71, 30, 75, 73, 11, 53, 61, 42, 18, 26, 117, 37, 53, 35, 73, 77, 16, 60, 98, 76, 97, 14, 93, 82, 59, 78, 22, 21, 31, 13, 34, 38, 8, 25, 108, 90, 117, 52, 31, 23, 34, 108, 46, 76, 51, 47, 66, 19, 31, 61, 52, 82, 38, 63, 77, 100, 81, 29, 24, 79, 84, 68, 53, 100, 86, 95, 93, 56, 51, 92, 42, 74, 75, 81, 74, 80, 63, 60, 82, 82, 69, 38, 60, 71, 34, 60, 31, 26, 33, 42, 99, 48, 81, 43, 81, 59, 53, 27, 42, 59, 76, 80, 46, 71, 33, 63, 76, 21, 19, 30, 10, 48, 88, 73, 73, 47, 19, 94, 64, 40, 31, 55, 111, 91, 90, 118, 28, 36, 77, 93, 81, 62, 98, 43, 78, 80, 72, 93, 78, 14, 82, 49, 79, 71, 79, 80, 80, 78, 78, 95, 86, 78, 82, 83, 101, 46, 81, 59, 39, 68, 46, 40, 32, 61, 30, 119, 110, 94, 98, 103, 56, 73, 69, 86, 109, 86, 58, 89, 40, 67, 86, 68, 49, 54, 29, 30, 46, 35, 55, 32, 46, 47, 96, 95, 53, 19, 18, 12, 85, 80, 35, 24, 76, 25, 81, 56, 43, 14, 70, 56, 108, 53, 46, 68, 22, 67, 68, 35, 37, 71, 111, 50, 69, 95, 72, 63, 10, 90, 33, 70, 54, 19, 69, 64, 57, 42, 43, 61, 63, 86, 64, 44, 48, 80, 94, 111, 101, 72, 75, 78, 50, 14, 89, 46, 59, 81, 70, 37, 67, 55, 83, 51, 92, 109, 109, 71, 90, 60, 46, 52, 75, 70, 64, 86, 52, 58, 90, 65, 63, 46, 63, 108, 111, 76, 38, 48, 83, 98, 56, 52, 35, 77, 53, 66, 83, 74, 35, 73, 67, 72, 67, 71, 84, 40, 106, 84, 61, 78, 94, 22, 15, 63, 106, 79, 52, 65, 84, 67, 67, 95, 78, 67, 61, 72, 28, 36, 68, 64, 98, 74, 74, 46, 70, 49, 86, 85, 74, 40, 17, 80, 14, 92, 94, 109, 87, 108, 77, 34, 34, 44, 61, 34, 34, 83, 55, 56, 54, 78, 91, 34, 75, 71, 97, 80, 80, 80, 80, 97, 80, 52, 80, 80, 87, 80, 80, 80, 87, 73, 119, 43, 68, 17, 64, 76, 26, 82, 35, 39, 99, 68, 48, 93, 27, 103, 96, 44, 86, 50, 70, 73, 99, 73, 75, 86, 49, 46, 27, 38, 23, 122, 67, 28, 56, 85, 13, 41, 58, 88, 43, 88, 21, 93, 30, 54, 74, 37, 22, 66, 42, 86, 25, 119, 22, 37, 106, 81, 94, 63, 85, 81, 29, 104, 80, 112, 89, 72, 72, 84, 66, 82, 48, 51, 81, 43, 52, 43, 31, 104, 68, 102, 63, 94, 68, 89, 85, 127, 80, 64, 63, 96, 59, 55, 55, 90, 59, 33, 79, 103, 51, 67, 74, 51, 102, 39, 64, 32, 78, 101, 76, 64, 65, 56, 102, 57, 83, 64, 112, 79, 40, 95, 69, 45, 88, 81, 95, 33, 116, 81, 98, 85, 86, 102, 83, 95, 83, 59, 82, 53, 41, 34, 51, 107, 40, 52, 47, 74, 82, 118, 37, 49, 49, 93, 79, 49, 40, 38, 110, 97, 58, 114, 29, 66, 36, 76, 106, 65, 53, 65, 32, 47, 41, 14, 5, 54, 78, 22, 77, 45, 4, 61, 4, 60, 49, 82, 71, 75, 24, 42, 85, 95, 49, 70, 40, 64, 25, 89, 56, 67, 54, 41, 47, 23, 72, 56, 62, 91, 83, 62, 55, 91, 91, 83, 83, 67, 68, 74, 43, 83, 62, 69, 93, 95, 83, 101, 93, 82, 29, 82, 93, 42, 92, 58, 73, 51, 82, 89, 97, 36, 101, 67, 108, 36, 69, 66, 54, 94, 41, 61, 67, 33, 99, 98, 96, 7, 17, 112, 39, 76, 64, 57, 26, 80, 41, 87, 30, 85, 35, 85, 52, 16, 19, 104, 89, 25, 54, 45, 55, 85, 29, 82, 52, 82, 87, 60, 85, 56, 53, 89, 96, 68, 37, 53, 76, 74, 34, 24, 80, 67, 56, 87, 96, 83, 24, 73, 45, 43, 16, 58, 91, 67, 41, 34, 105, 8, 51, 62, 76, 66, 60, 93, 79, 59, 62, 59, 80, 79, 59, 47, 103, 100, 80, 47, 75, 93, 64, 47, 60, 68, 99, 99, 78, 76, 52, 40, 77, 36, 44, 78, 80, 30, 33, 76, 48, 87, 38, 33, 67, 100, 65, 52, 27, 18, 42, 40, 74, 28, 39, 46, 59, 87, 27, 96, 50, 104, 62, 72, 45, 61, 122, 79, 61, 27, 81, 77, 99, 83, 75, 53, 45, 52, 102, 48, 57, 49, 78, 71, 46, 86, 28, 31, 64, 79, 101, 71, 81, 67, 49, 102, 76, 134, 83, 54, 103, 41, 102, 39, 61, 42, 48, 19, 71, 36, 44, 62, 62, 93, 51, 65, 79, 77, 43, 103, 77, 87, 54, 22, 11, 66, 60, 14, 68, 112, 49, 44, 56, 88, 93, 92, 74, 22, 44, 26, 50, 36, 49, 75, 44, 68, 94, 45, 33, 92, 54, 60, 85, 104, 93, 81, 59, 42, 57, 49, 23, 59, 42, 90, 87, 75, 99, 46, 71, 90, 59, 60, 73, 105, 18, 43, 32, 61, 99, 93, 88, 60, 69, 56, 36, 56, 42, 65, 54, 42, 56, 110, 56, 56, 45, 56, 54, 56, 41, 57, 50, 48, 73, 95, 100, 10, 36, 37, 89, 75, 32, 60, 83, 11, 37, 76, 88, 50, 41, 61, 82, 77, 54, 38, 75, 92, 74, 61, 20, 80, 35, 90, 71, 64, 76, 84, 63, 19, 18, 81, 35, 33, 43, 57, 40, 14, 71, 93, 43, 48, 34, 47, 81, 58, 67, 40, 53, 75, 33, 52, 64, 53, 27, 22, 44, 74, 34, 22, 25, 78, 52, 113, 47, 42, 94, 58, 78, 58, 101, 50, 56, 119, 66, 84, 85, 109, 36, 73, 102, 60, 83, 42, 101, 85, 44, 53, 60, 104, 87, 68, 45, 71, 89, 30, 80, 104, 93, 87, 36, 36, 38, 102, 59, 53, 38, 92, 67, 84, 92, 101, 101, 83, 49, 84, 22, 60, 92, 84, 92, 87, 91, 118, 84, 91, 92, 99, 92, 118, 63, 112, 89, 55, 94, 41, 55, 79, 78, 57, 75, 55, 36, 20, 51, 72, 21, 87, 87, 43, 48, 102, 72, 84, 78, 115, 96, 109, 73, 77, 57, 86, 72, 89, 94, 44, 78, 86, 50, 60, 94, 89, 60, 82, 36, 24, 51, 51, 70, 52, 59, 42, 50, 36, 60, 76, 85, 81, 57, 26, 101, 47, 58, 81, 100, 38, 65, 52, 46, 84, 97, 84, 93, 52, 69, 101, 70, 51, 93, 52, 69, 51, 50, 69, 71, 61, 104, 99, 59, 107, 98, 48, 66, 85, 89, 56, 103, 74, 47, 83, 100, 51, 96, 30, 114, 29, 38, 90, 64, 62, 65, 19, 33, 49, 92, 102, 68, 80, 63, 95, 94, 80, 39, 83, 93, 38, 49, 82, 20, 40, 47, 81, 53, 56, 83, 34, 15, 35, 81, 26, 38, 61, 22, 66, 82, 60, 20, 55, 25, 39, 44, 32, 51, 25, 77, 41, 27, 27, 70, 28, 47, 23, 66, 55, 37, 98, 39, 72, 13, 27, 44, 96, 37, 42, 72, 32, 32, 55, 71, 38, 37, 104, 53, 38, 69, 79, 42, 41, 64, 76, 48, 58, 76, 52, 75, 63, 95, 68, 99, 25, 53, 20, 22, 75, 71, 59, 18, 20, 90, 25, 57, 49, 80, 27, 23, 24, 74, 35, 48, 39, 25, 91, 31, 24, 18, 51, 69, 79, 73, 40, 54, 40, 43, 45, 51, 89, 35, 50, 38, 48, 42, 108, 45, 53, 9, 63, 28, 18, 8, 83, 90, 58, 54, 31, 35, 20, 28, 43, 20, 46, 57, 27, 53, 59, 26, 62, 40, 78, 38, 43, 70, 7, 15, 103, 95, 83, 93, 51, 56, 57, 68, 59, 82, 100, 38, 82, 85, 120, 47, 82, 92, 53, 85, 98, 54, 68, 42, 85, 66, 77, 25, 43, 58, 89, 89, 80, 43, 90, 63, 81, 63, 53, 67, 23, 86, 63, 64, 49, 94, 72, 102, 57, 29, 77, 63, 70, 103, 44, 99, 41, 36, 32, 27, 41, 51, 61, 105, 18, 23, 62, 5, 88, 64, 71, 44, 39, 77, 22, 98, 50, 46, 40, 62, 63, 90, 108, 55, 67, 29, 29, 34, 17, 33, 80, 85, 37, 47, 65, 39, 107, 77, 40, 20, 61, 10, 27, 70, 26, 103, 15, 111, 17, 28, 56, 95, 39, 61, 47, 30, 54, 76, 39, 30, 31, 18, 37, 81, 49, 59, 43, 68, 10, 45, 16, 74, 54, 31, 34, 62, 37, 62, 30, 19, 38, 6, 87, 41, 15, 48, 105, 51, 27, 36, 89, 85, 115, 30, 61, 91, 88, 71, 62, 49, 91, 90, 92, 104, 118, 13, 85, 9, 93, 59, 46, 42, 60, 53, 109, 5, 34, 44, 50, 41, 42, 62, 74, 45, 98, 50, 89, 99, 84, 36, 41, 96, 32, 51, 54, 22, 41, 28, 19, 31, 54, 76, 50, 31, 52, 70, 28, 55, 77, 53, 58, 31, 69, 97, 60, 112, 87, 88, 90, 109, 87, 46, 69, 98, 97, 78, 17, 74, 65, 45, 55, 56, 100, 44, 23, 46, 62, 65, 97, 21, 38, 98, 75, 62, 96, 28, 50, 59, 29, 26, 89, 73, 85, 93, 17, 31, 81, 86, 44, 71, 107, 60, 40, 79, 40, 72, 59, 23, 40, 97, 51, 81, 30, 63, 78, 50, 71, 76, 7, 80, 107, 33, 95, 24, 84, 72, 95, 100, 81, 86, 26, 57, 72, 52, 44, 57, 66, 36, 43, 76, 25, 34, 32, 93, 74, 88, 106, 39, 48, 27, 22, 79, 69, 69, 72, 56, 110, 72, 62, 80, 82, 44, 62, 71, 78, 111, 62, 65, 31, 21, 64, 27, 54, 43, 86, 105, 92, 45, 97, 41, 27, 103, 96, 24, 85, 34, 22, 54, 17, 48, 68, 28, 74, 17, 68, 37, 68, 28, 32, 85, 72, 83, 33, 23, 13, 19, 75, 108, 12, 7, 44, 40, 50, 39, 101, 83, 73, 24, 34, 26, 58, 57, 31, 48, 64, 73, 90, 28, 72, 67, 78, 18, 60, 29, 64, 59, 68, 62, 41, 20, 108, 88, 55, 51, 54, 88, 80, 100, 36, 69, 45, 30, 60, 66, 87, 38, 87, 63, 58, 93, 45, 92, 93, 46, 91, 21, 45, 87, 66, 58, 89, 87, 46, 46, 84, 80, 89, 106, 67, 37, 52, 78, 89, 73, 71, 53, 80, 29, 63, 72, 82, 72, 79, 77, 72, 82, 55, 14, 45, 54, 52, 105, 22, 25, 85, 37, 39, 21, 53, 34, 26, 70, 91, 45, 74, 78, 95, 58, 57, 46, 102, 38, 61, 58, 27, 47, 59, 54, 65, 89, 70, 84, 9, 28, 32, 78, 55, 74, 48, 99, 38, 29, 35, 45, 87, 48, 82, 36, 47, 62, 77, 64, 96, 42, 51, 13, 107, 41, 21, 53, 89, 20, 66, 72, 18, 56, 46, 25, 29, 26, 85, 61, 84, 58, 17, 96, 6, 17, 60, 112, 33, 66, 70, 44, 12, 51, 75, 43, 93, 67, 84, 50, 75, 69, 39, 43, 30, 59, 84, 42, 89, 36, 45, 71, 40, 26, 78, 18, 76, 77, 59, 88, 90, 51, 108, 60, 103, 15, 45, 73, 72, 113, 88, 46, 83, 54, 83, 43, 44, 61, 62, 85, 68, 53, 53, 76, 69, 84, 85, 73, 90, 26, 58, 76, 87, 99, 66, 75, 59, 49, 72, 104, 86, 96, 78, 84, 78, 91, 83, 39, 19, 61, 84, 53, 68, 23, 46, 55, 49, 44, 81, 37, 64, 39, 81, 55, 20, 61, 65, 88, 66, 69, 28, 81, 19, 58, 73, 49, 46, 81, 37, 27, 37, 79, 22, 87, 85, 50, 80, 64, 55, 26, 17, 39, 89, 96, 44, 71, 87, 87, 81, 32, 27, 101, 64, 102, 76, 82, 74, 60, 87, 94, 68, 89, 58, 104, 85, 83, 27, 59, 103, 46, 49, 97, 75, 83, 37, 89, 50, 63, 99, 78, 93, 14, 91, 112, 64, 60, 55, 45, 70, 65, 106, 61, 94, 80, 99, 35, 30, 78, 87, 62, 39, 78, 44, 58, 68, 70, 54, 52, 69, 47, 96, 57, 109, 47, 40, 62, 100, 65, 96, 89, 70, 42, 107, 119, 83, 56, 35, 31, 83, 48, 96, 85, 49, 33, 60, 71, 85, 41, 42, 89, 33, 16, 79, 75, 44, 41, 58, 81, 74, 80, 38, 90, 46, 86, 84, 55, 5, 73, 77, 40, 53, 61, 68, 99, 39, 71, 103, 96, 30, 69, 24, 46, 43, 70, 71, 99, 52, 68, 48, 65, 84, 102, 33, 85, 37, 61, 102, 70, 67, 82, 55, 73, 31, 59, 67, 54, 38, 40, 34, 26, 26, 19, 20, 73, 27, 60, 16, 100, 56, 55, 57, 47, 32, 20, 8, 63, 22, 69, 59, 86, 47], \"xaxis\": \"x\", \"yaxis\": \"y\"}, {\"alignmentgroup\": \"True\", \"boxpoints\": \"all\", \"fillcolor\": \"rgba(255,255,255,0)\", \"hoverlabel\": {\"namelength\": 0}, \"hoveron\": \"points\", \"hovertemplate\": \"target=0<br>Distiribtion of number of character=%{x}\", \"jitter\": 0, \"legendgroup\": \"target=0\", \"line\": {\"color\": \"rgba(255,255,255,0)\"}, \"marker\": {\"color\": \"#EF553B\", \"symbol\": \"line-ns-open\"}, \"name\": \"target=0\", \"offsetgroup\": \"target=0\", \"showlegend\": false, \"type\": \"box\", \"x\": [32, 17, 37, 90, 11, 31, 44, 87, 34, 42, 44, 52, 31, 89, 72, 82, 70, 80, 66, 78, 56, 50, 43, 85, 76, 86, 56, 25, 66, 44, 9, 98, 26, 110, 36, 53, 106, 55, 89, 43, 73, 45, 61, 43, 65, 29, 72, 89, 72, 37, 72, 72, 86, 77, 88, 38, 73, 83, 58, 50, 84, 40, 20, 11, 81, 55, 59, 92, 50, 59, 83, 52, 64, 63, 74, 52, 48, 26, 42, 74, 82, 69, 74, 74, 68, 28, 42, 61, 47, 90, 39, 71, 60, 31, 80, 95, 64, 44, 55, 16, 48, 63, 72, 96, 44, 65, 113, 63, 50, 95, 98, 103, 80, 38, 63, 35, 99, 93, 99, 66, 107, 35, 79, 117, 89, 81, 78, 87, 85, 99, 62, 61, 99, 30, 35, 93, 17, 65, 88, 18, 50, 18, 101, 89, 87, 87, 37, 53, 74, 35, 96, 77, 59, 38, 108, 92, 50, 44, 95, 33, 55, 53, 56, 59, 92, 55, 94, 67, 81, 102, 55, 57, 89, 11, 99, 57, 113, 49, 87, 112, 78, 69, 40, 81, 40, 67, 98, 47, 80, 116, 73, 72, 70, 32, 43, 32, 41, 41, 43, 63, 72, 60, 38, 90, 43, 41, 33, 32, 43, 74, 42, 80, 101, 32, 41, 32, 41, 87, 84, 84, 43, 59, 63, 23, 11, 69, 6, 90, 70, 18, 71, 52, 47, 72, 52, 16, 69, 15, 31, 107, 103, 25, 79, 6, 41, 70, 11, 69, 19, 44, 39, 55, 43, 56, 23, 31, 91, 80, 58, 57, 51, 53, 46, 81, 25, 95, 42, 40, 14, 26, 64, 25, 20, 62, 101, 51, 20, 87, 79, 61, 85, 46, 33, 76, 59, 25, 93, 70, 24, 72, 84, 84, 107, 70, 93, 61, 110, 45, 87, 85, 104, 66, 62, 29, 20, 53, 41, 62, 42, 79, 83, 64, 66, 35, 109, 80, 30, 46, 19, 45, 46, 49, 28, 91, 36, 13, 69, 83, 71, 88, 52, 84, 68, 64, 100, 77, 116, 70, 92, 61, 52, 82, 70, 81, 110, 103, 114, 86, 22, 98, 103, 103, 22, 116, 21, 26, 47, 84, 10, 16, 73, 106, 33, 33, 46, 18, 51, 87, 119, 26, 56, 56, 40, 13, 28, 69, 103, 43, 61, 49, 67, 51, 73, 47, 9, 27, 84, 51, 58, 82, 79, 79, 44, 87, 62, 72, 14, 48, 65, 51, 58, 69, 34, 85, 50, 84, 33, 13, 62, 23, 106, 42, 67, 28, 59, 80, 74, 94, 57, 63, 52, 41, 39, 67, 38, 50, 96, 70, 51, 44, 30, 21, 43, 82, 14, 46, 38, 40, 53, 100, 60, 32, 42, 43, 73, 72, 26, 20, 33, 62, 39, 27, 57, 20, 57, 65, 86, 68, 65, 66, 34, 16, 33, 62, 13, 20, 88, 103, 40, 61, 13, 61, 20, 28, 55, 49, 95, 28, 17, 20, 86, 63, 78, 108, 17, 9, 83, 47, 57, 62, 83, 43, 95, 27, 83, 63, 81, 26, 28, 56, 37, 66, 81, 34, 86, 86, 62, 77, 90, 57, 27, 67, 21, 50, 33, 97, 70, 52, 6, 84, 18, 35, 40, 28, 27, 62, 103, 35, 27, 30, 46, 25, 58, 24, 43, 26, 23, 36, 65, 40, 27, 47, 90, 21, 9, 45, 42, 74, 80, 80, 47, 18, 49, 60, 65, 40, 42, 39, 64, 103, 27, 11, 35, 69, 52, 28, 21, 65, 70, 18, 76, 79, 31, 79, 27, 40, 27, 72, 69, 24, 59, 53, 103, 39, 74, 53, 55, 94, 15, 29, 94, 101, 53, 56, 34, 76, 37, 28, 76, 30, 48, 73, 51, 94, 100, 56, 81, 74, 82, 35, 14, 28, 88, 53, 18, 67, 65, 83, 50, 45, 66, 65, 69, 67, 58, 96, 77, 93, 97, 26, 49, 15, 75, 87, 91, 108, 82, 57, 96, 101, 84, 63, 88, 92, 91, 51, 89, 81, 91, 97, 89, 80, 51, 90, 84, 91, 38, 90, 82, 75, 90, 84, 80, 29, 91, 71, 63, 49, 30, 99, 88, 64, 26, 48, 38, 87, 67, 25, 68, 59, 64, 65, 47, 53, 87, 101, 101, 94, 43, 59, 74, 24, 36, 62, 114, 51, 73, 77, 20, 67, 65, 60, 10, 70, 114, 94, 90, 82, 111, 31, 55, 93, 74, 17, 89, 102, 93, 81, 25, 41, 78, 96, 54, 39, 29, 80, 92, 123, 97, 33, 116, 82, 95, 81, 61, 61, 26, 31, 30, 59, 51, 25, 17, 61, 31, 30, 25, 52, 23, 26, 57, 97, 15, 96, 22, 52, 49, 30, 73, 83, 40, 77, 50, 92, 114, 56, 32, 53, 59, 56, 21, 30, 32, 41, 66, 70, 106, 89, 90, 66, 51, 40, 93, 63, 40, 80, 61, 50, 77, 82, 49, 81, 72, 79, 118, 89, 81, 61, 76, 80, 14, 23, 66, 61, 87, 74, 56, 60, 27, 49, 54, 35, 90, 62, 52, 39, 65, 53, 75, 26, 70, 27, 24, 70, 85, 86, 64, 93, 39, 31, 70, 65, 24, 86, 89, 52, 69, 43, 30, 60, 28, 71, 67, 83, 50, 87, 70, 63, 100, 58, 74, 79, 93, 119, 73, 97, 82, 78, 105, 89, 87, 78, 80, 80, 78, 59, 66, 80, 80, 53, 78, 89, 51, 66, 31, 49, 112, 65, 66, 98, 31, 94, 57, 59, 73, 24, 85, 20, 16, 64, 27, 79, 39, 48, 86, 97, 61, 66, 104, 40, 103, 67, 95, 73, 21, 72, 80, 78, 51, 60, 106, 62, 65, 35, 65, 60, 82, 86, 53, 96, 62, 48, 76, 83, 65, 104, 55, 109, 101, 97, 89, 95, 54, 106, 71, 92, 76, 92, 92, 117, 60, 114, 73, 83, 79, 68, 114, 97, 67, 86, 93, 70, 100, 43, 35, 92, 89, 23, 45, 23, 77, 53, 16, 53, 15, 85, 73, 41, 15, 46, 77, 35, 31, 76, 63, 51, 82, 64, 80, 82, 35, 70, 80, 90, 49, 56, 99, 53, 77, 56, 67, 58, 62, 98, 74, 30, 51, 75, 109, 96, 94, 87, 89, 55, 86, 60, 40, 75, 30, 70, 105, 70, 77, 34, 86, 77, 64, 55, 40, 50, 17, 89, 65, 21, 44, 84, 35, 54, 106, 69, 44, 30, 62, 48, 36, 66, 26, 81, 91, 101, 38, 44, 65, 50, 63, 94, 75, 62, 40, 60, 26, 39, 95, 93, 72, 45, 75, 98, 80, 88, 26, 81, 98, 16, 42, 84, 79, 70, 86, 61, 36, 86, 83, 56, 56, 56, 61, 38, 100, 88, 33, 53, 93, 57, 70, 36, 57, 10, 27, 64, 28, 100, 89, 59, 67, 49, 54, 25, 63, 71, 55, 47, 45, 63, 14, 51, 74, 21, 75, 47, 68, 104, 53, 75, 33, 39, 71, 29, 90, 42, 17, 14, 35, 44, 42, 7, 24, 59, 34, 43, 98, 46, 49, 24, 24, 35, 37, 48, 28, 22, 17, 53, 56, 35, 30, 27, 7, 24, 17, 35, 8, 62, 92, 17, 31, 27, 67, 61, 92, 67, 42, 51, 28, 33, 61, 64, 51, 38, 94, 135, 44, 45, 102, 30, 24, 11, 110, 26, 47, 33, 28, 40, 91, 36, 16, 74, 21, 17, 46, 12, 91, 65, 42, 63, 97, 76, 93, 109, 30, 16, 60, 30, 71, 36, 32, 57, 97, 89, 96, 71, 25, 76, 47, 128, 57, 35, 53, 59, 68, 17, 73, 66, 46, 84, 42, 30, 38, 72, 67, 58, 77, 79, 78, 23, 62, 92, 85, 94, 22, 47, 102, 83, 19, 95, 99, 59, 83, 78, 82, 76, 50, 90, 31, 58, 45, 90, 80, 81, 77, 42, 67, 60, 80, 71, 20, 28, 85, 91, 17, 84, 48, 120, 48, 58, 52, 34, 64, 115, 79, 18, 37, 94, 85, 59, 32, 37, 95, 51, 17, 62, 67, 78, 69, 32, 37, 49, 48, 75, 15, 52, 67, 66, 72, 43, 18, 86, 43, 41, 88, 25, 77, 75, 66, 30, 42, 59, 25, 14, 86, 92, 68, 96, 27, 96, 25, 73, 110, 104, 73, 83, 60, 50, 58, 99, 46, 101, 75, 43, 68, 90, 38, 55, 100, 74, 98, 64, 41, 67, 78, 105, 48, 58, 93, 77, 45, 28, 107, 103, 103, 70, 78, 95, 47, 96, 89, 89, 67, 68, 76, 76, 105, 82, 79, 79, 91, 33, 80, 75, 80, 80, 81, 38, 80, 83, 51, 85, 94, 104, 102, 30, 95, 99, 33, 77, 77, 73, 73, 36, 38, 22, 70, 91, 78, 37, 52, 21, 54, 104, 94, 77, 106, 93, 73, 120, 72, 69, 21, 44, 84, 56, 90, 36, 35, 89, 43, 67, 19, 72, 53, 85, 58, 72, 47, 42, 31, 79, 54, 87, 43, 52, 106, 48, 83, 65, 40, 82, 34, 33, 91, 65, 82, 111, 65, 47, 69, 60, 72, 53, 97, 67, 61, 64, 103, 77, 104, 96, 79, 111, 80, 105, 103, 91, 108, 37, 52, 106, 103, 84, 68, 97, 100, 57, 46, 83, 79, 106, 28, 82, 51, 37, 80, 68, 89, 63, 58, 59, 45, 76, 59, 35, 77, 74, 104, 55, 70, 13, 48, 62, 82, 80, 38, 77, 28, 65, 110, 82, 77, 37, 74, 113, 70, 43, 67, 43, 47, 57, 97, 74, 78, 90, 67, 64, 72, 71, 81, 57, 56, 35, 69, 27, 88, 69, 37, 71, 89, 48, 39, 82, 72, 93, 73, 64, 52, 74, 86, 37, 81, 73, 84, 72, 28, 54, 13, 25, 109, 57, 73, 18, 99, 78, 85, 67, 68, 83, 93, 102, 21, 17, 62, 83, 83, 102, 83, 55, 13, 77, 50, 65, 83, 84, 94, 83, 67, 58, 83, 67, 110, 50, 108, 92, 81, 115, 50, 70, 62, 27, 74, 46, 70, 110, 52, 48, 35, 93, 35, 66, 89, 31, 40, 85, 75, 35, 17, 49, 29, 71, 51, 42, 51, 28, 48, 67, 28, 53, 22, 36, 49, 64, 31, 42, 34, 57, 62, 106, 51, 48, 34, 49, 78, 62, 64, 49, 83, 66, 76, 89, 71, 64, 47, 43, 66, 89, 68, 82, 67, 65, 82, 109, 94, 92, 78, 66, 69, 9, 76, 53, 57, 83, 90, 24, 45, 29, 14, 49, 89, 65, 69, 66, 81, 23, 77, 78, 79, 70, 37, 12, 70, 43, 19, 32, 78, 23, 22, 19, 85, 47, 73, 66, 116, 69, 62, 80, 70, 59, 79, 100, 84, 94, 42, 33, 43, 100, 67, 70, 45, 43, 29, 46, 66, 90, 40, 81, 65, 24, 66, 49, 50, 21, 35, 18, 29, 28, 24, 21, 39, 30, 99, 11, 32, 30, 81, 34, 30, 88, 73, 61, 84, 56, 36, 54, 78, 69, 31, 70, 25, 60, 77, 83, 80, 55, 70, 32, 56, 33, 46, 52, 78, 69, 50, 13, 88, 77, 66, 25, 116, 82, 100, 34, 83, 99, 29, 18, 40, 57, 83, 42, 99, 24, 82, 105, 34, 101, 84, 24, 67, 75, 33, 42, 91, 82, 65, 59, 66, 104, 63, 66, 82, 104, 83, 84, 59, 28, 74, 27, 23, 38, 59, 39, 16, 25, 62, 104, 39, 66, 65, 104, 59, 11, 17, 38, 18, 53, 59, 34, 74, 26, 49, 71, 48, 45, 16, 68, 17, 70, 74, 98, 74, 23, 81, 54, 55, 60, 40, 87, 34, 83, 42, 79, 38, 52, 59, 91, 70, 73, 39, 70, 68, 21, 78, 66, 55, 74, 44, 88, 17, 85, 71, 74, 92, 96, 72, 104, 99, 54, 62, 101, 72, 116, 89, 64, 77, 84, 66, 103, 36, 66, 73, 50, 112, 70, 59, 51, 75, 40, 64, 80, 86, 81, 85, 91, 72, 83, 123, 68, 84, 72, 87, 70, 104, 82, 101, 43, 83, 76, 124, 65, 98, 92, 77, 103, 80, 62, 39, 56, 80, 23, 51, 34, 67, 56, 80, 80, 94, 70, 34, 80, 56, 78, 48, 49, 46, 35, 83, 51, 41, 80, 40, 63, 79, 35, 55, 76, 36, 37, 49, 55, 43, 95, 25, 70, 13, 78, 90, 90, 82, 79, 45, 75, 90, 84, 80, 76, 64, 100, 92, 48, 81, 58, 47, 54, 65, 70, 87, 53, 53, 65, 45, 26, 21, 60, 98, 104, 70, 10, 81, 23, 60, 88, 60, 43, 105, 81, 35, 14, 81, 55, 18, 17, 35, 81, 72, 87, 82, 92, 41, 59, 47, 82, 99, 69, 41, 37, 32, 30, 59, 42, 88, 19, 84, 99, 47, 47, 97, 101, 100, 47, 48, 75, 84, 73, 83, 92, 89, 83, 83, 78, 75, 96, 70, 100, 73, 75, 93, 76, 21, 38, 84, 82, 100, 101, 74, 80, 94, 71, 71, 96, 35, 99, 61, 88, 74, 67, 81, 25, 74, 60, 40, 55, 109, 80, 65, 45, 45, 58, 71, 65, 69, 37, 24, 51, 46, 57, 39, 93, 35, 53, 48, 16, 65, 51, 75, 52, 76, 26, 70, 96, 42, 33, 51, 41, 51, 90, 45, 80, 61, 100, 53, 76, 36, 96, 82, 64, 8, 8, 91, 9, 34, 55, 26, 29, 21, 22, 107, 32, 26, 52, 9, 70, 50, 82, 107, 81, 8, 48, 31, 56, 84, 62, 77, 41, 35, 86, 109, 55, 79, 82, 71, 30, 75, 73, 11, 53, 61, 42, 18, 26, 117, 37, 53, 35, 73, 77, 16, 60, 98, 76, 97, 14, 93, 82, 59, 78, 22, 21, 31, 13, 34, 38, 8, 25, 108, 90, 117, 52, 31, 23, 34, 108, 46, 76, 51, 47, 66, 19, 31, 61, 52, 82, 38, 63, 77, 100, 81, 29, 24, 79, 84, 68, 53, 100, 86, 95, 93, 56, 51, 92, 42, 74, 75, 81, 74, 80, 63, 60, 82, 82, 69, 38, 60, 71, 34, 60, 31, 26, 33, 42, 99, 48, 81, 43, 81, 59, 53, 27, 42, 59, 76, 80, 46, 71, 33, 63, 76, 21, 19, 30, 10, 48, 88, 73, 73, 47, 19, 94, 64, 40, 31, 55, 111, 91, 90, 118, 28, 36, 77, 93, 81, 62, 98, 43, 78, 80, 72, 93, 78, 14, 82, 49, 79, 71, 79, 80, 80, 78, 78, 95, 86, 78, 82, 83, 101, 46, 81, 59, 39, 68, 46, 40, 32, 61, 30, 119, 110, 94, 98, 103, 56, 73, 69, 86, 109, 86, 58, 89, 40, 67, 86, 68, 49, 54, 29, 30, 46, 35, 55, 32, 46, 47, 96, 95, 53, 19, 18, 12, 85, 80, 35, 24, 76, 25, 81, 56, 43, 14, 70, 56, 108, 53, 46, 68, 22, 67, 68, 35, 37, 71, 111, 50, 69, 95, 72, 63, 10, 90, 33, 70, 54, 19, 69, 64, 57, 42, 43, 61, 63, 86, 64, 44, 48, 80, 94, 111, 101, 72, 75, 78, 50, 14, 89, 46, 59, 81, 70, 37, 67, 55, 83, 51, 92, 109, 109, 71, 90, 60, 46, 52, 75, 70, 64, 86, 52, 58, 90, 65, 63, 46, 63, 108, 111, 76, 38, 48, 83, 98, 56, 52, 35, 77, 53, 66, 83, 74, 35, 73, 67, 72, 67, 71, 84, 40, 106, 84, 61, 78, 94, 22, 15, 63, 106, 79, 52, 65, 84, 67, 67, 95, 78, 67, 61, 72, 28, 36, 68, 64, 98, 74, 74, 46, 70, 49, 86, 85, 74, 40, 17, 80, 14, 92, 94, 109, 87, 108, 77, 34, 34, 44, 61, 34, 34, 83, 55, 56, 54, 78, 91, 34, 75, 71, 97, 80, 80, 80, 80, 97, 80, 52, 80, 80, 87, 80, 80, 80, 87, 73, 119, 43, 68, 17, 64, 76, 26, 82, 35, 39, 99, 68, 48, 93, 27, 103, 96, 44, 86, 50, 70, 73, 99, 73, 75, 86, 49, 46, 27, 38, 23, 122, 67, 28, 56, 85, 13, 41, 58, 88, 43, 88, 21, 93, 30, 54, 74, 37, 22, 66, 42, 86, 25, 119, 22, 37, 106, 81, 94, 63, 85, 81, 29, 104, 80, 112, 89, 72, 72, 84, 66, 82, 48, 51, 81, 43, 52, 43, 31, 104, 68, 102, 63, 94, 68, 89, 85, 127, 80, 64, 63, 96, 59, 55, 55, 90, 59, 33, 79, 103, 51, 67, 74, 51, 102, 39, 64, 32, 78, 101, 76, 64, 65, 56, 102, 57, 83, 64, 112, 79, 40, 95, 69, 45, 88, 81, 95, 33, 116, 81, 98, 85, 86, 102, 83, 95, 83, 59, 82, 53, 41, 34, 51, 107, 40, 52, 47, 74, 82, 118, 37, 49, 49, 93, 79, 49, 40, 38, 110, 97, 58, 114, 29, 66, 36, 76, 106, 65, 53, 65, 32, 47, 41, 14, 5, 54, 78, 22, 77, 45, 4, 61, 4, 60, 49, 82, 71, 75, 24, 42, 85, 95, 49, 70, 40, 64, 25, 89, 56, 67, 54, 41, 47, 23, 72, 56, 62, 91, 83, 62, 55, 91, 91, 83, 83, 67, 68, 74, 43, 83, 62, 69, 93, 95, 83, 101, 93, 82, 29, 82, 93, 42, 92, 58, 73, 51, 82, 89, 97, 36, 101, 67, 108, 36, 69, 66, 54, 94, 41, 61, 67, 33, 99, 98, 96, 7, 17, 112, 39, 76, 64, 57, 26, 80, 41, 87, 30, 85, 35, 85, 52, 16, 19, 104, 89, 25, 54, 45, 55, 85, 29, 82, 52, 82, 87, 60, 85, 56, 53, 89, 96, 68, 37, 53, 76, 74, 34, 24, 80, 67, 56, 87, 96, 83, 24, 73, 45, 43, 16, 58, 91, 67, 41, 34, 105, 8, 51, 62, 76, 66, 60, 93, 79, 59, 62, 59, 80, 79, 59, 47, 103, 100, 80, 47, 75, 93, 64, 47, 60, 68, 99, 99, 78, 76, 52, 40, 77, 36, 44, 78, 80, 30, 33, 76, 48, 87, 38, 33, 67, 100, 65, 52, 27, 18, 42, 40, 74, 28, 39, 46, 59, 87, 27, 96, 50, 104, 62, 72, 45, 61, 122, 79, 61, 27, 81, 77, 99, 83, 75, 53, 45, 52, 102, 48, 57, 49, 78, 71, 46, 86, 28, 31, 64, 79, 101, 71, 81, 67, 49, 102, 76, 134, 83, 54, 103, 41, 102, 39, 61, 42, 48, 19, 71, 36, 44, 62, 62, 93, 51, 65, 79, 77, 43, 103, 77, 87, 54, 22, 11, 66, 60, 14, 68, 112, 49, 44, 56, 88, 93, 92, 74, 22, 44, 26, 50, 36, 49, 75, 44, 68, 94, 45, 33, 92, 54, 60, 85, 104, 93, 81, 59, 42, 57, 49, 23, 59, 42, 90, 87, 75, 99, 46, 71, 90, 59, 60, 73, 105, 18, 43, 32, 61, 99, 93, 88, 60, 69, 56, 36, 56, 42, 65, 54, 42, 56, 110, 56, 56, 45, 56, 54, 56, 41, 57, 50, 48, 73, 95, 100, 10, 36, 37, 89, 75, 32, 60, 83, 11, 37, 76, 88, 50, 41, 61, 82, 77, 54, 38, 75, 92, 74, 61, 20, 80, 35, 90, 71, 64, 76, 84, 63, 19, 18, 81, 35, 33, 43, 57, 40, 14, 71, 93, 43, 48, 34, 47, 81, 58, 67, 40, 53, 75, 33, 52, 64, 53, 27, 22, 44, 74, 34, 22, 25, 78, 52, 113, 47, 42, 94, 58, 78, 58, 101, 50, 56, 119, 66, 84, 85, 109, 36, 73, 102, 60, 83, 42, 101, 85, 44, 53, 60, 104, 87, 68, 45, 71, 89, 30, 80, 104, 93, 87, 36, 36, 38, 102, 59, 53, 38, 92, 67, 84, 92, 101, 101, 83, 49, 84, 22, 60, 92, 84, 92, 87, 91, 118, 84, 91, 92, 99, 92, 118, 63, 112, 89, 55, 94, 41, 55, 79, 78, 57, 75, 55, 36, 20, 51, 72, 21, 87, 87, 43, 48, 102, 72, 84, 78, 115, 96, 109, 73, 77, 57, 86, 72, 89, 94, 44, 78, 86, 50, 60, 94, 89, 60, 82, 36, 24, 51, 51, 70, 52, 59, 42, 50, 36, 60, 76, 85, 81, 57, 26, 101, 47, 58, 81, 100, 38, 65, 52, 46, 84, 97, 84, 93, 52, 69, 101, 70, 51, 93, 52, 69, 51, 50, 69, 71, 61, 104, 99, 59, 107, 98, 48, 66, 85, 89, 56, 103, 74, 47, 83, 100, 51, 96, 30, 114, 29, 38, 90, 64, 62, 65, 19, 33, 49, 92, 102, 68, 80, 63, 95, 94, 80, 39, 83, 93, 38, 49, 82, 20, 40, 47, 81, 53, 56, 83, 34, 15, 35, 81, 26, 38, 61, 22, 66, 82, 60, 20, 55, 25, 39, 44, 32, 51, 25, 77, 41, 27, 27, 70, 28, 47, 23, 66, 55, 37, 98, 39, 72, 13, 27, 44, 96, 37, 42, 72, 32, 32, 55, 71, 38, 37, 104, 53, 38, 69, 79, 42, 41, 64, 76, 48, 58, 76, 52, 75, 63, 95, 68, 99, 25, 53, 20, 22, 75, 71, 59, 18, 20, 90, 25, 57, 49, 80, 27, 23, 24, 74, 35, 48, 39, 25, 91, 31, 24, 18, 51, 69, 79, 73, 40, 54, 40, 43, 45, 51, 89, 35, 50, 38, 48, 42, 108, 45, 53, 9, 63, 28, 18, 8, 83, 90, 58, 54, 31, 35, 20, 28, 43, 20, 46, 57, 27, 53, 59, 26, 62, 40, 78, 38, 43, 70, 7, 15, 103, 95, 83, 93, 51, 56, 57, 68, 59, 82, 100, 38, 82, 85, 120, 47, 82, 92, 53, 85, 98, 54, 68, 42, 85, 66, 77, 25, 43, 58, 89, 89, 80, 43, 90, 63, 81, 63, 53, 67, 23, 86, 63, 64, 49, 94, 72, 102, 57, 29, 77, 63, 70, 103, 44, 99, 41, 36, 32, 27, 41, 51, 61, 105, 18, 23, 62, 5, 88, 64, 71, 44, 39, 77, 22, 98, 50, 46, 40, 62, 63, 90, 108, 55, 67, 29, 29, 34, 17, 33, 80, 85, 37, 47, 65, 39, 107, 77, 40, 20, 61, 10, 27, 70, 26, 103, 15, 111, 17, 28, 56, 95, 39, 61, 47, 30, 54, 76, 39, 30, 31, 18, 37, 81, 49, 59, 43, 68, 10, 45, 16, 74, 54, 31, 34, 62, 37, 62, 30, 19, 38, 6, 87, 41, 15, 48, 105, 51, 27, 36, 89, 85, 115, 30, 61, 91, 88, 71, 62, 49, 91, 90, 92, 104, 118, 13, 85, 9, 93, 59, 46, 42, 60, 53, 109, 5, 34, 44, 50, 41, 42, 62, 74, 45, 98, 50, 89, 99, 84, 36, 41, 96, 32, 51, 54, 22, 41, 28, 19, 31, 54, 76, 50, 31, 52, 70, 28, 55, 77, 53, 58, 31, 69, 97, 60, 112, 87, 88, 90, 109, 87, 46, 69, 98, 97, 78, 17, 74, 65, 45, 55, 56, 100, 44, 23, 46, 62, 65, 97, 21, 38, 98, 75, 62, 96, 28, 50, 59, 29, 26, 89, 73, 85, 93, 17, 31, 81, 86, 44, 71, 107, 60, 40, 79, 40, 72, 59, 23, 40, 97, 51, 81, 30, 63, 78, 50, 71, 76, 7, 80, 107, 33, 95, 24, 84, 72, 95, 100, 81, 86, 26, 57, 72, 52, 44, 57, 66, 36, 43, 76, 25, 34, 32, 93, 74, 88, 106, 39, 48, 27, 22, 79, 69, 69, 72, 56, 110, 72, 62, 80, 82, 44, 62, 71, 78, 111, 62, 65, 31, 21, 64, 27, 54, 43, 86, 105, 92, 45, 97, 41, 27, 103, 96, 24, 85, 34, 22, 54, 17, 48, 68, 28, 74, 17, 68, 37, 68, 28, 32, 85, 72, 83, 33, 23, 13, 19, 75, 108, 12, 7, 44, 40, 50, 39, 101, 83, 73, 24, 34, 26, 58, 57, 31, 48, 64, 73, 90, 28, 72, 67, 78, 18, 60, 29, 64, 59, 68, 62, 41, 20, 108, 88, 55, 51, 54, 88, 80, 100, 36, 69, 45, 30, 60, 66, 87, 38, 87, 63, 58, 93, 45, 92, 93, 46, 91, 21, 45, 87, 66, 58, 89, 87, 46, 46, 84, 80, 89, 106, 67, 37, 52, 78, 89, 73, 71, 53, 80, 29, 63, 72, 82, 72, 79, 77, 72, 82, 55, 14, 45, 54, 52, 105, 22, 25, 85, 37, 39, 21, 53, 34, 26, 70, 91, 45, 74, 78, 95, 58, 57, 46, 102, 38, 61, 58, 27, 47, 59, 54, 65, 89, 70, 84, 9, 28, 32, 78, 55, 74, 48, 99, 38, 29, 35, 45, 87, 48, 82, 36, 47, 62, 77, 64, 96, 42, 51, 13, 107, 41, 21, 53, 89, 20, 66, 72, 18, 56, 46, 25, 29, 26, 85, 61, 84, 58, 17, 96, 6, 17, 60, 112, 33, 66, 70, 44, 12, 51, 75, 43, 93, 67, 84, 50, 75, 69, 39, 43, 30, 59, 84, 42, 89, 36, 45, 71, 40, 26, 78, 18, 76, 77, 59, 88, 90, 51, 108, 60, 103, 15, 45, 73, 72, 113, 88, 46, 83, 54, 83, 43, 44, 61, 62, 85, 68, 53, 53, 76, 69, 84, 85, 73, 90, 26, 58, 76, 87, 99, 66, 75, 59, 49, 72, 104, 86, 96, 78, 84, 78, 91, 83, 39, 19, 61, 84, 53, 68, 23, 46, 55, 49, 44, 81, 37, 64, 39, 81, 55, 20, 61, 65, 88, 66, 69, 28, 81, 19, 58, 73, 49, 46, 81, 37, 27, 37, 79, 22, 87, 85, 50, 80, 64, 55, 26, 17, 39, 89, 96, 44, 71, 87, 87, 81, 32, 27, 101, 64, 102, 76, 82, 74, 60, 87, 94, 68, 89, 58, 104, 85, 83, 27, 59, 103, 46, 49, 97, 75, 83, 37, 89, 50, 63, 99, 78, 93, 14, 91, 112, 64, 60, 55, 45, 70, 65, 106, 61, 94, 80, 99, 35, 30, 78, 87, 62, 39, 78, 44, 58, 68, 70, 54, 52, 69, 47, 96, 57, 109, 47, 40, 62, 100, 65, 96, 89, 70, 42, 107, 119, 83, 56, 35, 31, 83, 48, 96, 85, 49, 33, 60, 71, 85, 41, 42, 89, 33, 16, 79, 75, 44, 41, 58, 81, 74, 80, 38, 90, 46, 86, 84, 55, 5, 73, 77, 40, 53, 61, 68, 99, 39, 71, 103, 96, 30, 69, 24, 46, 43, 70, 71, 99, 52, 68, 48, 65, 84, 102, 33, 85, 37, 61, 102, 70, 67, 82, 55, 73, 31, 59, 67, 54, 38, 40, 34, 26, 26, 19, 20, 73, 27, 60, 16, 100, 56, 55, 57, 47, 32, 20, 8, 63, 22, 69, 59, 86, 47], \"xaxis\": \"x2\", \"yaxis\": \"y2\"}],\n",
              "                        {\"barmode\": \"relative\", \"legend\": {\"tracegroupgap\": 0}, \"template\": {\"data\": {\"bar\": [{\"error_x\": {\"color\": \"#2a3f5f\"}, \"error_y\": {\"color\": \"#2a3f5f\"}, \"marker\": {\"line\": {\"color\": \"#E5ECF6\", \"width\": 0.5}}, \"type\": \"bar\"}], \"barpolar\": [{\"marker\": {\"line\": {\"color\": \"#E5ECF6\", \"width\": 0.5}}, \"type\": \"barpolar\"}], \"carpet\": [{\"aaxis\": {\"endlinecolor\": \"#2a3f5f\", \"gridcolor\": \"white\", \"linecolor\": \"white\", \"minorgridcolor\": \"white\", \"startlinecolor\": \"#2a3f5f\"}, \"baxis\": {\"endlinecolor\": \"#2a3f5f\", \"gridcolor\": \"white\", \"linecolor\": \"white\", \"minorgridcolor\": \"white\", \"startlinecolor\": \"#2a3f5f\"}, \"type\": \"carpet\"}], \"choropleth\": [{\"colorbar\": {\"outlinewidth\": 0, \"ticks\": \"\"}, \"type\": \"choropleth\"}], \"contour\": [{\"colorbar\": {\"outlinewidth\": 0, \"ticks\": \"\"}, \"colorscale\": [[0.0, \"#0d0887\"], [0.1111111111111111, \"#46039f\"], [0.2222222222222222, \"#7201a8\"], [0.3333333333333333, \"#9c179e\"], [0.4444444444444444, \"#bd3786\"], [0.5555555555555556, \"#d8576b\"], [0.6666666666666666, \"#ed7953\"], [0.7777777777777778, \"#fb9f3a\"], [0.8888888888888888, \"#fdca26\"], [1.0, \"#f0f921\"]], \"type\": \"contour\"}], \"contourcarpet\": [{\"colorbar\": {\"outlinewidth\": 0, \"ticks\": \"\"}, \"type\": \"contourcarpet\"}], \"heatmap\": [{\"colorbar\": {\"outlinewidth\": 0, \"ticks\": \"\"}, \"colorscale\": [[0.0, \"#0d0887\"], [0.1111111111111111, \"#46039f\"], [0.2222222222222222, \"#7201a8\"], [0.3333333333333333, \"#9c179e\"], [0.4444444444444444, \"#bd3786\"], [0.5555555555555556, \"#d8576b\"], [0.6666666666666666, \"#ed7953\"], [0.7777777777777778, \"#fb9f3a\"], [0.8888888888888888, \"#fdca26\"], [1.0, \"#f0f921\"]], \"type\": \"heatmap\"}], \"heatmapgl\": [{\"colorbar\": {\"outlinewidth\": 0, \"ticks\": \"\"}, \"colorscale\": [[0.0, \"#0d0887\"], [0.1111111111111111, \"#46039f\"], [0.2222222222222222, \"#7201a8\"], [0.3333333333333333, \"#9c179e\"], [0.4444444444444444, \"#bd3786\"], [0.5555555555555556, \"#d8576b\"], [0.6666666666666666, \"#ed7953\"], [0.7777777777777778, \"#fb9f3a\"], [0.8888888888888888, \"#fdca26\"], [1.0, \"#f0f921\"]], \"type\": \"heatmapgl\"}], \"histogram\": [{\"marker\": {\"colorbar\": {\"outlinewidth\": 0, \"ticks\": \"\"}}, \"type\": \"histogram\"}], \"histogram2d\": [{\"colorbar\": {\"outlinewidth\": 0, \"ticks\": \"\"}, \"colorscale\": [[0.0, \"#0d0887\"], [0.1111111111111111, \"#46039f\"], [0.2222222222222222, \"#7201a8\"], [0.3333333333333333, \"#9c179e\"], [0.4444444444444444, \"#bd3786\"], [0.5555555555555556, \"#d8576b\"], [0.6666666666666666, \"#ed7953\"], [0.7777777777777778, \"#fb9f3a\"], [0.8888888888888888, \"#fdca26\"], [1.0, \"#f0f921\"]], \"type\": \"histogram2d\"}], \"histogram2dcontour\": [{\"colorbar\": {\"outlinewidth\": 0, \"ticks\": \"\"}, \"colorscale\": [[0.0, \"#0d0887\"], [0.1111111111111111, \"#46039f\"], [0.2222222222222222, \"#7201a8\"], [0.3333333333333333, \"#9c179e\"], [0.4444444444444444, \"#bd3786\"], [0.5555555555555556, \"#d8576b\"], [0.6666666666666666, \"#ed7953\"], [0.7777777777777778, \"#fb9f3a\"], [0.8888888888888888, \"#fdca26\"], [1.0, \"#f0f921\"]], \"type\": \"histogram2dcontour\"}], \"mesh3d\": [{\"colorbar\": {\"outlinewidth\": 0, \"ticks\": \"\"}, \"type\": \"mesh3d\"}], \"parcoords\": [{\"line\": {\"colorbar\": {\"outlinewidth\": 0, \"ticks\": \"\"}}, \"type\": \"parcoords\"}], \"pie\": [{\"automargin\": true, \"type\": \"pie\"}], \"scatter\": [{\"marker\": {\"colorbar\": {\"outlinewidth\": 0, \"ticks\": \"\"}}, \"type\": \"scatter\"}], \"scatter3d\": [{\"line\": {\"colorbar\": {\"outlinewidth\": 0, \"ticks\": \"\"}}, \"marker\": {\"colorbar\": {\"outlinewidth\": 0, \"ticks\": \"\"}}, \"type\": \"scatter3d\"}], \"scattercarpet\": [{\"marker\": {\"colorbar\": {\"outlinewidth\": 0, \"ticks\": \"\"}}, \"type\": \"scattercarpet\"}], \"scattergeo\": [{\"marker\": {\"colorbar\": {\"outlinewidth\": 0, \"ticks\": \"\"}}, \"type\": \"scattergeo\"}], \"scattergl\": [{\"marker\": {\"colorbar\": {\"outlinewidth\": 0, \"ticks\": \"\"}}, \"type\": \"scattergl\"}], \"scattermapbox\": [{\"marker\": {\"colorbar\": {\"outlinewidth\": 0, \"ticks\": \"\"}}, \"type\": \"scattermapbox\"}], \"scatterpolar\": [{\"marker\": {\"colorbar\": {\"outlinewidth\": 0, \"ticks\": \"\"}}, \"type\": \"scatterpolar\"}], \"scatterpolargl\": [{\"marker\": {\"colorbar\": {\"outlinewidth\": 0, \"ticks\": \"\"}}, \"type\": \"scatterpolargl\"}], \"scatterternary\": [{\"marker\": {\"colorbar\": {\"outlinewidth\": 0, \"ticks\": \"\"}}, \"type\": \"scatterternary\"}], \"surface\": [{\"colorbar\": {\"outlinewidth\": 0, \"ticks\": \"\"}, \"colorscale\": [[0.0, \"#0d0887\"], [0.1111111111111111, \"#46039f\"], [0.2222222222222222, \"#7201a8\"], [0.3333333333333333, \"#9c179e\"], [0.4444444444444444, \"#bd3786\"], [0.5555555555555556, \"#d8576b\"], [0.6666666666666666, \"#ed7953\"], [0.7777777777777778, \"#fb9f3a\"], [0.8888888888888888, \"#fdca26\"], [1.0, \"#f0f921\"]], \"type\": \"surface\"}], \"table\": [{\"cells\": {\"fill\": {\"color\": \"#EBF0F8\"}, \"line\": {\"color\": \"white\"}}, \"header\": {\"fill\": {\"color\": \"#C8D4E3\"}, \"line\": {\"color\": \"white\"}}, \"type\": \"table\"}]}, \"layout\": {\"annotationdefaults\": {\"arrowcolor\": \"#2a3f5f\", \"arrowhead\": 0, \"arrowwidth\": 1}, \"coloraxis\": {\"colorbar\": {\"outlinewidth\": 0, \"ticks\": \"\"}}, \"colorscale\": {\"diverging\": [[0, \"#8e0152\"], [0.1, \"#c51b7d\"], [0.2, \"#de77ae\"], [0.3, \"#f1b6da\"], [0.4, \"#fde0ef\"], [0.5, \"#f7f7f7\"], [0.6, \"#e6f5d0\"], [0.7, \"#b8e186\"], [0.8, \"#7fbc41\"], [0.9, \"#4d9221\"], [1, \"#276419\"]], \"sequential\": [[0.0, \"#0d0887\"], [0.1111111111111111, \"#46039f\"], [0.2222222222222222, \"#7201a8\"], [0.3333333333333333, \"#9c179e\"], [0.4444444444444444, \"#bd3786\"], [0.5555555555555556, \"#d8576b\"], [0.6666666666666666, \"#ed7953\"], [0.7777777777777778, \"#fb9f3a\"], [0.8888888888888888, \"#fdca26\"], [1.0, \"#f0f921\"]], \"sequentialminus\": [[0.0, \"#0d0887\"], [0.1111111111111111, \"#46039f\"], [0.2222222222222222, \"#7201a8\"], [0.3333333333333333, \"#9c179e\"], [0.4444444444444444, \"#bd3786\"], [0.5555555555555556, \"#d8576b\"], [0.6666666666666666, \"#ed7953\"], [0.7777777777777778, \"#fb9f3a\"], [0.8888888888888888, \"#fdca26\"], [1.0, \"#f0f921\"]]}, \"colorway\": [\"#636efa\", \"#EF553B\", \"#00cc96\", \"#ab63fa\", \"#FFA15A\", \"#19d3f3\", \"#FF6692\", \"#B6E880\", \"#FF97FF\", \"#FECB52\"], \"font\": {\"color\": \"#2a3f5f\"}, \"geo\": {\"bgcolor\": \"white\", \"lakecolor\": \"white\", \"landcolor\": \"#E5ECF6\", \"showlakes\": true, \"showland\": true, \"subunitcolor\": \"white\"}, \"hoverlabel\": {\"align\": \"left\"}, \"hovermode\": \"closest\", \"mapbox\": {\"style\": \"light\"}, \"paper_bgcolor\": \"white\", \"plot_bgcolor\": \"#E5ECF6\", \"polar\": {\"angularaxis\": {\"gridcolor\": \"white\", \"linecolor\": \"white\", \"ticks\": \"\"}, \"bgcolor\": \"#E5ECF6\", \"radialaxis\": {\"gridcolor\": \"white\", \"linecolor\": \"white\", \"ticks\": \"\"}}, \"scene\": {\"xaxis\": {\"backgroundcolor\": \"#E5ECF6\", \"gridcolor\": \"white\", \"gridwidth\": 2, \"linecolor\": \"white\", \"showbackground\": true, \"ticks\": \"\", \"zerolinecolor\": \"white\"}, \"yaxis\": {\"backgroundcolor\": \"#E5ECF6\", \"gridcolor\": \"white\", \"gridwidth\": 2, \"linecolor\": \"white\", \"showbackground\": true, \"ticks\": \"\", \"zerolinecolor\": \"white\"}, \"zaxis\": {\"backgroundcolor\": \"#E5ECF6\", \"gridcolor\": \"white\", \"gridwidth\": 2, \"linecolor\": \"white\", \"showbackground\": true, \"ticks\": \"\", \"zerolinecolor\": \"white\"}}, \"shapedefaults\": {\"line\": {\"color\": \"#2a3f5f\"}}, \"ternary\": {\"aaxis\": {\"gridcolor\": \"white\", \"linecolor\": \"white\", \"ticks\": \"\"}, \"baxis\": {\"gridcolor\": \"white\", \"linecolor\": \"white\", \"ticks\": \"\"}, \"bgcolor\": \"#E5ECF6\", \"caxis\": {\"gridcolor\": \"white\", \"linecolor\": \"white\", \"ticks\": \"\"}}, \"title\": {\"x\": 0.05}, \"xaxis\": {\"automargin\": true, \"gridcolor\": \"white\", \"linecolor\": \"white\", \"ticks\": \"\", \"title\": {\"standoff\": 15}, \"zerolinecolor\": \"white\", \"zerolinewidth\": 2}, \"yaxis\": {\"automargin\": true, \"gridcolor\": \"white\", \"linecolor\": \"white\", \"ticks\": \"\", \"title\": {\"standoff\": 15}, \"zerolinecolor\": \"white\", \"zerolinewidth\": 2}}}, \"title\": {\"text\": \"Distiribtion of number of character\"}, \"xaxis\": {\"anchor\": \"y\", \"domain\": [0.0, 1.0], \"title\": {\"text\": \"Distiribtion of number of character\"}}, \"xaxis2\": {\"anchor\": \"y2\", \"domain\": [0.0, 1.0], \"matches\": \"x\", \"showgrid\": true, \"showticklabels\": false}, \"yaxis\": {\"anchor\": \"x\", \"domain\": [0.0, 0.7326], \"title\": {\"text\": \"count\"}}, \"yaxis2\": {\"anchor\": \"x2\", \"domain\": [0.7426, 1.0], \"matches\": \"y2\", \"showgrid\": false, \"showline\": false, \"showticklabels\": false, \"ticks\": \"\"}},\n",
              "                        {\"responsive\": true}\n",
              "                    ).then(function(){\n",
              "                            \n",
              "var gd = document.getElementById('7eb19d15-fec8-4d82-83a1-a7689f49af2f');\n",
              "var x = new MutationObserver(function (mutations, observer) {{\n",
              "        var display = window.getComputedStyle(gd).display;\n",
              "        if (!display || display === 'none') {{\n",
              "            console.log([gd, 'removed!']);\n",
              "            Plotly.purge(gd);\n",
              "            observer.disconnect();\n",
              "        }}\n",
              "}});\n",
              "\n",
              "// Listen for the removal of the full notebook cells\n",
              "var notebookContainer = gd.closest('#notebook-container');\n",
              "if (notebookContainer) {{\n",
              "    x.observe(notebookContainer, {childList: true});\n",
              "}}\n",
              "\n",
              "// Listen for the clearing of the current output cell\n",
              "var outputEl = gd.closest('.output');\n",
              "if (outputEl) {{\n",
              "    x.observe(outputEl, {childList: true});\n",
              "}}\n",
              "\n",
              "                        })\n",
              "                };\n",
              "                \n",
              "            </script>\n",
              "        </div>\n",
              "</body>\n",
              "</html>"
            ]
          },
          "metadata": {
            "tags": []
          }
        }
      ]
    },
    {
      "cell_type": "code",
      "metadata": {
        "id": "CYkJS1mVS9g6",
        "colab_type": "code",
        "outputId": "753577f8-4821-4c1f-e99d-4459af0b3a0f",
        "colab": {
          "base_uri": "https://localhost:8080/",
          "height": 299
        }
      },
      "source": [
        "df.groupby('word_count').numerics.agg(['sum','count']).plot(kind='area') # I need to figure out how to make this plot bigger\n",
        "\n",
        "#This may not be a meaningful plot\n",
        "\n"
      ],
      "execution_count": 74,
      "outputs": [
        {
          "output_type": "execute_result",
          "data": {
            "text/plain": [
              "<matplotlib.axes._subplots.AxesSubplot at 0x7f46ab132668>"
            ]
          },
          "metadata": {
            "tags": []
          },
          "execution_count": 74
        },
        {
          "output_type": "display_data",
          "data": {
            "image/png": "[encoded data removed]",
            "text/plain": [
              "<Figure size 432x288 with 1 Axes>"
            ]
          },
          "metadata": {
            "tags": []
          }
        }
      ]
    },
    {
      "cell_type": "code",
      "metadata": {
        "id": "MubkonxTfY-T",
        "colab_type": "code",
        "outputId": "ebde73c9-fc1e-4fc3-cb26-f40093e6b102",
        "colab": {
          "base_uri": "https://localhost:8080/",
          "height": 855
        }
      },
      "source": [
        "df.groupby('word_count').numerics.agg(['sum','count'])"
      ],
      "execution_count": 75,
      "outputs": [
        {
          "output_type": "execute_result",
          "data": {
            "text/html": [
              "<div>\n",
              "<style scoped>\n",
              "    .dataframe tbody tr th:only-of-type {\n",
              "        vertical-align: middle;\n",
              "    }\n",
              "\n",
              "    .dataframe tbody tr th {\n",
              "        vertical-align: top;\n",
              "    }\n",
              "\n",
              "    .dataframe thead th {\n",
              "        text-align: right;\n",
              "    }\n",
              "</style>\n",
              "<table border=\"1\" class=\"dataframe\">\n",
              "  <thead>\n",
              "    <tr style=\"text-align: right;\">\n",
              "      <th></th>\n",
              "      <th>sum</th>\n",
              "      <th>count</th>\n",
              "    </tr>\n",
              "    <tr>\n",
              "      <th>word_count</th>\n",
              "      <th></th>\n",
              "      <th></th>\n",
              "    </tr>\n",
              "  </thead>\n",
              "  <tbody>\n",
              "    <tr>\n",
              "      <th>1</th>\n",
              "      <td>0</td>\n",
              "      <td>15</td>\n",
              "    </tr>\n",
              "    <tr>\n",
              "      <th>2</th>\n",
              "      <td>0</td>\n",
              "      <td>101</td>\n",
              "    </tr>\n",
              "    <tr>\n",
              "      <th>3</th>\n",
              "      <td>4</td>\n",
              "      <td>218</td>\n",
              "    </tr>\n",
              "    <tr>\n",
              "      <th>4</th>\n",
              "      <td>3</td>\n",
              "      <td>276</td>\n",
              "    </tr>\n",
              "    <tr>\n",
              "      <th>5</th>\n",
              "      <td>8</td>\n",
              "      <td>352</td>\n",
              "    </tr>\n",
              "    <tr>\n",
              "      <th>6</th>\n",
              "      <td>21</td>\n",
              "      <td>456</td>\n",
              "    </tr>\n",
              "    <tr>\n",
              "      <th>7</th>\n",
              "      <td>30</td>\n",
              "      <td>510</td>\n",
              "    </tr>\n",
              "    <tr>\n",
              "      <th>8</th>\n",
              "      <td>53</td>\n",
              "      <td>615</td>\n",
              "    </tr>\n",
              "    <tr>\n",
              "      <th>9</th>\n",
              "      <td>80</td>\n",
              "      <td>726</td>\n",
              "    </tr>\n",
              "    <tr>\n",
              "      <th>10</th>\n",
              "      <td>75</td>\n",
              "      <td>691</td>\n",
              "    </tr>\n",
              "    <tr>\n",
              "      <th>11</th>\n",
              "      <td>138</td>\n",
              "      <td>761</td>\n",
              "    </tr>\n",
              "    <tr>\n",
              "      <th>12</th>\n",
              "      <td>100</td>\n",
              "      <td>767</td>\n",
              "    </tr>\n",
              "    <tr>\n",
              "      <th>13</th>\n",
              "      <td>139</td>\n",
              "      <td>654</td>\n",
              "    </tr>\n",
              "    <tr>\n",
              "      <th>14</th>\n",
              "      <td>127</td>\n",
              "      <td>594</td>\n",
              "    </tr>\n",
              "    <tr>\n",
              "      <th>15</th>\n",
              "      <td>129</td>\n",
              "      <td>366</td>\n",
              "    </tr>\n",
              "    <tr>\n",
              "      <th>16</th>\n",
              "      <td>150</td>\n",
              "      <td>230</td>\n",
              "    </tr>\n",
              "    <tr>\n",
              "      <th>17</th>\n",
              "      <td>61</td>\n",
              "      <td>110</td>\n",
              "    </tr>\n",
              "    <tr>\n",
              "      <th>18</th>\n",
              "      <td>29</td>\n",
              "      <td>41</td>\n",
              "    </tr>\n",
              "    <tr>\n",
              "      <th>19</th>\n",
              "      <td>41</td>\n",
              "      <td>45</td>\n",
              "    </tr>\n",
              "    <tr>\n",
              "      <th>20</th>\n",
              "      <td>19</td>\n",
              "      <td>12</td>\n",
              "    </tr>\n",
              "    <tr>\n",
              "      <th>21</th>\n",
              "      <td>6</td>\n",
              "      <td>6</td>\n",
              "    </tr>\n",
              "    <tr>\n",
              "      <th>22</th>\n",
              "      <td>1</td>\n",
              "      <td>1</td>\n",
              "    </tr>\n",
              "    <tr>\n",
              "      <th>23</th>\n",
              "      <td>0</td>\n",
              "      <td>1</td>\n",
              "    </tr>\n",
              "    <tr>\n",
              "      <th>24</th>\n",
              "      <td>3</td>\n",
              "      <td>1</td>\n",
              "    </tr>\n",
              "    <tr>\n",
              "      <th>25</th>\n",
              "      <td>6</td>\n",
              "      <td>2</td>\n",
              "    </tr>\n",
              "  </tbody>\n",
              "</table>\n",
              "</div>"
            ],
            "text/plain": [
              "            sum  count\n",
              "word_count            \n",
              "1             0     15\n",
              "2             0    101\n",
              "3             4    218\n",
              "4             3    276\n",
              "5             8    352\n",
              "6            21    456\n",
              "7            30    510\n",
              "8            53    615\n",
              "9            80    726\n",
              "10           75    691\n",
              "11          138    761\n",
              "12          100    767\n",
              "13          139    654\n",
              "14          127    594\n",
              "15          129    366\n",
              "16          150    230\n",
              "17           61    110\n",
              "18           29     41\n",
              "19           41     45\n",
              "20           19     12\n",
              "21            6      6\n",
              "22            1      1\n",
              "23            0      1\n",
              "24            3      1\n",
              "25            6      2"
            ]
          },
          "metadata": {
            "tags": []
          },
          "execution_count": 75
        }
      ]
    },
    {
      "cell_type": "code",
      "metadata": {
        "id": "x1SmByveZJgY",
        "colab_type": "code",
        "outputId": "9804386d-cb59-4922-ecbf-89e1fbeda2b0",
        "colab": {
          "base_uri": "https://localhost:8080/",
          "height": 386
        }
      },
      "source": [
        "# Now, let's take a look at the pet species for each claim\n",
        "\n",
        "plt.figure(figsize=(12,10), dpi= 100 )\n",
        "# sns.set(font_scale=1)\n",
        "\n",
        "with sns.axes_style('white'):\n",
        "    g = sns.catplot( 'hastags', data= df, aspect= 2, kind='count', \n",
        "                    hue='target', hue_order=df['target'].value_counts().sort_values(ascending=False).index)\n",
        "    g.set_ylabels('Number of Tweets')\n",
        "    g.set_xlabels('Number of Hastag')\n",
        "    g.set_titles('Distrubition of Number of Hastag for Tweets')"
      ],
      "execution_count": 76,
      "outputs": [
        {
          "output_type": "display_data",
          "data": {
            "text/plain": [
              "<Figure size 1200x1000 with 0 Axes>"
            ]
          },
          "metadata": {
            "tags": []
          }
        },
        {
          "output_type": "display_data",
          "data": {
            "image/png": "[encoded data removed]",
            "text/plain": [
              "<Figure size 762.375x360 with 1 Axes>"
            ]
          },
          "metadata": {
            "tags": []
          }
        }
      ]
    },
    {
      "cell_type": "code",
      "metadata": {
        "id": "9LppvbENVrN5",
        "colab_type": "code",
        "outputId": "ddd0bc3f-6fbb-48eb-c50f-0bab2864b66a",
        "colab": {
          "base_uri": "https://localhost:8080/",
          "height": 542
        }
      },
      "source": [
        "\n",
        "import plotly.express as px\n",
        "fig = px.histogram(df, x=\"hastags\",color=\"target\", marginal=\"rug\",\n",
        "                   title='Distiribtion of number of character',\n",
        "                   labels={'char_count':'Distiribtion of number of character'})\n",
        "fig.show()\n"
      ],
      "execution_count": 77,
      "outputs": [
        {
          "output_type": "display_data",
          "data": {
            "text/html": [
              "<html>\n",
              "<head><meta charset=\"utf-8\" /></head>\n",
              "<body>\n",
              "    <div>\n",
              "            <script src=\"https://cdnjs.cloudflare.com/ajax/libs/mathjax/2.7.5/MathJax.js?config=TeX-AMS-MML_SVG\"></script><script type=\"text/javascript\">if (window.MathJax) {MathJax.Hub.Config({SVG: {font: \"STIX-Web\"}});}</script>\n",
              "                <script type=\"text/javascript\">window.PlotlyConfig = {MathJaxConfig: 'local'};</script>\n",
              "        <script src=\"https://cdn.plot.ly/plotly-latest.min.js\"></script>    \n",
              "            <div id=\"b12dc9c1-ec5a-4e46-aad5-c5ef2dc88f55\" class=\"plotly-graph-div\" style=\"height:525px; width:100%;\"></div>\n",
              "            <script type=\"text/javascript\">\n",
              "                \n",
              "                    window.PLOTLYENV=window.PLOTLYENV || {};\n",
              "                    \n",
              "                if (document.getElementById(\"b12dc9c1-ec5a-4e46-aad5-c5ef2dc88f55\")) {\n",
              "                    Plotly.newPlot(\n",
              "                        'b12dc9c1-ec5a-4e46-aad5-c5ef2dc88f55',\n",
              "                        [{\"alignmentgroup\": \"True\", \"bingroup\": \"x\", \"hoverlabel\": {\"namelength\": 0}, \"hovertemplate\": \"target=1<br>hastags=%{x}<br>count=%{y}\", \"legendgroup\": \"target=1\", \"marker\": {\"color\": \"#636efa\"}, \"name\": \"target=1\", \"offsetgroup\": \"target=1\", \"orientation\": \"v\", \"showlegend\": true, \"type\": \"histogram\", \"x\": [0, 1, 0, 1, 0, 0, 0, 0, 2, 0, 3, 0, 0, 1, 3, 0, 0, 0, 0, 0, 0, 0, 2, 2, 0, 0, 0, 2, 0, 0, 0, 0, 0, 0, 3, 0, 1, 1, 0, 0, 0, 0, 0, 0, 0, 3, 0, 0, 4, 1, 8, 0, 0, 0, 7, 0, 0, 0, 0, 0, 0, 8, 0, 0, 0, 0, 1, 1, 0, 1, 1, 0, 0, 0, 3, 0, 0, 0, 0, 0, 1, 0, 0, 0, 1, 1, 0, 0, 0, 0, 0, 0, 0, 0, 0, 0, 0, 0, 0, 0, 0, 0, 0, 0, 1, 0, 0, 0, 0, 2, 0, 0, 0, 0, 2, 0, 0, 1, 0, 0, 1, 3, 0, 0, 1, 0, 0, 0, 0, 0, 1, 0, 0, 0, 0, 0, 0, 2, 0, 0, 0, 2, 0, 0, 1, 0, 1, 0, 0, 0, 0, 0, 0, 4, 1, 1, 0, 2, 0, 1, 0, 0, 1, 1, 0, 0, 1, 0, 0, 0, 1, 1, 2, 0, 0, 0, 0, 0, 0, 0, 0, 1, 0, 0, 0, 0, 0, 1, 0, 0, 0, 0, 0, 0, 0, 0, 0, 0, 0, 0, 0, 0, 0, 0, 2, 3, 0, 0, 0, 0, 0, 0, 0, 0, 0, 0, 2, 0, 0, 0, 1, 4, 0, 0, 0, 5, 0, 3, 0, 1, 0, 1, 3, 0, 0, 0, 2, 0, 0, 3, 0, 0, 0, 0, 0, 0, 0, 0, 0, 0, 0, 0, 1, 0, 2, 0, 0, 0, 1, 1, 0, 0, 0, 0, 0, 0, 0, 0, 0, 3, 0, 1, 0, 0, 1, 1, 0, 1, 0, 0, 1, 0, 0, 1, 0, 0, 0, 2, 0, 0, 0, 0, 0, 0, 0, 0, 0, 0, 0, 0, 0, 2, 0, 0, 0, 0, 0, 0, 0, 0, 0, 0, 1, 0, 0, 1, 0, 2, 0, 0, 1, 0, 0, 0, 0, 1, 0, 0, 0, 0, 0, 0, 0, 0, 2, 1, 4, 4, 1, 0, 0, 0, 0, 0, 0, 0, 0, 0, 0, 2, 0, 0, 0, 0, 1, 0, 1, 0, 0, 0, 0, 0, 0, 1, 0, 1, 0, 0, 0, 0, 1, 0, 0, 3, 0, 0, 0, 0, 0, 0, 0, 0, 2, 0, 0, 0, 0, 0, 1, 0, 1, 1, 0, 0, 0, 0, 0, 0, 0, 0, 0, 0, 0, 0, 0, 1, 0, 0, 0, 1, 0, 1, 0, 1, 0, 0, 0, 2, 1, 2, 0, 0, 3, 1, 1, 1, 0, 1, 1, 0, 0, 0, 0, 1, 1, 0, 0, 0, 1, 0, 0, 0, 0, 0, 0, 1, 2, 0, 0, 0, 0, 1, 0, 0, 0, 0, 0, 0, 2, 0, 0, 0, 0, 0, 0, 1, 0, 0, 0, 0, 0, 0, 0, 0, 0, 0, 0, 0, 0, 0, 0, 1, 0, 0, 0, 0, 0, 0, 0, 0, 0, 0, 0, 0, 0, 0, 0, 0, 0, 0, 1, 0, 0, 0, 0, 0, 0, 0, 0, 0, 0, 1, 0, 2, 0, 2, 1, 3, 0, 0, 0, 0, 0, 1, 0, 0, 0, 0, 0, 0, 0, 0, 0, 1, 0, 0, 0, 3, 0, 0, 3, 1, 0, 0, 0, 0, 0, 0, 0, 0, 0, 0, 0, 0, 0, 0, 0, 0, 0, 0, 1, 0, 2, 0, 0, 1, 0, 1, 1, 0, 0, 0, 0, 0, 1, 0, 0, 0, 0, 2, 0, 0, 0, 0, 0, 0, 0, 0, 1, 0, 0, 0, 0, 0, 0, 2, 0, 1, 0, 0, 0, 1, 0, 1, 0, 0, 0, 1, 0, 0, 0, 0, 0, 0, 2, 2, 0, 2, 0, 0, 0, 0, 0, 0, 0, 1, 0, 0, 0, 2, 0, 0, 0, 0, 0, 0, 0, 0, 0, 0, 0, 0, 0, 0, 0, 3, 0, 0, 0, 0, 0, 0, 0, 0, 0, 0, 0, 0, 0, 2, 0, 1, 0, 0, 2, 0, 0, 0, 1, 0, 0, 1, 0, 1, 0, 0, 0, 0, 0, 0, 0, 1, 0, 0, 0, 0, 1, 2, 2, 0, 0, 0, 0, 1, 0, 0, 0, 0, 0, 1, 0, 0, 0, 0, 0, 0, 0, 0, 0, 0, 2, 0, 0, 0, 0, 0, 0, 0, 0, 0, 0, 0, 0, 1, 1, 0, 1, 5, 0, 0, 0, 0, 2, 0, 1, 0, 1, 0, 0, 0, 0, 0, 0, 1, 0, 0, 0, 3, 1, 1, 0, 0, 0, 2, 0, 0, 2, 0, 2, 1, 0, 0, 0, 0, 0, 0, 0, 0, 0, 0, 0, 0, 0, 1, 1, 1, 1, 0, 1, 4, 1, 0, 1, 1, 0, 2, 0, 0, 0, 3, 0, 0, 2, 0, 0, 0, 2, 0, 0, 2, 0, 1, 2, 0, 4, 0, 0, 4, 0, 4, 0, 0, 0, 1, 4, 0, 1, 5, 3, 0, 1, 4, 0, 0, 0, 0, 0, 1, 0, 2, 0, 0, 0, 0, 1, 0, 2, 0, 0, 1, 0, 0, 1, 0, 0, 1, 0, 0, 0, 0, 0, 0, 0, 0, 3, 2, 0, 2, 2, 0, 3, 0, 0, 0, 1, 0, 1, 3, 0, 0, 4, 0, 0, 0, 0, 1, 0, 2, 0, 1, 0, 0, 0, 0, 0, 2, 0, 0, 0, 1, 0, 1, 1, 0, 0, 1, 0, 0, 0, 1, 1, 2, 0, 0, 0, 0, 0, 0, 0, 0, 1, 0, 0, 0, 1, 0, 0, 0, 0, 0, 3, 0, 2, 1, 1, 0, 0, 0, 1, 0, 0, 0, 0, 0, 0, 0, 1, 0, 4, 0, 0, 1, 2, 1, 0, 0, 0, 1, 0, 0, 0, 0, 0, 0, 0, 0, 0, 0, 0, 0, 0, 0, 0, 4, 3, 2, 0, 0, 0, 0, 0, 0, 0, 0, 0, 0, 1, 0, 1, 0, 0, 1, 4, 0, 1, 0, 0, 1, 0, 0, 0, 0, 0, 0, 0, 1, 0, 0, 0, 1, 0, 3, 0, 0, 0, 0, 0, 2, 0, 0, 0, 0, 0, 0, 4, 0, 0, 1, 0, 0, 0, 0, 0, 0, 0, 1, 0, 0, 0, 0, 0, 0, 0, 0, 3, 0, 0, 1, 0, 0, 0, 0, 1, 0, 0, 4, 0, 1, 0, 0, 2, 0, 0, 2, 0, 0, 1, 1, 0, 7, 0, 2, 1, 5, 1, 0, 0, 0, 1, 0, 0, 5, 0, 2, 3, 3, 2, 0, 0, 0, 2, 0, 2, 2, 2, 0, 0, 5, 0, 5, 1, 0, 0, 3, 0, 3, 0, 3, 0, 0, 0, 0, 0, 0, 2, 0, 0, 0, 0, 2, 0, 1, 2, 0, 0, 0, 0, 0, 0, 6, 0, 0, 0, 0, 0, 0, 0, 0, 0, 0, 0, 1, 1, 1, 0, 0, 0, 0, 0, 0, 2, 0, 0, 0, 0, 0, 0, 0, 0, 0, 0, 0, 0, 0, 1, 0, 0, 0, 0, 0, 0, 0, 0, 0, 0, 0, 0, 1, 0, 0, 0, 0, 0, 0, 0, 0, 2, 1, 1, 1, 2, 1, 0, 2, 1, 2, 0, 2, 1, 2, 0, 2, 0, 1, 1, 2, 0, 0, 0, 0, 0, 1, 0, 1, 0, 0, 1, 1, 0, 1, 1, 0, 3, 0, 0, 0, 1, 4, 1, 0, 0, 0, 3, 0, 0, 0, 0, 0, 0, 0, 7, 1, 0, 1, 0, 1, 0, 0, 2, 0, 0, 0, 0, 0, 0, 2, 0, 1, 2, 2, 0, 0, 2, 0, 0, 0, 0, 0, 2, 0, 3, 0, 2, 0, 0, 1, 0, 0, 0, 1, 0, 2, 0, 0, 2, 0, 0, 1, 0, 0, 0, 0, 0, 0, 1, 0, 0, 0, 6, 0, 0, 0, 0, 0, 1, 1, 0, 0, 0, 0, 0, 0, 0, 4, 0, 0, 0, 0, 0, 0, 0, 2, 0, 0, 1, 1, 0, 0, 0, 1, 0, 4, 0, 0, 0, 1, 0, 0, 1, 0, 1, 0, 0, 0, 0, 0, 0, 2, 0, 1, 4, 0, 0, 0, 2, 0, 0, 0, 0, 0, 0, 0, 2, 0, 0, 0, 0, 0, 0, 1, 0, 0, 1, 3, 0, 0, 0, 1, 0, 1, 1, 0, 0, 0, 0, 0, 0, 0, 3, 1, 0, 0, 4, 0, 0, 0, 0, 0, 0, 0, 1, 0, 0, 0, 2, 0, 0, 0, 0, 0, 0, 0, 0, 0, 0, 2, 0, 2, 0, 0, 0, 2, 1, 0, 0, 0, 0, 1, 0, 0, 0, 0, 0, 1, 0, 0, 0, 0, 0, 0, 0, 0, 0, 0, 0, 1, 0, 1, 0, 1, 0, 0, 0, 0, 0, 0, 0, 0, 0, 0, 0, 0, 2, 0, 0, 0, 0, 0, 0, 0, 4, 0, 0, 0, 0, 0, 0, 0, 2, 0, 0, 0, 0, 1, 0, 0, 2, 0, 0, 1, 0, 0, 0, 0, 0, 0, 0, 0, 0, 0, 2, 0, 0, 0, 0, 0, 0, 0, 0, 0, 0, 0, 0, 0, 0, 0, 0, 0, 0, 0, 0, 0, 0, 0, 0, 0, 0, 1, 0, 0, 1, 0, 0, 1, 0, 1, 0, 0, 0, 1, 1, 0, 0, 1, 0, 0, 0, 0, 1, 0, 2, 0, 0, 0, 0, 0, 0, 0, 0, 1, 0, 1, 0, 0, 0, 0, 0, 0, 0, 0, 0, 0, 0, 0, 0, 0, 2, 0, 0, 0, 0, 1, 0, 0, 1, 0, 0, 1, 0, 0, 1, 2, 1, 1, 0, 1, 0, 0, 0, 4, 1, 0, 1, 0, 1, 3, 0, 0, 0, 1, 0, 0, 1, 0, 1, 2, 0, 1, 0, 0, 0, 1, 2, 0, 2, 0, 0, 0, 0, 0, 2, 0, 0, 0, 0, 0, 0, 0, 2, 1, 0, 2, 0, 0, 1, 0, 0, 0, 0, 0, 0, 0, 0, 1, 0, 0, 1, 0, 0, 0, 2, 0, 0, 1, 0, 0, 0, 0, 0, 1, 0, 0, 3, 0, 3, 0, 0, 0, 0, 1, 0, 0, 0, 0, 0, 0, 0, 1, 0, 2, 1, 1, 1, 0, 0, 1, 0, 1, 1, 0, 0, 0, 1, 0, 0, 1, 0, 5, 2, 0, 3, 0, 5, 0, 0, 0, 0, 3, 10, 0, 0, 0, 0, 1, 0, 3, 4, 0, 3, 0, 3, 0, 1, 0, 0, 0, 1, 0, 0, 0, 0, 0, 0, 1, 0, 1, 6, 1, 0, 3, 1, 1, 0, 0, 0, 0, 6, 0, 0, 2, 1, 3, 1, 1, 0, 1, 0, 0, 0, 0, 0, 0, 0, 0, 0, 3, 2, 0, 0, 0, 0, 0, 0, 1, 0, 0, 0, 0, 0, 0, 1, 0, 5, 2, 0, 1, 0, 0, 0, 0, 1, 0, 0, 0, 0, 0, 0, 0, 1, 0, 0, 0, 0, 0, 0, 0, 0, 0, 0, 0, 0, 0, 1, 0, 0, 0, 0, 1, 0, 0, 0, 0, 3, 0, 0, 0, 3, 0, 0, 0, 3, 3, 0, 2, 0, 3, 0, 0, 0, 0, 0, 0, 0, 0, 0, 0, 0, 0, 0, 0, 0, 0, 3, 3, 5, 0, 0, 0, 3, 3, 0, 13, 0, 1, 0, 0, 0, 3, 8, 13, 2, 2, 13, 1, 3, 3, 3, 0, 0, 0, 0, 0, 3, 0, 0, 0, 0, 0, 0, 3, 3, 1, 0, 0, 0, 3, 0, 0, 0, 0, 0, 0, 0, 1, 2, 0, 0, 0, 0, 0, 0, 1, 0, 1, 1, 1, 0, 0, 0, 1, 1, 0, 0, 0, 0, 0, 1, 0, 0, 1, 0, 0, 0, 0, 0, 0, 0, 0, 0, 0, 0, 0, 1, 2, 0, 0, 0, 0, 0, 0, 0, 10, 0, 0, 0, 0, 0, 1, 0, 0, 0, 4, 0, 0, 0, 0, 0, 1, 1, 0, 0, 1, 0, 0, 0, 0, 0, 0, 0, 0, 0, 1, 0, 1, 1, 2, 0, 0, 0, 0, 0, 0, 0, 0, 0, 0, 0, 0, 0, 0, 0, 0, 0, 1, 4, 0, 0, 1, 0, 1, 0, 1, 0, 0, 0, 0, 0, 5, 0, 1, 0, 0, 0, 0, 2, 1, 0, 0, 2, 0, 0, 0, 0, 0, 0, 0, 0, 0, 1, 0, 0, 1, 0, 0, 1, 0, 5, 0, 0, 1, 0, 0, 0, 0, 10, 1, 0, 0, 0, 0, 0, 1, 1, 0, 0, 0, 0, 0, 0, 0, 0, 0, 0, 0, 0, 0, 0, 0, 1, 0, 0, 1, 0, 2, 1, 1, 1, 0, 2, 0, 2, 0, 1, 0, 0, 0, 0, 0, 2, 0, 0, 0, 0, 0, 0, 0, 0, 0, 0, 0, 0, 0, 1, 3, 1, 6, 3, 0, 0, 4, 0, 0, 0, 0, 2, 0, 2, 7, 0, 0, 1, 0, 0, 2, 0, 0, 0, 0, 1, 3, 8, 0, 0, 0, 1, 0, 0, 3, 0, 0, 0, 1, 0, 3, 0, 0, 0, 0, 0, 0, 0, 0, 2, 0, 2, 0, 0, 0, 0, 0, 0, 0, 0, 0, 0, 0, 0, 0, 2, 1, 0, 0, 0, 0, 0, 0, 0, 1, 3, 0, 0, 1, 0, 0, 0, 0, 0, 1, 0, 0, 0, 0, 0, 0, 0, 0, 0, 0, 0, 0, 0, 0, 0, 1, 1, 0, 0, 0, 0, 0, 0, 1, 0, 0, 0, 0, 0, 0, 0, 0, 0, 0, 1, 1, 0, 0, 1, 3, 0, 0, 0, 0, 0, 1, 0, 0, 0, 0, 0, 0, 0, 0, 0, 0, 0, 0, 0, 0, 0, 1, 2, 0, 0, 1, 0, 0, 0, 0, 2, 0, 0, 0, 0, 0, 0, 0, 0, 0, 5, 3, 0, 0, 0, 0, 0, 0, 3, 0, 0, 0, 2, 0, 0, 0, 1, 0, 0, 0, 1, 0, 0, 1, 5, 0, 0, 6, 0, 0, 0, 0, 0, 0, 0, 0, 0, 0, 4, 0, 0, 0, 0, 0, 0, 0, 0, 0, 0, 3, 0, 0, 0, 0, 0, 0, 0, 0, 0, 0, 0, 0, 1, 0, 1, 0, 0, 0, 2, 0, 0, 0, 0, 0, 0, 1, 1, 0, 0, 0, 0, 1, 0, 1, 0, 0, 0, 0, 0, 0, 0, 0, 0, 2, 0, 0, 0, 0, 0, 1, 0, 0, 0, 0, 1, 0, 0, 1, 0, 0, 1, 0, 0, 0, 0, 0, 0, 2, 0, 0, 0, 0, 2, 0, 1, 0, 0, 0, 0, 0, 2, 0, 1, 0, 0, 0, 0, 1, 0, 0, 0, 0, 0, 0, 0, 0, 0, 0, 2, 0, 0, 0, 0, 0, 0, 0, 0, 0, 2, 1, 4, 0, 0, 0, 0, 1, 0, 0, 0, 0, 2, 0, 0, 0, 0, 1, 0, 0, 0, 2, 0, 1, 0, 1, 0, 1, 2, 1, 0, 0, 0, 0, 0, 0, 0, 0, 0, 0, 0, 0, 0, 0, 0, 1, 0, 0, 0, 0, 0, 0, 0, 0, 0, 0, 0, 0, 0, 0, 0, 1, 0, 0, 1, 0, 0, 0, 0, 0, 0, 0, 2, 2, 3, 1, 2, 3, 3, 2, 0, 0, 3, 8, 1, 0, 0, 0, 0, 2, 0, 1, 0, 4, 0, 0, 2, 0, 1, 0, 0, 1, 0, 0, 0, 0, 0, 1, 0, 1, 0, 0, 0, 0, 0, 0, 1, 0, 1, 0, 0, 0, 0, 0, 2, 0, 0, 0, 0, 0, 0, 0, 0, 0, 3, 8, 0, 0, 1, 1, 3, 0, 0, 0, 2, 0, 0, 0, 2, 0, 0, 0, 1, 0, 1, 2, 1, 0, 0, 0, 2, 0, 0, 0, 4, 0, 0, 0, 0, 0, 0, 0, 0, 0, 0, 0, 0, 0, 0, 0, 0, 0, 1, 0, 0, 0, 0, 0, 0, 0, 1, 0, 0, 1, 0, 0, 0, 0, 0, 1, 0, 0, 0, 1, 1, 0, 0, 2, 0, 0, 0, 0, 0, 0, 1, 0, 0, 1, 1, 0, 0, 0, 1, 3, 0, 0, 0, 1, 0, 1, 0, 0, 0, 0, 1, 0, 0, 0, 0, 4, 0, 0, 4, 0, 0, 1, 0, 0, 0, 0, 2, 4, 0, 0, 0, 0, 0, 0, 0, 1, 0, 0, 0, 0, 0, 1, 0, 0, 0, 0, 0, 1, 0, 0, 1, 0, 0, 0, 0, 0, 0, 0, 0, 0, 0, 0, 0, 0, 0, 0, 0, 0, 0, 0, 0, 0, 1, 2, 0, 0, 0, 0, 0, 0, 3, 0, 1, 1, 1, 0, 0, 0, 2, 1, 0, 0, 0, 1, 0, 0, 0, 0, 0, 0, 3, 0, 1, 0, 1, 0, 0, 10, 0, 0, 0, 1, 0, 0, 0, 0, 0, 0, 0, 0, 1, 0, 10, 0, 10, 1, 0, 10, 0, 0, 0, 0, 0, 0, 0, 0, 3, 0, 0, 0, 0, 0, 0, 3, 0, 0, 3, 2, 0, 1, 3, 0, 0, 0, 2, 0, 0, 0, 0, 0, 0, 0, 0, 0, 2, 0, 1, 0, 1, 0, 1, 1, 0, 0, 0, 0, 0, 2, 0, 4, 1, 1, 1, 0, 0, 0, 0, 0, 6, 0, 0, 1, 0, 1, 0, 1, 0, 0, 0, 0, 0, 2, 0, 0, 0, 0, 0, 0, 2, 0, 0, 0, 1, 0, 0, 1, 0, 0, 1, 0, 0, 0, 0, 0, 0, 0, 0, 0, 4, 0, 0, 0, 0, 0, 0, 0, 0, 0, 0, 0, 1, 1, 0, 0, 0, 0, 0, 2, 0, 0, 0, 0, 0, 0, 0, 0, 1, 1, 1, 4, 0, 0, 0, 0, 0, 0, 0, 0, 0, 1, 0, 0, 1, 2, 0, 0, 0, 0, 2, 0, 0, 0, 0, 1, 0, 0, 0, 0, 1, 0, 0, 0, 0, 0, 0, 0, 0, 0, 0, 0, 0, 0, 0, 0, 0, 0, 0, 2, 0, 0, 0, 0, 0, 1, 0, 0, 1, 0, 0, 0, 1, 1, 0, 0, 3, 0, 0, 1, 0, 0, 0, 0, 0, 0, 0, 0, 0, 0, 0, 0, 2, 0, 0, 0, 4, 2, 2, 2, 0, 2, 1, 2, 0, 0, 0, 0, 0, 0, 1, 2, 0, 0, 1, 2, 0, 1, 0, 0, 0, 2, 0, 1, 0, 0, 13, 0, 0, 0, 0, 0, 0, 0, 0, 0, 1, 0, 1, 0, 0, 0, 1, 5, 0, 0, 5, 0, 0, 0, 0, 0, 0, 0, 0, 0, 0, 0, 1, 2, 1, 0, 0, 1, 0, 0, 0, 0, 0, 0, 5, 0, 1, 0, 0, 0, 0, 0, 0, 0, 0, 0, 0, 0, 0, 1, 0, 1, 0, 0, 0, 2, 0, 0, 1, 1, 0, 2, 0, 0, 1, 0, 0, 0, 2, 1, 0, 2, 0, 0, 1, 1, 1, 5, 1, 1, 0, 1, 1, 2, 0, 2, 0, 0, 0, 0, 0, 1, 2, 0, 1, 2, 0, 0, 0, 0, 0, 0, 0, 0, 1, 0, 0, 0, 0, 0, 0, 1, 0, 0, 3, 0, 0, 0, 0, 0, 0, 1, 0, 1, 0, 0, 3, 6, 2, 2, 0, 0, 0, 0, 0, 0, 0, 0, 0, 0, 1, 0, 1, 0, 0, 0, 0, 0, 3, 0, 0, 0, 1, 0, 0, 0, 0, 0, 0, 0, 0, 0, 0, 0, 0, 1, 0, 0, 3, 0, 1, 0, 0, 0, 0, 0, 0, 0, 0, 0, 0, 0, 0, 0, 0], \"xaxis\": \"x\", \"yaxis\": \"y\"}, {\"alignmentgroup\": \"True\", \"boxpoints\": \"all\", \"fillcolor\": \"rgba(255,255,255,0)\", \"hoverlabel\": {\"namelength\": 0}, \"hoveron\": \"points\", \"hovertemplate\": \"target=1<br>hastags=%{x}\", \"jitter\": 0, \"legendgroup\": \"target=1\", \"line\": {\"color\": \"rgba(255,255,255,0)\"}, \"marker\": {\"color\": \"#636efa\", \"symbol\": \"line-ns-open\"}, \"name\": \"target=1\", \"offsetgroup\": \"target=1\", \"showlegend\": false, \"type\": \"box\", \"x\": [0, 1, 0, 1, 0, 0, 0, 0, 2, 0, 3, 0, 0, 1, 3, 0, 0, 0, 0, 0, 0, 0, 2, 2, 0, 0, 0, 2, 0, 0, 0, 0, 0, 0, 3, 0, 1, 1, 0, 0, 0, 0, 0, 0, 0, 3, 0, 0, 4, 1, 8, 0, 0, 0, 7, 0, 0, 0, 0, 0, 0, 8, 0, 0, 0, 0, 1, 1, 0, 1, 1, 0, 0, 0, 3, 0, 0, 0, 0, 0, 1, 0, 0, 0, 1, 1, 0, 0, 0, 0, 0, 0, 0, 0, 0, 0, 0, 0, 0, 0, 0, 0, 0, 0, 1, 0, 0, 0, 0, 2, 0, 0, 0, 0, 2, 0, 0, 1, 0, 0, 1, 3, 0, 0, 1, 0, 0, 0, 0, 0, 1, 0, 0, 0, 0, 0, 0, 2, 0, 0, 0, 2, 0, 0, 1, 0, 1, 0, 0, 0, 0, 0, 0, 4, 1, 1, 0, 2, 0, 1, 0, 0, 1, 1, 0, 0, 1, 0, 0, 0, 1, 1, 2, 0, 0, 0, 0, 0, 0, 0, 0, 1, 0, 0, 0, 0, 0, 1, 0, 0, 0, 0, 0, 0, 0, 0, 0, 0, 0, 0, 0, 0, 0, 0, 2, 3, 0, 0, 0, 0, 0, 0, 0, 0, 0, 0, 2, 0, 0, 0, 1, 4, 0, 0, 0, 5, 0, 3, 0, 1, 0, 1, 3, 0, 0, 0, 2, 0, 0, 3, 0, 0, 0, 0, 0, 0, 0, 0, 0, 0, 0, 0, 1, 0, 2, 0, 0, 0, 1, 1, 0, 0, 0, 0, 0, 0, 0, 0, 0, 3, 0, 1, 0, 0, 1, 1, 0, 1, 0, 0, 1, 0, 0, 1, 0, 0, 0, 2, 0, 0, 0, 0, 0, 0, 0, 0, 0, 0, 0, 0, 0, 2, 0, 0, 0, 0, 0, 0, 0, 0, 0, 0, 1, 0, 0, 1, 0, 2, 0, 0, 1, 0, 0, 0, 0, 1, 0, 0, 0, 0, 0, 0, 0, 0, 2, 1, 4, 4, 1, 0, 0, 0, 0, 0, 0, 0, 0, 0, 0, 2, 0, 0, 0, 0, 1, 0, 1, 0, 0, 0, 0, 0, 0, 1, 0, 1, 0, 0, 0, 0, 1, 0, 0, 3, 0, 0, 0, 0, 0, 0, 0, 0, 2, 0, 0, 0, 0, 0, 1, 0, 1, 1, 0, 0, 0, 0, 0, 0, 0, 0, 0, 0, 0, 0, 0, 1, 0, 0, 0, 1, 0, 1, 0, 1, 0, 0, 0, 2, 1, 2, 0, 0, 3, 1, 1, 1, 0, 1, 1, 0, 0, 0, 0, 1, 1, 0, 0, 0, 1, 0, 0, 0, 0, 0, 0, 1, 2, 0, 0, 0, 0, 1, 0, 0, 0, 0, 0, 0, 2, 0, 0, 0, 0, 0, 0, 1, 0, 0, 0, 0, 0, 0, 0, 0, 0, 0, 0, 0, 0, 0, 0, 1, 0, 0, 0, 0, 0, 0, 0, 0, 0, 0, 0, 0, 0, 0, 0, 0, 0, 0, 1, 0, 0, 0, 0, 0, 0, 0, 0, 0, 0, 1, 0, 2, 0, 2, 1, 3, 0, 0, 0, 0, 0, 1, 0, 0, 0, 0, 0, 0, 0, 0, 0, 1, 0, 0, 0, 3, 0, 0, 3, 1, 0, 0, 0, 0, 0, 0, 0, 0, 0, 0, 0, 0, 0, 0, 0, 0, 0, 0, 1, 0, 2, 0, 0, 1, 0, 1, 1, 0, 0, 0, 0, 0, 1, 0, 0, 0, 0, 2, 0, 0, 0, 0, 0, 0, 0, 0, 1, 0, 0, 0, 0, 0, 0, 2, 0, 1, 0, 0, 0, 1, 0, 1, 0, 0, 0, 1, 0, 0, 0, 0, 0, 0, 2, 2, 0, 2, 0, 0, 0, 0, 0, 0, 0, 1, 0, 0, 0, 2, 0, 0, 0, 0, 0, 0, 0, 0, 0, 0, 0, 0, 0, 0, 0, 3, 0, 0, 0, 0, 0, 0, 0, 0, 0, 0, 0, 0, 0, 2, 0, 1, 0, 0, 2, 0, 0, 0, 1, 0, 0, 1, 0, 1, 0, 0, 0, 0, 0, 0, 0, 1, 0, 0, 0, 0, 1, 2, 2, 0, 0, 0, 0, 1, 0, 0, 0, 0, 0, 1, 0, 0, 0, 0, 0, 0, 0, 0, 0, 0, 2, 0, 0, 0, 0, 0, 0, 0, 0, 0, 0, 0, 0, 1, 1, 0, 1, 5, 0, 0, 0, 0, 2, 0, 1, 0, 1, 0, 0, 0, 0, 0, 0, 1, 0, 0, 0, 3, 1, 1, 0, 0, 0, 2, 0, 0, 2, 0, 2, 1, 0, 0, 0, 0, 0, 0, 0, 0, 0, 0, 0, 0, 0, 1, 1, 1, 1, 0, 1, 4, 1, 0, 1, 1, 0, 2, 0, 0, 0, 3, 0, 0, 2, 0, 0, 0, 2, 0, 0, 2, 0, 1, 2, 0, 4, 0, 0, 4, 0, 4, 0, 0, 0, 1, 4, 0, 1, 5, 3, 0, 1, 4, 0, 0, 0, 0, 0, 1, 0, 2, 0, 0, 0, 0, 1, 0, 2, 0, 0, 1, 0, 0, 1, 0, 0, 1, 0, 0, 0, 0, 0, 0, 0, 0, 3, 2, 0, 2, 2, 0, 3, 0, 0, 0, 1, 0, 1, 3, 0, 0, 4, 0, 0, 0, 0, 1, 0, 2, 0, 1, 0, 0, 0, 0, 0, 2, 0, 0, 0, 1, 0, 1, 1, 0, 0, 1, 0, 0, 0, 1, 1, 2, 0, 0, 0, 0, 0, 0, 0, 0, 1, 0, 0, 0, 1, 0, 0, 0, 0, 0, 3, 0, 2, 1, 1, 0, 0, 0, 1, 0, 0, 0, 0, 0, 0, 0, 1, 0, 4, 0, 0, 1, 2, 1, 0, 0, 0, 1, 0, 0, 0, 0, 0, 0, 0, 0, 0, 0, 0, 0, 0, 0, 0, 4, 3, 2, 0, 0, 0, 0, 0, 0, 0, 0, 0, 0, 1, 0, 1, 0, 0, 1, 4, 0, 1, 0, 0, 1, 0, 0, 0, 0, 0, 0, 0, 1, 0, 0, 0, 1, 0, 3, 0, 0, 0, 0, 0, 2, 0, 0, 0, 0, 0, 0, 4, 0, 0, 1, 0, 0, 0, 0, 0, 0, 0, 1, 0, 0, 0, 0, 0, 0, 0, 0, 3, 0, 0, 1, 0, 0, 0, 0, 1, 0, 0, 4, 0, 1, 0, 0, 2, 0, 0, 2, 0, 0, 1, 1, 0, 7, 0, 2, 1, 5, 1, 0, 0, 0, 1, 0, 0, 5, 0, 2, 3, 3, 2, 0, 0, 0, 2, 0, 2, 2, 2, 0, 0, 5, 0, 5, 1, 0, 0, 3, 0, 3, 0, 3, 0, 0, 0, 0, 0, 0, 2, 0, 0, 0, 0, 2, 0, 1, 2, 0, 0, 0, 0, 0, 0, 6, 0, 0, 0, 0, 0, 0, 0, 0, 0, 0, 0, 1, 1, 1, 0, 0, 0, 0, 0, 0, 2, 0, 0, 0, 0, 0, 0, 0, 0, 0, 0, 0, 0, 0, 1, 0, 0, 0, 0, 0, 0, 0, 0, 0, 0, 0, 0, 1, 0, 0, 0, 0, 0, 0, 0, 0, 2, 1, 1, 1, 2, 1, 0, 2, 1, 2, 0, 2, 1, 2, 0, 2, 0, 1, 1, 2, 0, 0, 0, 0, 0, 1, 0, 1, 0, 0, 1, 1, 0, 1, 1, 0, 3, 0, 0, 0, 1, 4, 1, 0, 0, 0, 3, 0, 0, 0, 0, 0, 0, 0, 7, 1, 0, 1, 0, 1, 0, 0, 2, 0, 0, 0, 0, 0, 0, 2, 0, 1, 2, 2, 0, 0, 2, 0, 0, 0, 0, 0, 2, 0, 3, 0, 2, 0, 0, 1, 0, 0, 0, 1, 0, 2, 0, 0, 2, 0, 0, 1, 0, 0, 0, 0, 0, 0, 1, 0, 0, 0, 6, 0, 0, 0, 0, 0, 1, 1, 0, 0, 0, 0, 0, 0, 0, 4, 0, 0, 0, 0, 0, 0, 0, 2, 0, 0, 1, 1, 0, 0, 0, 1, 0, 4, 0, 0, 0, 1, 0, 0, 1, 0, 1, 0, 0, 0, 0, 0, 0, 2, 0, 1, 4, 0, 0, 0, 2, 0, 0, 0, 0, 0, 0, 0, 2, 0, 0, 0, 0, 0, 0, 1, 0, 0, 1, 3, 0, 0, 0, 1, 0, 1, 1, 0, 0, 0, 0, 0, 0, 0, 3, 1, 0, 0, 4, 0, 0, 0, 0, 0, 0, 0, 1, 0, 0, 0, 2, 0, 0, 0, 0, 0, 0, 0, 0, 0, 0, 2, 0, 2, 0, 0, 0, 2, 1, 0, 0, 0, 0, 1, 0, 0, 0, 0, 0, 1, 0, 0, 0, 0, 0, 0, 0, 0, 0, 0, 0, 1, 0, 1, 0, 1, 0, 0, 0, 0, 0, 0, 0, 0, 0, 0, 0, 0, 2, 0, 0, 0, 0, 0, 0, 0, 4, 0, 0, 0, 0, 0, 0, 0, 2, 0, 0, 0, 0, 1, 0, 0, 2, 0, 0, 1, 0, 0, 0, 0, 0, 0, 0, 0, 0, 0, 2, 0, 0, 0, 0, 0, 0, 0, 0, 0, 0, 0, 0, 0, 0, 0, 0, 0, 0, 0, 0, 0, 0, 0, 0, 0, 0, 1, 0, 0, 1, 0, 0, 1, 0, 1, 0, 0, 0, 1, 1, 0, 0, 1, 0, 0, 0, 0, 1, 0, 2, 0, 0, 0, 0, 0, 0, 0, 0, 1, 0, 1, 0, 0, 0, 0, 0, 0, 0, 0, 0, 0, 0, 0, 0, 0, 2, 0, 0, 0, 0, 1, 0, 0, 1, 0, 0, 1, 0, 0, 1, 2, 1, 1, 0, 1, 0, 0, 0, 4, 1, 0, 1, 0, 1, 3, 0, 0, 0, 1, 0, 0, 1, 0, 1, 2, 0, 1, 0, 0, 0, 1, 2, 0, 2, 0, 0, 0, 0, 0, 2, 0, 0, 0, 0, 0, 0, 0, 2, 1, 0, 2, 0, 0, 1, 0, 0, 0, 0, 0, 0, 0, 0, 1, 0, 0, 1, 0, 0, 0, 2, 0, 0, 1, 0, 0, 0, 0, 0, 1, 0, 0, 3, 0, 3, 0, 0, 0, 0, 1, 0, 0, 0, 0, 0, 0, 0, 1, 0, 2, 1, 1, 1, 0, 0, 1, 0, 1, 1, 0, 0, 0, 1, 0, 0, 1, 0, 5, 2, 0, 3, 0, 5, 0, 0, 0, 0, 3, 10, 0, 0, 0, 0, 1, 0, 3, 4, 0, 3, 0, 3, 0, 1, 0, 0, 0, 1, 0, 0, 0, 0, 0, 0, 1, 0, 1, 6, 1, 0, 3, 1, 1, 0, 0, 0, 0, 6, 0, 0, 2, 1, 3, 1, 1, 0, 1, 0, 0, 0, 0, 0, 0, 0, 0, 0, 3, 2, 0, 0, 0, 0, 0, 0, 1, 0, 0, 0, 0, 0, 0, 1, 0, 5, 2, 0, 1, 0, 0, 0, 0, 1, 0, 0, 0, 0, 0, 0, 0, 1, 0, 0, 0, 0, 0, 0, 0, 0, 0, 0, 0, 0, 0, 1, 0, 0, 0, 0, 1, 0, 0, 0, 0, 3, 0, 0, 0, 3, 0, 0, 0, 3, 3, 0, 2, 0, 3, 0, 0, 0, 0, 0, 0, 0, 0, 0, 0, 0, 0, 0, 0, 0, 0, 3, 3, 5, 0, 0, 0, 3, 3, 0, 13, 0, 1, 0, 0, 0, 3, 8, 13, 2, 2, 13, 1, 3, 3, 3, 0, 0, 0, 0, 0, 3, 0, 0, 0, 0, 0, 0, 3, 3, 1, 0, 0, 0, 3, 0, 0, 0, 0, 0, 0, 0, 1, 2, 0, 0, 0, 0, 0, 0, 1, 0, 1, 1, 1, 0, 0, 0, 1, 1, 0, 0, 0, 0, 0, 1, 0, 0, 1, 0, 0, 0, 0, 0, 0, 0, 0, 0, 0, 0, 0, 1, 2, 0, 0, 0, 0, 0, 0, 0, 10, 0, 0, 0, 0, 0, 1, 0, 0, 0, 4, 0, 0, 0, 0, 0, 1, 1, 0, 0, 1, 0, 0, 0, 0, 0, 0, 0, 0, 0, 1, 0, 1, 1, 2, 0, 0, 0, 0, 0, 0, 0, 0, 0, 0, 0, 0, 0, 0, 0, 0, 0, 1, 4, 0, 0, 1, 0, 1, 0, 1, 0, 0, 0, 0, 0, 5, 0, 1, 0, 0, 0, 0, 2, 1, 0, 0, 2, 0, 0, 0, 0, 0, 0, 0, 0, 0, 1, 0, 0, 1, 0, 0, 1, 0, 5, 0, 0, 1, 0, 0, 0, 0, 10, 1, 0, 0, 0, 0, 0, 1, 1, 0, 0, 0, 0, 0, 0, 0, 0, 0, 0, 0, 0, 0, 0, 0, 1, 0, 0, 1, 0, 2, 1, 1, 1, 0, 2, 0, 2, 0, 1, 0, 0, 0, 0, 0, 2, 0, 0, 0, 0, 0, 0, 0, 0, 0, 0, 0, 0, 0, 1, 3, 1, 6, 3, 0, 0, 4, 0, 0, 0, 0, 2, 0, 2, 7, 0, 0, 1, 0, 0, 2, 0, 0, 0, 0, 1, 3, 8, 0, 0, 0, 1, 0, 0, 3, 0, 0, 0, 1, 0, 3, 0, 0, 0, 0, 0, 0, 0, 0, 2, 0, 2, 0, 0, 0, 0, 0, 0, 0, 0, 0, 0, 0, 0, 0, 2, 1, 0, 0, 0, 0, 0, 0, 0, 1, 3, 0, 0, 1, 0, 0, 0, 0, 0, 1, 0, 0, 0, 0, 0, 0, 0, 0, 0, 0, 0, 0, 0, 0, 0, 1, 1, 0, 0, 0, 0, 0, 0, 1, 0, 0, 0, 0, 0, 0, 0, 0, 0, 0, 1, 1, 0, 0, 1, 3, 0, 0, 0, 0, 0, 1, 0, 0, 0, 0, 0, 0, 0, 0, 0, 0, 0, 0, 0, 0, 0, 1, 2, 0, 0, 1, 0, 0, 0, 0, 2, 0, 0, 0, 0, 0, 0, 0, 0, 0, 5, 3, 0, 0, 0, 0, 0, 0, 3, 0, 0, 0, 2, 0, 0, 0, 1, 0, 0, 0, 1, 0, 0, 1, 5, 0, 0, 6, 0, 0, 0, 0, 0, 0, 0, 0, 0, 0, 4, 0, 0, 0, 0, 0, 0, 0, 0, 0, 0, 3, 0, 0, 0, 0, 0, 0, 0, 0, 0, 0, 0, 0, 1, 0, 1, 0, 0, 0, 2, 0, 0, 0, 0, 0, 0, 1, 1, 0, 0, 0, 0, 1, 0, 1, 0, 0, 0, 0, 0, 0, 0, 0, 0, 2, 0, 0, 0, 0, 0, 1, 0, 0, 0, 0, 1, 0, 0, 1, 0, 0, 1, 0, 0, 0, 0, 0, 0, 2, 0, 0, 0, 0, 2, 0, 1, 0, 0, 0, 0, 0, 2, 0, 1, 0, 0, 0, 0, 1, 0, 0, 0, 0, 0, 0, 0, 0, 0, 0, 2, 0, 0, 0, 0, 0, 0, 0, 0, 0, 2, 1, 4, 0, 0, 0, 0, 1, 0, 0, 0, 0, 2, 0, 0, 0, 0, 1, 0, 0, 0, 2, 0, 1, 0, 1, 0, 1, 2, 1, 0, 0, 0, 0, 0, 0, 0, 0, 0, 0, 0, 0, 0, 0, 0, 1, 0, 0, 0, 0, 0, 0, 0, 0, 0, 0, 0, 0, 0, 0, 0, 1, 0, 0, 1, 0, 0, 0, 0, 0, 0, 0, 2, 2, 3, 1, 2, 3, 3, 2, 0, 0, 3, 8, 1, 0, 0, 0, 0, 2, 0, 1, 0, 4, 0, 0, 2, 0, 1, 0, 0, 1, 0, 0, 0, 0, 0, 1, 0, 1, 0, 0, 0, 0, 0, 0, 1, 0, 1, 0, 0, 0, 0, 0, 2, 0, 0, 0, 0, 0, 0, 0, 0, 0, 3, 8, 0, 0, 1, 1, 3, 0, 0, 0, 2, 0, 0, 0, 2, 0, 0, 0, 1, 0, 1, 2, 1, 0, 0, 0, 2, 0, 0, 0, 4, 0, 0, 0, 0, 0, 0, 0, 0, 0, 0, 0, 0, 0, 0, 0, 0, 0, 1, 0, 0, 0, 0, 0, 0, 0, 1, 0, 0, 1, 0, 0, 0, 0, 0, 1, 0, 0, 0, 1, 1, 0, 0, 2, 0, 0, 0, 0, 0, 0, 1, 0, 0, 1, 1, 0, 0, 0, 1, 3, 0, 0, 0, 1, 0, 1, 0, 0, 0, 0, 1, 0, 0, 0, 0, 4, 0, 0, 4, 0, 0, 1, 0, 0, 0, 0, 2, 4, 0, 0, 0, 0, 0, 0, 0, 1, 0, 0, 0, 0, 0, 1, 0, 0, 0, 0, 0, 1, 0, 0, 1, 0, 0, 0, 0, 0, 0, 0, 0, 0, 0, 0, 0, 0, 0, 0, 0, 0, 0, 0, 0, 0, 1, 2, 0, 0, 0, 0, 0, 0, 3, 0, 1, 1, 1, 0, 0, 0, 2, 1, 0, 0, 0, 1, 0, 0, 0, 0, 0, 0, 3, 0, 1, 0, 1, 0, 0, 10, 0, 0, 0, 1, 0, 0, 0, 0, 0, 0, 0, 0, 1, 0, 10, 0, 10, 1, 0, 10, 0, 0, 0, 0, 0, 0, 0, 0, 3, 0, 0, 0, 0, 0, 0, 3, 0, 0, 3, 2, 0, 1, 3, 0, 0, 0, 2, 0, 0, 0, 0, 0, 0, 0, 0, 0, 2, 0, 1, 0, 1, 0, 1, 1, 0, 0, 0, 0, 0, 2, 0, 4, 1, 1, 1, 0, 0, 0, 0, 0, 6, 0, 0, 1, 0, 1, 0, 1, 0, 0, 0, 0, 0, 2, 0, 0, 0, 0, 0, 0, 2, 0, 0, 0, 1, 0, 0, 1, 0, 0, 1, 0, 0, 0, 0, 0, 0, 0, 0, 0, 4, 0, 0, 0, 0, 0, 0, 0, 0, 0, 0, 0, 1, 1, 0, 0, 0, 0, 0, 2, 0, 0, 0, 0, 0, 0, 0, 0, 1, 1, 1, 4, 0, 0, 0, 0, 0, 0, 0, 0, 0, 1, 0, 0, 1, 2, 0, 0, 0, 0, 2, 0, 0, 0, 0, 1, 0, 0, 0, 0, 1, 0, 0, 0, 0, 0, 0, 0, 0, 0, 0, 0, 0, 0, 0, 0, 0, 0, 0, 2, 0, 0, 0, 0, 0, 1, 0, 0, 1, 0, 0, 0, 1, 1, 0, 0, 3, 0, 0, 1, 0, 0, 0, 0, 0, 0, 0, 0, 0, 0, 0, 0, 2, 0, 0, 0, 4, 2, 2, 2, 0, 2, 1, 2, 0, 0, 0, 0, 0, 0, 1, 2, 0, 0, 1, 2, 0, 1, 0, 0, 0, 2, 0, 1, 0, 0, 13, 0, 0, 0, 0, 0, 0, 0, 0, 0, 1, 0, 1, 0, 0, 0, 1, 5, 0, 0, 5, 0, 0, 0, 0, 0, 0, 0, 0, 0, 0, 0, 1, 2, 1, 0, 0, 1, 0, 0, 0, 0, 0, 0, 5, 0, 1, 0, 0, 0, 0, 0, 0, 0, 0, 0, 0, 0, 0, 1, 0, 1, 0, 0, 0, 2, 0, 0, 1, 1, 0, 2, 0, 0, 1, 0, 0, 0, 2, 1, 0, 2, 0, 0, 1, 1, 1, 5, 1, 1, 0, 1, 1, 2, 0, 2, 0, 0, 0, 0, 0, 1, 2, 0, 1, 2, 0, 0, 0, 0, 0, 0, 0, 0, 1, 0, 0, 0, 0, 0, 0, 1, 0, 0, 3, 0, 0, 0, 0, 0, 0, 1, 0, 1, 0, 0, 3, 6, 2, 2, 0, 0, 0, 0, 0, 0, 0, 0, 0, 0, 1, 0, 1, 0, 0, 0, 0, 0, 3, 0, 0, 0, 1, 0, 0, 0, 0, 0, 0, 0, 0, 0, 0, 0, 0, 1, 0, 0, 3, 0, 1, 0, 0, 0, 0, 0, 0, 0, 0, 0, 0, 0, 0, 0, 0], \"xaxis\": \"x2\", \"yaxis\": \"y2\"}, {\"alignmentgroup\": \"True\", \"bingroup\": \"x\", \"hoverlabel\": {\"namelength\": 0}, \"hovertemplate\": \"target=0<br>hastags=%{x}<br>count=%{y}\", \"legendgroup\": \"target=0\", \"marker\": {\"color\": \"#EF553B\"}, \"name\": \"target=0\", \"offsetgroup\": \"target=0\", \"orientation\": \"v\", \"showlegend\": true, \"type\": \"histogram\", \"x\": [2, 0, 0, 1, 0, 1, 0, 0, 0, 0, 0, 0, 1, 0, 0, 0, 0, 0, 0, 0, 0, 2, 0, 0, 3, 2, 0, 0, 0, 0, 0, 0, 0, 0, 0, 0, 6, 0, 6, 0, 0, 0, 1, 0, 0, 0, 6, 6, 6, 0, 6, 6, 2, 0, 2, 0, 1, 0, 0, 3, 0, 0, 0, 0, 0, 0, 0, 0, 0, 0, 0, 0, 0, 0, 0, 0, 2, 0, 0, 0, 0, 3, 0, 0, 0, 0, 0, 0, 0, 0, 0, 0, 0, 1, 0, 0, 0, 0, 0, 0, 0, 0, 0, 0, 0, 0, 0, 1, 0, 0, 0, 0, 0, 1, 0, 0, 0, 0, 0, 0, 0, 0, 0, 0, 0, 1, 1, 3, 0, 0, 1, 0, 0, 0, 0, 1, 0, 0, 0, 0, 1, 0, 0, 0, 0, 0, 0, 0, 0, 0, 0, 0, 1, 0, 0, 0, 1, 1, 2, 0, 0, 0, 0, 0, 11, 0, 1, 0, 0, 11, 1, 2, 0, 0, 0, 0, 5, 0, 0, 7, 0, 0, 1, 0, 0, 3, 2, 1, 1, 0, 0, 2, 0, 1, 1, 1, 1, 1, 1, 0, 0, 3, 0, 0, 1, 1, 1, 1, 1, 3, 1, 0, 0, 1, 1, 1, 1, 0, 0, 0, 1, 1, 0, 0, 0, 1, 0, 0, 1, 0, 1, 1, 1, 0, 0, 0, 1, 0, 0, 4, 0, 0, 2, 0, 0, 1, 0, 0, 0, 0, 0, 0, 0, 0, 0, 0, 0, 0, 1, 0, 0, 0, 0, 0, 0, 0, 0, 0, 0, 1, 0, 0, 0, 0, 0, 1, 0, 0, 0, 0, 3, 0, 0, 3, 0, 0, 4, 0, 0, 0, 1, 0, 1, 0, 0, 0, 0, 0, 0, 0, 2, 0, 1, 0, 0, 0, 0, 2, 0, 0, 0, 0, 0, 2, 1, 0, 0, 0, 1, 0, 1, 0, 0, 0, 0, 0, 0, 0, 3, 0, 0, 1, 0, 0, 4, 0, 0, 1, 0, 0, 0, 1, 0, 0, 0, 0, 0, 1, 0, 4, 0, 2, 0, 0, 0, 1, 0, 0, 0, 0, 0, 3, 0, 0, 0, 0, 0, 0, 0, 0, 1, 0, 0, 0, 0, 0, 1, 0, 0, 0, 0, 0, 0, 0, 0, 0, 6, 1, 2, 0, 0, 0, 0, 0, 0, 2, 0, 1, 0, 0, 0, 1, 0, 0, 0, 0, 0, 0, 0, 0, 0, 3, 0, 0, 0, 0, 0, 0, 0, 0, 0, 0, 0, 2, 0, 0, 0, 0, 0, 0, 0, 0, 0, 0, 0, 0, 0, 0, 0, 0, 0, 0, 0, 0, 0, 0, 0, 0, 0, 0, 0, 0, 1, 0, 0, 0, 0, 0, 1, 2, 1, 0, 0, 0, 0, 0, 1, 0, 0, 0, 0, 1, 0, 0, 0, 0, 3, 0, 0, 0, 0, 0, 0, 1, 0, 0, 0, 0, 0, 0, 0, 0, 1, 0, 0, 0, 0, 0, 0, 0, 0, 0, 0, 0, 2, 1, 0, 0, 0, 0, 0, 0, 0, 0, 0, 0, 0, 0, 0, 1, 0, 0, 0, 0, 0, 0, 0, 0, 1, 0, 0, 0, 0, 0, 0, 0, 0, 0, 0, 0, 0, 0, 0, 0, 0, 0, 0, 0, 1, 0, 0, 0, 0, 0, 0, 0, 1, 0, 0, 0, 0, 0, 0, 0, 0, 0, 0, 1, 0, 0, 0, 0, 0, 0, 0, 0, 0, 2, 0, 0, 0, 0, 2, 0, 0, 0, 0, 0, 0, 0, 0, 1, 0, 0, 0, 0, 0, 0, 0, 0, 0, 0, 0, 2, 0, 1, 0, 0, 0, 0, 0, 0, 0, 0, 0, 0, 1, 0, 0, 0, 0, 0, 0, 1, 0, 0, 1, 0, 0, 0, 0, 0, 2, 0, 0, 0, 1, 0, 1, 0, 0, 0, 0, 0, 0, 0, 2, 0, 0, 0, 0, 2, 0, 2, 0, 0, 0, 3, 2, 4, 0, 0, 2, 0, 0, 0, 0, 0, 0, 1, 0, 0, 0, 0, 0, 0, 1, 0, 0, 2, 0, 0, 0, 0, 0, 0, 0, 0, 0, 0, 0, 0, 0, 0, 0, 1, 0, 0, 0, 0, 0, 1, 0, 0, 0, 0, 0, 0, 0, 0, 0, 0, 0, 0, 2, 7, 0, 0, 0, 0, 0, 1, 0, 0, 0, 0, 0, 0, 0, 0, 0, 0, 0, 0, 1, 0, 0, 0, 0, 0, 0, 0, 0, 0, 0, 0, 0, 0, 1, 0, 0, 0, 0, 2, 0, 1, 0, 0, 0, 0, 0, 0, 0, 0, 0, 1, 0, 0, 0, 2, 0, 0, 0, 0, 1, 1, 1, 0, 1, 1, 0, 0, 0, 0, 1, 1, 0, 0, 0, 1, 0, 0, 0, 0, 0, 1, 0, 0, 0, 1, 0, 0, 0, 0, 0, 0, 1, 0, 0, 0, 1, 0, 0, 1, 0, 0, 0, 1, 0, 0, 0, 0, 0, 0, 0, 4, 0, 5, 0, 0, 0, 0, 0, 0, 0, 0, 0, 0, 0, 0, 0, 0, 0, 3, 0, 0, 0, 0, 0, 0, 0, 2, 0, 0, 0, 0, 0, 1, 0, 0, 0, 0, 0, 0, 1, 1, 0, 0, 0, 0, 0, 0, 0, 2, 1, 0, 1, 0, 3, 3, 0, 2, 0, 2, 0, 0, 0, 0, 0, 2, 1, 1, 0, 0, 0, 0, 2, 3, 0, 0, 0, 3, 0, 0, 0, 0, 0, 1, 1, 0, 3, 3, 0, 1, 2, 1, 0, 0, 0, 2, 0, 0, 1, 1, 0, 0, 0, 0, 0, 0, 0, 0, 3, 0, 0, 0, 1, 0, 1, 5, 0, 4, 1, 0, 0, 0, 4, 4, 4, 1, 0, 0, 0, 0, 0, 4, 1, 0, 0, 0, 0, 0, 0, 0, 0, 2, 0, 0, 0, 0, 0, 0, 0, 0, 0, 0, 0, 0, 0, 4, 0, 0, 0, 0, 0, 0, 0, 1, 0, 0, 0, 0, 0, 0, 0, 0, 0, 6, 0, 0, 0, 0, 0, 0, 0, 0, 0, 0, 0, 0, 0, 0, 0, 0, 0, 0, 0, 0, 0, 2, 0, 0, 1, 0, 0, 0, 0, 1, 1, 0, 0, 0, 1, 0, 0, 0, 0, 0, 0, 2, 0, 0, 0, 1, 2, 0, 0, 0, 3, 0, 0, 0, 0, 2, 0, 0, 1, 0, 0, 0, 0, 3, 0, 0, 0, 0, 0, 0, 4, 0, 2, 4, 3, 3, 0, 2, 0, 2, 0, 0, 0, 0, 0, 0, 0, 0, 0, 0, 0, 0, 1, 0, 0, 0, 1, 1, 1, 0, 0, 0, 0, 0, 0, 0, 0, 1, 0, 0, 0, 0, 0, 0, 2, 0, 0, 0, 0, 0, 2, 0, 0, 0, 0, 0, 0, 0, 0, 0, 0, 0, 2, 0, 0, 0, 0, 0, 0, 0, 0, 0, 0, 0, 4, 0, 0, 0, 0, 0, 0, 0, 0, 0, 1, 0, 0, 2, 0, 0, 0, 0, 1, 1, 0, 0, 0, 0, 1, 0, 6, 0, 0, 0, 3, 0, 0, 0, 0, 0, 0, 0, 1, 0, 0, 0, 0, 0, 0, 0, 0, 0, 0, 0, 0, 0, 0, 2, 0, 0, 1, 0, 0, 0, 0, 0, 0, 3, 4, 0, 0, 0, 0, 0, 0, 0, 0, 0, 1, 2, 0, 0, 0, 0, 1, 0, 0, 0, 0, 0, 0, 0, 0, 0, 0, 1, 0, 7, 0, 2, 0, 0, 0, 0, 0, 2, 2, 0, 0, 0, 2, 3, 1, 1, 0, 1, 0, 2, 1, 2, 2, 0, 0, 0, 0, 0, 0, 0, 0, 0, 0, 0, 0, 0, 0, 0, 0, 0, 0, 1, 0, 0, 1, 0, 0, 0, 0, 0, 0, 2, 0, 0, 2, 0, 0, 0, 0, 0, 0, 1, 0, 0, 0, 0, 0, 0, 0, 0, 0, 0, 0, 0, 0, 0, 1, 0, 1, 0, 0, 0, 0, 1, 1, 1, 0, 0, 0, 0, 0, 0, 1, 0, 0, 0, 0, 0, 0, 3, 1, 0, 0, 1, 0, 1, 0, 0, 0, 3, 0, 0, 0, 1, 0, 2, 0, 1, 0, 0, 0, 0, 3, 0, 0, 0, 2, 1, 0, 1, 0, 0, 0, 0, 0, 0, 0, 0, 0, 0, 0, 0, 0, 0, 0, 0, 0, 0, 0, 0, 0, 0, 0, 0, 1, 0, 0, 0, 0, 0, 0, 0, 2, 0, 0, 0, 0, 0, 2, 0, 0, 0, 3, 1, 0, 0, 0, 0, 2, 2, 0, 0, 3, 0, 0, 0, 0, 0, 0, 0, 0, 0, 0, 0, 0, 0, 0, 0, 0, 0, 0, 0, 0, 4, 2, 0, 0, 0, 1, 0, 0, 0, 0, 0, 0, 0, 0, 0, 0, 0, 0, 0, 0, 0, 0, 0, 0, 3, 0, 0, 1, 1, 1, 0, 0, 3, 1, 0, 0, 0, 0, 2, 2, 0, 2, 0, 2, 1, 4, 0, 0, 0, 0, 0, 2, 0, 0, 0, 0, 1, 0, 0, 0, 1, 0, 0, 0, 0, 0, 0, 0, 0, 0, 0, 0, 0, 0, 0, 0, 0, 0, 1, 0, 6, 1, 0, 0, 0, 0, 0, 0, 0, 0, 0, 0, 0, 2, 0, 0, 1, 0, 1, 0, 1, 4, 0, 1, 0, 0, 1, 0, 0, 0, 4, 0, 0, 1, 2, 1, 0, 1, 2, 1, 0, 0, 0, 0, 0, 0, 0, 0, 0, 1, 0, 0, 0, 0, 0, 0, 0, 0, 0, 1, 0, 0, 0, 0, 0, 0, 0, 0, 0, 0, 0, 1, 0, 1, 0, 0, 0, 0, 1, 0, 0, 0, 6, 0, 2, 0, 0, 0, 0, 1, 0, 0, 0, 0, 0, 0, 1, 0, 0, 0, 0, 1, 0, 0, 0, 0, 0, 0, 0, 0, 0, 1, 0, 0, 1, 0, 1, 0, 1, 0, 0, 0, 0, 0, 0, 0, 0, 0, 0, 0, 0, 0, 0, 0, 0, 0, 0, 0, 0, 0, 0, 0, 0, 0, 0, 1, 0, 0, 0, 0, 0, 0, 0, 0, 0, 0, 2, 0, 1, 1, 0, 0, 0, 0, 0, 0, 2, 0, 0, 0, 0, 0, 0, 3, 2, 0, 0, 0, 0, 0, 0, 0, 0, 0, 0, 0, 0, 3, 0, 0, 0, 0, 0, 0, 0, 0, 0, 0, 2, 1, 1, 0, 0, 0, 0, 0, 0, 0, 0, 3, 2, 0, 0, 0, 0, 0, 3, 0, 0, 0, 0, 0, 0, 0, 0, 0, 0, 0, 0, 0, 0, 0, 0, 0, 0, 0, 0, 0, 0, 0, 2, 0, 0, 0, 0, 1, 0, 0, 2, 0, 0, 0, 0, 0, 0, 0, 0, 0, 0, 1, 0, 0, 0, 0, 0, 0, 0, 0, 0, 0, 0, 2, 0, 0, 1, 1, 0, 0, 0, 0, 4, 0, 0, 0, 0, 0, 0, 0, 0, 0, 0, 0, 0, 0, 3, 0, 0, 0, 0, 0, 0, 2, 0, 0, 1, 0, 2, 2, 2, 0, 0, 0, 0, 0, 0, 0, 0, 0, 0, 0, 0, 0, 0, 0, 0, 0, 0, 0, 0, 0, 0, 0, 0, 0, 0, 0, 0, 0, 0, 0, 0, 0, 0, 0, 0, 0, 3, 4, 0, 0, 0, 0, 1, 0, 0, 0, 0, 0, 0, 0, 0, 0, 0, 0, 0, 0, 1, 0, 0, 2, 0, 0, 0, 0, 3, 0, 2, 0, 2, 0, 0, 0, 0, 0, 0, 0, 1, 0, 0, 0, 1, 0, 0, 1, 0, 0, 3, 0, 0, 0, 4, 0, 2, 2, 0, 0, 0, 4, 5, 1, 2, 4, 0, 5, 2, 2, 5, 0, 0, 0, 2, 2, 0, 0, 0, 2, 0, 0, 1, 0, 0, 0, 2, 0, 1, 0, 2, 0, 0, 0, 0, 0, 0, 1, 0, 0, 0, 0, 0, 0, 0, 0, 0, 0, 0, 0, 0, 0, 1, 0, 0, 0, 2, 3, 0, 0, 0, 0, 0, 0, 0, 0, 1, 0, 0, 1, 0, 1, 0, 0, 0, 0, 0, 2, 0, 0, 0, 0, 0, 0, 1, 1, 0, 2, 0, 1, 0, 0, 0, 0, 0, 0, 1, 0, 0, 1, 0, 0, 0, 0, 0, 0, 4, 0, 0, 0, 2, 0, 0, 0, 0, 0, 1, 0, 0, 0, 0, 0, 0, 0, 0, 0, 3, 0, 1, 0, 0, 0, 0, 0, 0, 0, 1, 0, 0, 0, 2, 1, 0, 0, 0, 2, 0, 0, 0, 0, 0, 0, 3, 0, 0, 0, 0, 0, 0, 0, 0, 1, 0, 0, 0, 0, 1, 0, 0, 0, 0, 0, 0, 0, 0, 4, 1, 0, 0, 0, 0, 0, 0, 0, 0, 0, 0, 0, 0, 0, 0, 0, 0, 2, 0, 0, 1, 0, 0, 0, 1, 0, 0, 0, 0, 0, 1, 0, 0, 0, 0, 0, 0, 0, 0, 0, 0, 0, 0, 0, 0, 0, 2, 0, 0, 0, 0, 0, 0, 0, 0, 0, 0, 0, 0, 0, 0, 0, 0, 0, 0, 0, 0, 0, 0, 0, 0, 0, 0, 0, 0, 1, 0, 2, 0, 0, 0, 2, 0, 0, 0, 0, 1, 1, 0, 0, 1, 0, 0, 0, 0, 5, 0, 0, 0, 1, 0, 0, 0, 2, 0, 0, 0, 0, 0, 1, 5, 0, 0, 0, 0, 0, 1, 0, 0, 0, 0, 4, 0, 0, 0, 0, 1, 0, 0, 2, 0, 0, 0, 0, 0, 1, 1, 0, 2, 1, 3, 0, 0, 0, 0, 0, 0, 0, 2, 2, 0, 0, 0, 0, 0, 2, 0, 0, 0, 0, 2, 0, 0, 0, 0, 0, 0, 1, 0, 0, 0, 0, 1, 0, 0, 0, 0, 0, 0, 0, 0, 3, 0, 1, 0, 0, 0, 0, 2, 0, 0, 0, 0, 0, 0, 0, 0, 0, 0, 1, 0, 0, 0, 2, 0, 0, 1, 0, 0, 0, 0, 0, 0, 0, 0, 0, 0, 1, 0, 0, 0, 0, 0, 0, 0, 0, 0, 0, 0, 2, 1, 0, 0, 0, 0, 0, 0, 0, 0, 0, 1, 0, 0, 1, 0, 3, 0, 0, 2, 0, 2, 0, 0, 0, 0, 0, 0, 0, 4, 0, 1, 1, 0, 0, 0, 0, 0, 0, 0, 1, 0, 0, 0, 1, 0, 0, 0, 0, 0, 0, 0, 0, 0, 2, 0, 0, 0, 0, 1, 0, 0, 0, 0, 0, 0, 0, 0, 0, 1, 0, 0, 0, 0, 0, 0, 0, 0, 0, 1, 0, 0, 0, 0, 0, 0, 0, 0, 0, 0, 0, 0, 2, 0, 1, 0, 0, 0, 0, 0, 0, 1, 0, 0, 0, 0, 0, 0, 0, 0, 0, 0, 0, 0, 0, 0, 0, 2, 0, 0, 3, 0, 1, 0, 3, 0, 0, 0, 0, 0, 0, 0, 6, 0, 0, 0, 0, 0, 0, 1, 0, 2, 0, 0, 0, 1, 0, 0, 1, 0, 5, 1, 0, 2, 0, 0, 0, 0, 5, 0, 0, 0, 1, 0, 1, 0, 2, 0, 0, 1, 0, 0, 0, 2, 1, 0, 0, 0, 0, 0, 0, 1, 0, 0, 0, 0, 0, 0, 0, 0, 0, 0, 0, 0, 0, 0, 0, 0, 0, 0, 0, 0, 0, 0, 0, 0, 0, 0, 3, 3, 3, 3, 3, 3, 3, 0, 3, 3, 0, 3, 3, 3, 0, 1, 0, 0, 0, 0, 0, 0, 0, 0, 0, 0, 0, 0, 0, 0, 0, 0, 0, 0, 3, 0, 0, 0, 0, 3, 7, 0, 0, 1, 0, 0, 0, 0, 0, 0, 0, 0, 0, 0, 0, 0, 0, 0, 0, 0, 0, 0, 3, 0, 0, 0, 0, 0, 0, 2, 0, 0, 0, 0, 0, 0, 1, 0, 0, 1, 0, 0, 0, 0, 0, 0, 0, 3, 0, 0, 0, 0, 0, 0, 0, 0, 2, 0, 0, 0, 0, 1, 3, 0, 0, 2, 0, 0, 1, 0, 0, 3, 0, 0, 1, 0, 0, 0, 1, 0, 0, 0, 0, 0, 0, 0, 0, 0, 0, 0, 0, 0, 0, 0, 0, 1, 0, 0, 0, 1, 1, 1, 0, 0, 0, 0, 0, 2, 0, 0, 0, 0, 0, 0, 0, 0, 0, 0, 0, 0, 2, 1, 0, 0, 0, 0, 1, 0, 0, 0, 0, 0, 2, 1, 0, 0, 0, 0, 0, 0, 0, 1, 1, 0, 0, 0, 0, 0, 0, 0, 0, 1, 0, 0, 1, 0, 0, 0, 0, 0, 1, 5, 0, 0, 0, 0, 1, 0, 1, 1, 0, 0, 0, 0, 1, 1, 0, 0, 0, 0, 0, 0, 0, 0, 0, 1, 0, 0, 0, 0, 0, 0, 0, 1, 0, 0, 0, 1, 0, 0, 0, 0, 0, 0, 0, 0, 0, 0, 0, 0, 0, 0, 0, 1, 0, 0, 0, 0, 0, 0, 0, 0, 0, 0, 0, 0, 0, 0, 0, 2, 0, 0, 0, 0, 1, 0, 0, 0, 0, 1, 0, 0, 0, 5, 0, 5, 1, 0, 0, 1, 1, 0, 1, 0, 2, 5, 0, 0, 1, 1, 0, 0, 5, 0, 0, 1, 0, 0, 0, 0, 0, 0, 0, 0, 1, 0, 3, 0, 1, 0, 0, 0, 0, 0, 0, 1, 0, 1, 0, 0, 1, 0, 0, 1, 1, 0, 3, 0, 3, 3, 0, 0, 1, 3, 0, 0, 0, 1, 3, 0, 6, 0, 0, 0, 1, 0, 0, 0, 0, 0, 1, 0, 0, 1, 1, 2, 2, 0, 0, 1, 1, 1, 0, 0, 0, 0, 0, 1, 1, 0, 0, 2, 1, 0, 0, 0, 0, 0, 0, 0, 0, 0, 0, 0, 1, 0, 0, 0, 0, 0, 0, 3, 0, 1, 4, 0, 0, 2, 0, 0, 0, 0, 0, 1, 0, 0, 0, 1, 0, 0, 1, 0, 0, 0, 0, 0, 0, 4, 2, 1, 0, 1, 0, 0, 1, 0, 0, 0, 5, 0, 0, 0, 0, 0, 0, 2, 0, 0, 0, 0, 0, 0, 0, 0, 0, 0, 0, 0, 0, 2, 0, 0, 0, 1, 0, 1, 0, 0, 0, 0, 0, 0, 1, 0, 0, 0, 0, 0, 0, 0, 0, 0, 2, 0, 3, 0, 0, 0, 0, 0, 1, 0, 0, 0, 0, 0, 0, 0, 0, 6, 0, 0, 0, 0, 0, 0, 0, 0, 0, 0, 0, 0, 1, 0, 1, 0, 0, 0, 0, 0, 0, 1, 0, 0, 1, 0, 6, 0, 0, 0, 0, 0, 1, 0, 0, 0, 0, 0, 0, 1, 0, 1, 0, 0, 0, 0, 0, 0, 0, 1, 0, 0, 0, 0, 0, 0, 0, 0, 0, 1, 0, 4, 0, 0, 0, 0, 0, 0, 0, 0, 0, 0, 0, 0, 0, 0, 0, 1, 0, 0, 0, 0, 0, 0, 0, 0, 1, 0, 0, 0, 0, 0, 0, 0, 0, 0, 0, 0, 0, 0, 0, 0, 0, 0, 0, 1, 3, 2, 0, 0, 0, 0, 0, 1, 3, 0, 0, 3, 0, 0, 0, 0, 3, 0, 0, 0, 0, 0, 0, 2, 0, 2, 0, 0, 1, 0, 4, 0, 0, 0, 0, 0, 0, 0, 0, 0, 0, 0, 0, 3, 3, 0, 0, 0, 0, 0, 0, 0, 0, 0, 0, 3, 0, 0, 0, 0, 0, 3, 0, 0, 6, 3, 1, 0, 1, 2, 0, 0, 1, 0, 0, 0, 0, 0, 0, 0, 0, 0, 0, 0, 0, 0, 0, 2, 0, 0, 0, 0, 2, 0, 4, 2, 0, 0, 0, 0, 1, 1, 1, 1, 1, 1, 1, 0, 1, 1, 0, 0, 0, 0, 1, 0, 1, 0, 1, 9, 0, 1, 2, 0, 0, 0, 0, 0, 0, 2, 0, 0, 0, 0, 0, 1, 0, 0, 1, 0, 2, 1, 0, 0, 0, 0, 0, 0, 3, 2, 0, 0, 0, 0, 0, 0, 0, 0, 0, 0, 0, 0, 0, 0, 2, 1, 0, 1, 0, 1, 0, 0, 0, 0, 0, 0, 0, 4, 0, 0, 0, 0, 0, 1, 1, 0, 0, 0, 3, 0, 0, 0, 0, 0, 0, 1, 0, 0, 0, 1, 0, 0, 2, 0, 0, 0, 0, 1, 0, 0, 0, 0, 0, 1, 0, 0, 0, 0, 0, 0, 0, 0, 0, 0, 0, 0, 0, 0, 0, 0, 0, 0, 0, 0, 0, 0, 0, 0, 0, 0, 0, 0, 0, 0, 0, 0, 0, 0, 0, 0, 0, 0, 0, 0, 0, 0, 0, 1, 0, 0, 0, 0, 1, 0, 0, 1, 0, 0, 0, 0, 0, 0, 0, 0, 0, 0, 0, 0, 0, 0, 0, 0, 0, 0, 0, 0, 0, 0, 0, 1, 0, 0, 3, 0, 0, 0, 0, 0, 0, 0, 0, 0, 0, 0, 0, 0, 0, 0, 0, 0, 0, 0, 0, 0, 0, 0, 0, 0, 0, 0, 0, 0, 0, 0, 0, 1, 0, 0, 0, 0, 0, 0, 0, 0, 0, 0, 0, 4, 2, 0, 0, 0, 0, 2, 4, 0, 0, 0, 0, 0, 0, 0, 0, 0, 0, 1, 0, 2, 0, 1, 0, 0, 0, 0, 0, 0, 0, 1, 1, 0, 0, 0, 0, 0, 0, 0, 0, 0, 0, 0, 2, 1, 0, 2, 0, 0, 0, 0, 0, 0, 0, 0, 0, 0, 0, 0, 0, 1, 0, 0, 0, 0, 0, 0, 0, 0, 1, 1, 0, 0, 0, 0, 0, 0, 0, 1, 0, 0, 0, 0, 0, 0, 0, 0, 0, 0, 0, 0, 0, 0, 0, 0, 0, 0, 0, 0, 0, 0, 1, 0, 0, 0, 1, 0, 0, 2, 0, 0, 2, 0, 0, 0, 0, 0, 0, 0, 0, 0, 0, 0, 0, 0, 0, 0, 0, 0, 0, 0, 0, 0, 0, 0, 0, 0, 0, 0, 0, 0, 0, 0, 0, 0, 0, 0, 2, 0, 0, 0, 0, 0, 0, 3, 1, 0, 0, 0, 1, 9, 0, 1, 0, 2, 0, 0, 0, 0, 0, 1, 0, 0, 0, 0, 0, 0, 0, 0, 0, 0, 0, 0, 0, 0, 0, 2, 0, 0, 0, 0, 0, 0, 0, 0, 0, 0, 0, 0, 0, 0, 0, 0, 1, 0, 0, 0, 0, 0, 0, 0, 0, 0, 0, 0, 2, 0, 0, 0, 0, 0, 0, 0, 0, 0, 0, 0, 0, 0, 0, 0, 0, 0, 0, 0, 0, 0, 0, 0, 0, 0, 0, 1, 0, 0, 0, 0, 0, 0, 0, 0, 0, 0, 0, 1, 0, 0, 0, 0, 0, 0, 0, 0, 8, 1, 0, 0, 0, 0, 3, 0, 0, 0, 0, 2, 0, 0, 0, 0, 0, 0, 0, 4, 0, 0, 2, 0, 0, 0, 0, 0, 0, 0, 1, 0, 0, 0, 1, 0, 0, 0, 2, 0, 0, 0, 0, 0, 0, 0, 0, 0, 1, 0, 3, 0, 0, 10, 10, 0, 0, 0, 1, 1, 0, 10, 3, 0, 0, 0, 1, 0, 1, 0, 2, 3, 0, 0, 0, 0, 2, 1, 0, 0, 0, 0, 0, 0, 2, 0, 0, 1, 0, 0, 0, 2, 0, 0, 0, 4, 0, 0, 0, 0, 0, 3, 4, 0, 0, 0, 0, 0, 0, 0, 1, 0, 0, 0, 0, 0, 2, 0, 0, 0, 0, 0, 0, 0, 0, 0, 0, 0, 0, 0, 0, 0, 0, 0, 0, 0, 0, 0, 0, 1, 0, 0, 0, 0, 0, 0, 0, 0, 0, 0, 0, 0, 0, 2, 0, 0, 1, 2, 0, 0, 0, 0, 0, 3, 2, 0, 0, 0, 0, 0, 0, 0, 0, 1, 0, 0, 1, 0, 0, 5, 0, 0, 0, 2, 0, 0, 1, 0, 1, 1, 0, 0, 0, 1, 0, 0, 1, 0, 0, 0, 0, 0, 0, 1, 0, 0, 0, 3, 0, 0, 0, 0, 0, 0, 0, 0, 0, 0, 0, 0, 0, 0, 1, 0, 0, 2, 0, 0, 0, 0, 0, 0, 1, 0, 0, 0, 0, 0, 0, 0, 0, 0, 0, 0, 0, 0, 0, 0, 0, 0, 0, 1, 0, 0, 2, 3, 0, 0, 3, 0, 0, 1, 0, 0, 0, 0, 0, 0, 0, 0, 1, 0, 0, 0, 0, 1, 0, 0, 0, 0, 0, 0, 0, 0, 0, 0, 2, 0, 0, 1, 0, 0, 0, 0, 0, 0, 0, 0, 0, 0, 0, 0, 0, 0, 1, 0, 0, 0, 0, 0, 0, 0, 0, 0, 1, 1, 4, 0, 3, 0, 0, 0, 0, 0, 0, 0, 0, 1, 0, 0, 0, 0, 0, 0, 0, 0, 0, 0, 0, 2, 0, 0, 0, 0, 0, 0, 0, 0, 0, 1, 0, 1, 0, 0, 0, 0, 0, 1, 0, 0, 0, 0, 0, 0, 1, 0, 0, 0, 0, 0, 0, 0, 0, 1, 0, 0, 0, 0, 0, 0, 0, 0, 0, 0, 0, 0, 0, 0, 2, 0, 1, 0, 0, 0, 2, 0, 0, 0, 0, 0, 1, 0, 1, 1, 0, 0, 0, 1, 1, 0, 0, 4, 3, 2, 0, 0, 0, 1, 0, 1, 0, 0, 0, 0, 0, 0, 0, 0, 0, 0, 0, 0, 0, 1, 1, 0, 2, 0, 0, 0, 1, 0, 2, 0, 0, 2, 0, 0, 0, 0, 1, 0, 0, 0, 1, 3, 1, 0, 0, 2, 3, 2, 0, 0, 0, 0, 2, 0, 0, 0, 0, 1, 1, 0, 0, 0, 3, 0, 1, 1, 4, 0, 0, 0, 0, 0, 0, 0, 0, 0, 0, 0, 0, 3, 0, 0, 0, 0, 0, 0, 0, 0, 0, 0, 1, 0, 1, 0, 1, 0, 0, 1, 0, 0, 0, 0, 0, 0, 1, 0, 0, 0, 6, 1, 0, 0, 0, 0, 0, 0, 0, 0, 1, 0, 1, 0, 0, 0, 0, 0, 0, 0, 0, 0, 0, 0, 0, 0, 1, 0, 3, 2, 0, 0, 0, 1, 0, 0, 0, 0, 0, 0, 0, 0, 0, 0, 2, 0, 0, 0, 0, 0, 1, 0, 0, 3, 0, 0], \"xaxis\": \"x\", \"yaxis\": \"y\"}, {\"alignmentgroup\": \"True\", \"boxpoints\": \"all\", \"fillcolor\": \"rgba(255,255,255,0)\", \"hoverlabel\": {\"namelength\": 0}, \"hoveron\": \"points\", \"hovertemplate\": \"target=0<br>hastags=%{x}\", \"jitter\": 0, \"legendgroup\": \"target=0\", \"line\": {\"color\": \"rgba(255,255,255,0)\"}, \"marker\": {\"color\": \"#EF553B\", \"symbol\": \"line-ns-open\"}, \"name\": \"target=0\", \"offsetgroup\": \"target=0\", \"showlegend\": false, \"type\": \"box\", \"x\": [2, 0, 0, 1, 0, 1, 0, 0, 0, 0, 0, 0, 1, 0, 0, 0, 0, 0, 0, 0, 0, 2, 0, 0, 3, 2, 0, 0, 0, 0, 0, 0, 0, 0, 0, 0, 6, 0, 6, 0, 0, 0, 1, 0, 0, 0, 6, 6, 6, 0, 6, 6, 2, 0, 2, 0, 1, 0, 0, 3, 0, 0, 0, 0, 0, 0, 0, 0, 0, 0, 0, 0, 0, 0, 0, 0, 2, 0, 0, 0, 0, 3, 0, 0, 0, 0, 0, 0, 0, 0, 0, 0, 0, 1, 0, 0, 0, 0, 0, 0, 0, 0, 0, 0, 0, 0, 0, 1, 0, 0, 0, 0, 0, 1, 0, 0, 0, 0, 0, 0, 0, 0, 0, 0, 0, 1, 1, 3, 0, 0, 1, 0, 0, 0, 0, 1, 0, 0, 0, 0, 1, 0, 0, 0, 0, 0, 0, 0, 0, 0, 0, 0, 1, 0, 0, 0, 1, 1, 2, 0, 0, 0, 0, 0, 11, 0, 1, 0, 0, 11, 1, 2, 0, 0, 0, 0, 5, 0, 0, 7, 0, 0, 1, 0, 0, 3, 2, 1, 1, 0, 0, 2, 0, 1, 1, 1, 1, 1, 1, 0, 0, 3, 0, 0, 1, 1, 1, 1, 1, 3, 1, 0, 0, 1, 1, 1, 1, 0, 0, 0, 1, 1, 0, 0, 0, 1, 0, 0, 1, 0, 1, 1, 1, 0, 0, 0, 1, 0, 0, 4, 0, 0, 2, 0, 0, 1, 0, 0, 0, 0, 0, 0, 0, 0, 0, 0, 0, 0, 1, 0, 0, 0, 0, 0, 0, 0, 0, 0, 0, 1, 0, 0, 0, 0, 0, 1, 0, 0, 0, 0, 3, 0, 0, 3, 0, 0, 4, 0, 0, 0, 1, 0, 1, 0, 0, 0, 0, 0, 0, 0, 2, 0, 1, 0, 0, 0, 0, 2, 0, 0, 0, 0, 0, 2, 1, 0, 0, 0, 1, 0, 1, 0, 0, 0, 0, 0, 0, 0, 3, 0, 0, 1, 0, 0, 4, 0, 0, 1, 0, 0, 0, 1, 0, 0, 0, 0, 0, 1, 0, 4, 0, 2, 0, 0, 0, 1, 0, 0, 0, 0, 0, 3, 0, 0, 0, 0, 0, 0, 0, 0, 1, 0, 0, 0, 0, 0, 1, 0, 0, 0, 0, 0, 0, 0, 0, 0, 6, 1, 2, 0, 0, 0, 0, 0, 0, 2, 0, 1, 0, 0, 0, 1, 0, 0, 0, 0, 0, 0, 0, 0, 0, 3, 0, 0, 0, 0, 0, 0, 0, 0, 0, 0, 0, 2, 0, 0, 0, 0, 0, 0, 0, 0, 0, 0, 0, 0, 0, 0, 0, 0, 0, 0, 0, 0, 0, 0, 0, 0, 0, 0, 0, 0, 1, 0, 0, 0, 0, 0, 1, 2, 1, 0, 0, 0, 0, 0, 1, 0, 0, 0, 0, 1, 0, 0, 0, 0, 3, 0, 0, 0, 0, 0, 0, 1, 0, 0, 0, 0, 0, 0, 0, 0, 1, 0, 0, 0, 0, 0, 0, 0, 0, 0, 0, 0, 2, 1, 0, 0, 0, 0, 0, 0, 0, 0, 0, 0, 0, 0, 0, 1, 0, 0, 0, 0, 0, 0, 0, 0, 1, 0, 0, 0, 0, 0, 0, 0, 0, 0, 0, 0, 0, 0, 0, 0, 0, 0, 0, 0, 1, 0, 0, 0, 0, 0, 0, 0, 1, 0, 0, 0, 0, 0, 0, 0, 0, 0, 0, 1, 0, 0, 0, 0, 0, 0, 0, 0, 0, 2, 0, 0, 0, 0, 2, 0, 0, 0, 0, 0, 0, 0, 0, 1, 0, 0, 0, 0, 0, 0, 0, 0, 0, 0, 0, 2, 0, 1, 0, 0, 0, 0, 0, 0, 0, 0, 0, 0, 1, 0, 0, 0, 0, 0, 0, 1, 0, 0, 1, 0, 0, 0, 0, 0, 2, 0, 0, 0, 1, 0, 1, 0, 0, 0, 0, 0, 0, 0, 2, 0, 0, 0, 0, 2, 0, 2, 0, 0, 0, 3, 2, 4, 0, 0, 2, 0, 0, 0, 0, 0, 0, 1, 0, 0, 0, 0, 0, 0, 1, 0, 0, 2, 0, 0, 0, 0, 0, 0, 0, 0, 0, 0, 0, 0, 0, 0, 0, 1, 0, 0, 0, 0, 0, 1, 0, 0, 0, 0, 0, 0, 0, 0, 0, 0, 0, 0, 2, 7, 0, 0, 0, 0, 0, 1, 0, 0, 0, 0, 0, 0, 0, 0, 0, 0, 0, 0, 1, 0, 0, 0, 0, 0, 0, 0, 0, 0, 0, 0, 0, 0, 1, 0, 0, 0, 0, 2, 0, 1, 0, 0, 0, 0, 0, 0, 0, 0, 0, 1, 0, 0, 0, 2, 0, 0, 0, 0, 1, 1, 1, 0, 1, 1, 0, 0, 0, 0, 1, 1, 0, 0, 0, 1, 0, 0, 0, 0, 0, 1, 0, 0, 0, 1, 0, 0, 0, 0, 0, 0, 1, 0, 0, 0, 1, 0, 0, 1, 0, 0, 0, 1, 0, 0, 0, 0, 0, 0, 0, 4, 0, 5, 0, 0, 0, 0, 0, 0, 0, 0, 0, 0, 0, 0, 0, 0, 0, 3, 0, 0, 0, 0, 0, 0, 0, 2, 0, 0, 0, 0, 0, 1, 0, 0, 0, 0, 0, 0, 1, 1, 0, 0, 0, 0, 0, 0, 0, 2, 1, 0, 1, 0, 3, 3, 0, 2, 0, 2, 0, 0, 0, 0, 0, 2, 1, 1, 0, 0, 0, 0, 2, 3, 0, 0, 0, 3, 0, 0, 0, 0, 0, 1, 1, 0, 3, 3, 0, 1, 2, 1, 0, 0, 0, 2, 0, 0, 1, 1, 0, 0, 0, 0, 0, 0, 0, 0, 3, 0, 0, 0, 1, 0, 1, 5, 0, 4, 1, 0, 0, 0, 4, 4, 4, 1, 0, 0, 0, 0, 0, 4, 1, 0, 0, 0, 0, 0, 0, 0, 0, 2, 0, 0, 0, 0, 0, 0, 0, 0, 0, 0, 0, 0, 0, 4, 0, 0, 0, 0, 0, 0, 0, 1, 0, 0, 0, 0, 0, 0, 0, 0, 0, 6, 0, 0, 0, 0, 0, 0, 0, 0, 0, 0, 0, 0, 0, 0, 0, 0, 0, 0, 0, 0, 0, 2, 0, 0, 1, 0, 0, 0, 0, 1, 1, 0, 0, 0, 1, 0, 0, 0, 0, 0, 0, 2, 0, 0, 0, 1, 2, 0, 0, 0, 3, 0, 0, 0, 0, 2, 0, 0, 1, 0, 0, 0, 0, 3, 0, 0, 0, 0, 0, 0, 4, 0, 2, 4, 3, 3, 0, 2, 0, 2, 0, 0, 0, 0, 0, 0, 0, 0, 0, 0, 0, 0, 1, 0, 0, 0, 1, 1, 1, 0, 0, 0, 0, 0, 0, 0, 0, 1, 0, 0, 0, 0, 0, 0, 2, 0, 0, 0, 0, 0, 2, 0, 0, 0, 0, 0, 0, 0, 0, 0, 0, 0, 2, 0, 0, 0, 0, 0, 0, 0, 0, 0, 0, 0, 4, 0, 0, 0, 0, 0, 0, 0, 0, 0, 1, 0, 0, 2, 0, 0, 0, 0, 1, 1, 0, 0, 0, 0, 1, 0, 6, 0, 0, 0, 3, 0, 0, 0, 0, 0, 0, 0, 1, 0, 0, 0, 0, 0, 0, 0, 0, 0, 0, 0, 0, 0, 0, 2, 0, 0, 1, 0, 0, 0, 0, 0, 0, 3, 4, 0, 0, 0, 0, 0, 0, 0, 0, 0, 1, 2, 0, 0, 0, 0, 1, 0, 0, 0, 0, 0, 0, 0, 0, 0, 0, 1, 0, 7, 0, 2, 0, 0, 0, 0, 0, 2, 2, 0, 0, 0, 2, 3, 1, 1, 0, 1, 0, 2, 1, 2, 2, 0, 0, 0, 0, 0, 0, 0, 0, 0, 0, 0, 0, 0, 0, 0, 0, 0, 0, 1, 0, 0, 1, 0, 0, 0, 0, 0, 0, 2, 0, 0, 2, 0, 0, 0, 0, 0, 0, 1, 0, 0, 0, 0, 0, 0, 0, 0, 0, 0, 0, 0, 0, 0, 1, 0, 1, 0, 0, 0, 0, 1, 1, 1, 0, 0, 0, 0, 0, 0, 1, 0, 0, 0, 0, 0, 0, 3, 1, 0, 0, 1, 0, 1, 0, 0, 0, 3, 0, 0, 0, 1, 0, 2, 0, 1, 0, 0, 0, 0, 3, 0, 0, 0, 2, 1, 0, 1, 0, 0, 0, 0, 0, 0, 0, 0, 0, 0, 0, 0, 0, 0, 0, 0, 0, 0, 0, 0, 0, 0, 0, 0, 1, 0, 0, 0, 0, 0, 0, 0, 2, 0, 0, 0, 0, 0, 2, 0, 0, 0, 3, 1, 0, 0, 0, 0, 2, 2, 0, 0, 3, 0, 0, 0, 0, 0, 0, 0, 0, 0, 0, 0, 0, 0, 0, 0, 0, 0, 0, 0, 0, 4, 2, 0, 0, 0, 1, 0, 0, 0, 0, 0, 0, 0, 0, 0, 0, 0, 0, 0, 0, 0, 0, 0, 0, 3, 0, 0, 1, 1, 1, 0, 0, 3, 1, 0, 0, 0, 0, 2, 2, 0, 2, 0, 2, 1, 4, 0, 0, 0, 0, 0, 2, 0, 0, 0, 0, 1, 0, 0, 0, 1, 0, 0, 0, 0, 0, 0, 0, 0, 0, 0, 0, 0, 0, 0, 0, 0, 0, 1, 0, 6, 1, 0, 0, 0, 0, 0, 0, 0, 0, 0, 0, 0, 2, 0, 0, 1, 0, 1, 0, 1, 4, 0, 1, 0, 0, 1, 0, 0, 0, 4, 0, 0, 1, 2, 1, 0, 1, 2, 1, 0, 0, 0, 0, 0, 0, 0, 0, 0, 1, 0, 0, 0, 0, 0, 0, 0, 0, 0, 1, 0, 0, 0, 0, 0, 0, 0, 0, 0, 0, 0, 1, 0, 1, 0, 0, 0, 0, 1, 0, 0, 0, 6, 0, 2, 0, 0, 0, 0, 1, 0, 0, 0, 0, 0, 0, 1, 0, 0, 0, 0, 1, 0, 0, 0, 0, 0, 0, 0, 0, 0, 1, 0, 0, 1, 0, 1, 0, 1, 0, 0, 0, 0, 0, 0, 0, 0, 0, 0, 0, 0, 0, 0, 0, 0, 0, 0, 0, 0, 0, 0, 0, 0, 0, 0, 1, 0, 0, 0, 0, 0, 0, 0, 0, 0, 0, 2, 0, 1, 1, 0, 0, 0, 0, 0, 0, 2, 0, 0, 0, 0, 0, 0, 3, 2, 0, 0, 0, 0, 0, 0, 0, 0, 0, 0, 0, 0, 3, 0, 0, 0, 0, 0, 0, 0, 0, 0, 0, 2, 1, 1, 0, 0, 0, 0, 0, 0, 0, 0, 3, 2, 0, 0, 0, 0, 0, 3, 0, 0, 0, 0, 0, 0, 0, 0, 0, 0, 0, 0, 0, 0, 0, 0, 0, 0, 0, 0, 0, 0, 0, 2, 0, 0, 0, 0, 1, 0, 0, 2, 0, 0, 0, 0, 0, 0, 0, 0, 0, 0, 1, 0, 0, 0, 0, 0, 0, 0, 0, 0, 0, 0, 2, 0, 0, 1, 1, 0, 0, 0, 0, 4, 0, 0, 0, 0, 0, 0, 0, 0, 0, 0, 0, 0, 0, 3, 0, 0, 0, 0, 0, 0, 2, 0, 0, 1, 0, 2, 2, 2, 0, 0, 0, 0, 0, 0, 0, 0, 0, 0, 0, 0, 0, 0, 0, 0, 0, 0, 0, 0, 0, 0, 0, 0, 0, 0, 0, 0, 0, 0, 0, 0, 0, 0, 0, 0, 0, 3, 4, 0, 0, 0, 0, 1, 0, 0, 0, 0, 0, 0, 0, 0, 0, 0, 0, 0, 0, 1, 0, 0, 2, 0, 0, 0, 0, 3, 0, 2, 0, 2, 0, 0, 0, 0, 0, 0, 0, 1, 0, 0, 0, 1, 0, 0, 1, 0, 0, 3, 0, 0, 0, 4, 0, 2, 2, 0, 0, 0, 4, 5, 1, 2, 4, 0, 5, 2, 2, 5, 0, 0, 0, 2, 2, 0, 0, 0, 2, 0, 0, 1, 0, 0, 0, 2, 0, 1, 0, 2, 0, 0, 0, 0, 0, 0, 1, 0, 0, 0, 0, 0, 0, 0, 0, 0, 0, 0, 0, 0, 0, 1, 0, 0, 0, 2, 3, 0, 0, 0, 0, 0, 0, 0, 0, 1, 0, 0, 1, 0, 1, 0, 0, 0, 0, 0, 2, 0, 0, 0, 0, 0, 0, 1, 1, 0, 2, 0, 1, 0, 0, 0, 0, 0, 0, 1, 0, 0, 1, 0, 0, 0, 0, 0, 0, 4, 0, 0, 0, 2, 0, 0, 0, 0, 0, 1, 0, 0, 0, 0, 0, 0, 0, 0, 0, 3, 0, 1, 0, 0, 0, 0, 0, 0, 0, 1, 0, 0, 0, 2, 1, 0, 0, 0, 2, 0, 0, 0, 0, 0, 0, 3, 0, 0, 0, 0, 0, 0, 0, 0, 1, 0, 0, 0, 0, 1, 0, 0, 0, 0, 0, 0, 0, 0, 4, 1, 0, 0, 0, 0, 0, 0, 0, 0, 0, 0, 0, 0, 0, 0, 0, 0, 2, 0, 0, 1, 0, 0, 0, 1, 0, 0, 0, 0, 0, 1, 0, 0, 0, 0, 0, 0, 0, 0, 0, 0, 0, 0, 0, 0, 0, 2, 0, 0, 0, 0, 0, 0, 0, 0, 0, 0, 0, 0, 0, 0, 0, 0, 0, 0, 0, 0, 0, 0, 0, 0, 0, 0, 0, 0, 1, 0, 2, 0, 0, 0, 2, 0, 0, 0, 0, 1, 1, 0, 0, 1, 0, 0, 0, 0, 5, 0, 0, 0, 1, 0, 0, 0, 2, 0, 0, 0, 0, 0, 1, 5, 0, 0, 0, 0, 0, 1, 0, 0, 0, 0, 4, 0, 0, 0, 0, 1, 0, 0, 2, 0, 0, 0, 0, 0, 1, 1, 0, 2, 1, 3, 0, 0, 0, 0, 0, 0, 0, 2, 2, 0, 0, 0, 0, 0, 2, 0, 0, 0, 0, 2, 0, 0, 0, 0, 0, 0, 1, 0, 0, 0, 0, 1, 0, 0, 0, 0, 0, 0, 0, 0, 3, 0, 1, 0, 0, 0, 0, 2, 0, 0, 0, 0, 0, 0, 0, 0, 0, 0, 1, 0, 0, 0, 2, 0, 0, 1, 0, 0, 0, 0, 0, 0, 0, 0, 0, 0, 1, 0, 0, 0, 0, 0, 0, 0, 0, 0, 0, 0, 2, 1, 0, 0, 0, 0, 0, 0, 0, 0, 0, 1, 0, 0, 1, 0, 3, 0, 0, 2, 0, 2, 0, 0, 0, 0, 0, 0, 0, 4, 0, 1, 1, 0, 0, 0, 0, 0, 0, 0, 1, 0, 0, 0, 1, 0, 0, 0, 0, 0, 0, 0, 0, 0, 2, 0, 0, 0, 0, 1, 0, 0, 0, 0, 0, 0, 0, 0, 0, 1, 0, 0, 0, 0, 0, 0, 0, 0, 0, 1, 0, 0, 0, 0, 0, 0, 0, 0, 0, 0, 0, 0, 2, 0, 1, 0, 0, 0, 0, 0, 0, 1, 0, 0, 0, 0, 0, 0, 0, 0, 0, 0, 0, 0, 0, 0, 0, 2, 0, 0, 3, 0, 1, 0, 3, 0, 0, 0, 0, 0, 0, 0, 6, 0, 0, 0, 0, 0, 0, 1, 0, 2, 0, 0, 0, 1, 0, 0, 1, 0, 5, 1, 0, 2, 0, 0, 0, 0, 5, 0, 0, 0, 1, 0, 1, 0, 2, 0, 0, 1, 0, 0, 0, 2, 1, 0, 0, 0, 0, 0, 0, 1, 0, 0, 0, 0, 0, 0, 0, 0, 0, 0, 0, 0, 0, 0, 0, 0, 0, 0, 0, 0, 0, 0, 0, 0, 0, 0, 3, 3, 3, 3, 3, 3, 3, 0, 3, 3, 0, 3, 3, 3, 0, 1, 0, 0, 0, 0, 0, 0, 0, 0, 0, 0, 0, 0, 0, 0, 0, 0, 0, 0, 3, 0, 0, 0, 0, 3, 7, 0, 0, 1, 0, 0, 0, 0, 0, 0, 0, 0, 0, 0, 0, 0, 0, 0, 0, 0, 0, 0, 3, 0, 0, 0, 0, 0, 0, 2, 0, 0, 0, 0, 0, 0, 1, 0, 0, 1, 0, 0, 0, 0, 0, 0, 0, 3, 0, 0, 0, 0, 0, 0, 0, 0, 2, 0, 0, 0, 0, 1, 3, 0, 0, 2, 0, 0, 1, 0, 0, 3, 0, 0, 1, 0, 0, 0, 1, 0, 0, 0, 0, 0, 0, 0, 0, 0, 0, 0, 0, 0, 0, 0, 0, 1, 0, 0, 0, 1, 1, 1, 0, 0, 0, 0, 0, 2, 0, 0, 0, 0, 0, 0, 0, 0, 0, 0, 0, 0, 2, 1, 0, 0, 0, 0, 1, 0, 0, 0, 0, 0, 2, 1, 0, 0, 0, 0, 0, 0, 0, 1, 1, 0, 0, 0, 0, 0, 0, 0, 0, 1, 0, 0, 1, 0, 0, 0, 0, 0, 1, 5, 0, 0, 0, 0, 1, 0, 1, 1, 0, 0, 0, 0, 1, 1, 0, 0, 0, 0, 0, 0, 0, 0, 0, 1, 0, 0, 0, 0, 0, 0, 0, 1, 0, 0, 0, 1, 0, 0, 0, 0, 0, 0, 0, 0, 0, 0, 0, 0, 0, 0, 0, 1, 0, 0, 0, 0, 0, 0, 0, 0, 0, 0, 0, 0, 0, 0, 0, 2, 0, 0, 0, 0, 1, 0, 0, 0, 0, 1, 0, 0, 0, 5, 0, 5, 1, 0, 0, 1, 1, 0, 1, 0, 2, 5, 0, 0, 1, 1, 0, 0, 5, 0, 0, 1, 0, 0, 0, 0, 0, 0, 0, 0, 1, 0, 3, 0, 1, 0, 0, 0, 0, 0, 0, 1, 0, 1, 0, 0, 1, 0, 0, 1, 1, 0, 3, 0, 3, 3, 0, 0, 1, 3, 0, 0, 0, 1, 3, 0, 6, 0, 0, 0, 1, 0, 0, 0, 0, 0, 1, 0, 0, 1, 1, 2, 2, 0, 0, 1, 1, 1, 0, 0, 0, 0, 0, 1, 1, 0, 0, 2, 1, 0, 0, 0, 0, 0, 0, 0, 0, 0, 0, 0, 1, 0, 0, 0, 0, 0, 0, 3, 0, 1, 4, 0, 0, 2, 0, 0, 0, 0, 0, 1, 0, 0, 0, 1, 0, 0, 1, 0, 0, 0, 0, 0, 0, 4, 2, 1, 0, 1, 0, 0, 1, 0, 0, 0, 5, 0, 0, 0, 0, 0, 0, 2, 0, 0, 0, 0, 0, 0, 0, 0, 0, 0, 0, 0, 0, 2, 0, 0, 0, 1, 0, 1, 0, 0, 0, 0, 0, 0, 1, 0, 0, 0, 0, 0, 0, 0, 0, 0, 2, 0, 3, 0, 0, 0, 0, 0, 1, 0, 0, 0, 0, 0, 0, 0, 0, 6, 0, 0, 0, 0, 0, 0, 0, 0, 0, 0, 0, 0, 1, 0, 1, 0, 0, 0, 0, 0, 0, 1, 0, 0, 1, 0, 6, 0, 0, 0, 0, 0, 1, 0, 0, 0, 0, 0, 0, 1, 0, 1, 0, 0, 0, 0, 0, 0, 0, 1, 0, 0, 0, 0, 0, 0, 0, 0, 0, 1, 0, 4, 0, 0, 0, 0, 0, 0, 0, 0, 0, 0, 0, 0, 0, 0, 0, 1, 0, 0, 0, 0, 0, 0, 0, 0, 1, 0, 0, 0, 0, 0, 0, 0, 0, 0, 0, 0, 0, 0, 0, 0, 0, 0, 0, 1, 3, 2, 0, 0, 0, 0, 0, 1, 3, 0, 0, 3, 0, 0, 0, 0, 3, 0, 0, 0, 0, 0, 0, 2, 0, 2, 0, 0, 1, 0, 4, 0, 0, 0, 0, 0, 0, 0, 0, 0, 0, 0, 0, 3, 3, 0, 0, 0, 0, 0, 0, 0, 0, 0, 0, 3, 0, 0, 0, 0, 0, 3, 0, 0, 6, 3, 1, 0, 1, 2, 0, 0, 1, 0, 0, 0, 0, 0, 0, 0, 0, 0, 0, 0, 0, 0, 0, 2, 0, 0, 0, 0, 2, 0, 4, 2, 0, 0, 0, 0, 1, 1, 1, 1, 1, 1, 1, 0, 1, 1, 0, 0, 0, 0, 1, 0, 1, 0, 1, 9, 0, 1, 2, 0, 0, 0, 0, 0, 0, 2, 0, 0, 0, 0, 0, 1, 0, 0, 1, 0, 2, 1, 0, 0, 0, 0, 0, 0, 3, 2, 0, 0, 0, 0, 0, 0, 0, 0, 0, 0, 0, 0, 0, 0, 2, 1, 0, 1, 0, 1, 0, 0, 0, 0, 0, 0, 0, 4, 0, 0, 0, 0, 0, 1, 1, 0, 0, 0, 3, 0, 0, 0, 0, 0, 0, 1, 0, 0, 0, 1, 0, 0, 2, 0, 0, 0, 0, 1, 0, 0, 0, 0, 0, 1, 0, 0, 0, 0, 0, 0, 0, 0, 0, 0, 0, 0, 0, 0, 0, 0, 0, 0, 0, 0, 0, 0, 0, 0, 0, 0, 0, 0, 0, 0, 0, 0, 0, 0, 0, 0, 0, 0, 0, 0, 0, 0, 0, 1, 0, 0, 0, 0, 1, 0, 0, 1, 0, 0, 0, 0, 0, 0, 0, 0, 0, 0, 0, 0, 0, 0, 0, 0, 0, 0, 0, 0, 0, 0, 0, 1, 0, 0, 3, 0, 0, 0, 0, 0, 0, 0, 0, 0, 0, 0, 0, 0, 0, 0, 0, 0, 0, 0, 0, 0, 0, 0, 0, 0, 0, 0, 0, 0, 0, 0, 0, 1, 0, 0, 0, 0, 0, 0, 0, 0, 0, 0, 0, 4, 2, 0, 0, 0, 0, 2, 4, 0, 0, 0, 0, 0, 0, 0, 0, 0, 0, 1, 0, 2, 0, 1, 0, 0, 0, 0, 0, 0, 0, 1, 1, 0, 0, 0, 0, 0, 0, 0, 0, 0, 0, 0, 2, 1, 0, 2, 0, 0, 0, 0, 0, 0, 0, 0, 0, 0, 0, 0, 0, 1, 0, 0, 0, 0, 0, 0, 0, 0, 1, 1, 0, 0, 0, 0, 0, 0, 0, 1, 0, 0, 0, 0, 0, 0, 0, 0, 0, 0, 0, 0, 0, 0, 0, 0, 0, 0, 0, 0, 0, 0, 1, 0, 0, 0, 1, 0, 0, 2, 0, 0, 2, 0, 0, 0, 0, 0, 0, 0, 0, 0, 0, 0, 0, 0, 0, 0, 0, 0, 0, 0, 0, 0, 0, 0, 0, 0, 0, 0, 0, 0, 0, 0, 0, 0, 0, 0, 2, 0, 0, 0, 0, 0, 0, 3, 1, 0, 0, 0, 1, 9, 0, 1, 0, 2, 0, 0, 0, 0, 0, 1, 0, 0, 0, 0, 0, 0, 0, 0, 0, 0, 0, 0, 0, 0, 0, 2, 0, 0, 0, 0, 0, 0, 0, 0, 0, 0, 0, 0, 0, 0, 0, 0, 1, 0, 0, 0, 0, 0, 0, 0, 0, 0, 0, 0, 2, 0, 0, 0, 0, 0, 0, 0, 0, 0, 0, 0, 0, 0, 0, 0, 0, 0, 0, 0, 0, 0, 0, 0, 0, 0, 0, 1, 0, 0, 0, 0, 0, 0, 0, 0, 0, 0, 0, 1, 0, 0, 0, 0, 0, 0, 0, 0, 8, 1, 0, 0, 0, 0, 3, 0, 0, 0, 0, 2, 0, 0, 0, 0, 0, 0, 0, 4, 0, 0, 2, 0, 0, 0, 0, 0, 0, 0, 1, 0, 0, 0, 1, 0, 0, 0, 2, 0, 0, 0, 0, 0, 0, 0, 0, 0, 1, 0, 3, 0, 0, 10, 10, 0, 0, 0, 1, 1, 0, 10, 3, 0, 0, 0, 1, 0, 1, 0, 2, 3, 0, 0, 0, 0, 2, 1, 0, 0, 0, 0, 0, 0, 2, 0, 0, 1, 0, 0, 0, 2, 0, 0, 0, 4, 0, 0, 0, 0, 0, 3, 4, 0, 0, 0, 0, 0, 0, 0, 1, 0, 0, 0, 0, 0, 2, 0, 0, 0, 0, 0, 0, 0, 0, 0, 0, 0, 0, 0, 0, 0, 0, 0, 0, 0, 0, 0, 0, 1, 0, 0, 0, 0, 0, 0, 0, 0, 0, 0, 0, 0, 0, 2, 0, 0, 1, 2, 0, 0, 0, 0, 0, 3, 2, 0, 0, 0, 0, 0, 0, 0, 0, 1, 0, 0, 1, 0, 0, 5, 0, 0, 0, 2, 0, 0, 1, 0, 1, 1, 0, 0, 0, 1, 0, 0, 1, 0, 0, 0, 0, 0, 0, 1, 0, 0, 0, 3, 0, 0, 0, 0, 0, 0, 0, 0, 0, 0, 0, 0, 0, 0, 1, 0, 0, 2, 0, 0, 0, 0, 0, 0, 1, 0, 0, 0, 0, 0, 0, 0, 0, 0, 0, 0, 0, 0, 0, 0, 0, 0, 0, 1, 0, 0, 2, 3, 0, 0, 3, 0, 0, 1, 0, 0, 0, 0, 0, 0, 0, 0, 1, 0, 0, 0, 0, 1, 0, 0, 0, 0, 0, 0, 0, 0, 0, 0, 2, 0, 0, 1, 0, 0, 0, 0, 0, 0, 0, 0, 0, 0, 0, 0, 0, 0, 1, 0, 0, 0, 0, 0, 0, 0, 0, 0, 1, 1, 4, 0, 3, 0, 0, 0, 0, 0, 0, 0, 0, 1, 0, 0, 0, 0, 0, 0, 0, 0, 0, 0, 0, 2, 0, 0, 0, 0, 0, 0, 0, 0, 0, 1, 0, 1, 0, 0, 0, 0, 0, 1, 0, 0, 0, 0, 0, 0, 1, 0, 0, 0, 0, 0, 0, 0, 0, 1, 0, 0, 0, 0, 0, 0, 0, 0, 0, 0, 0, 0, 0, 0, 2, 0, 1, 0, 0, 0, 2, 0, 0, 0, 0, 0, 1, 0, 1, 1, 0, 0, 0, 1, 1, 0, 0, 4, 3, 2, 0, 0, 0, 1, 0, 1, 0, 0, 0, 0, 0, 0, 0, 0, 0, 0, 0, 0, 0, 1, 1, 0, 2, 0, 0, 0, 1, 0, 2, 0, 0, 2, 0, 0, 0, 0, 1, 0, 0, 0, 1, 3, 1, 0, 0, 2, 3, 2, 0, 0, 0, 0, 2, 0, 0, 0, 0, 1, 1, 0, 0, 0, 3, 0, 1, 1, 4, 0, 0, 0, 0, 0, 0, 0, 0, 0, 0, 0, 0, 3, 0, 0, 0, 0, 0, 0, 0, 0, 0, 0, 1, 0, 1, 0, 1, 0, 0, 1, 0, 0, 0, 0, 0, 0, 1, 0, 0, 0, 6, 1, 0, 0, 0, 0, 0, 0, 0, 0, 1, 0, 1, 0, 0, 0, 0, 0, 0, 0, 0, 0, 0, 0, 0, 0, 1, 0, 3, 2, 0, 0, 0, 1, 0, 0, 0, 0, 0, 0, 0, 0, 0, 0, 2, 0, 0, 0, 0, 0, 1, 0, 0, 3, 0, 0], \"xaxis\": \"x2\", \"yaxis\": \"y2\"}],\n",
              "                        {\"barmode\": \"relative\", \"legend\": {\"tracegroupgap\": 0}, \"template\": {\"data\": {\"bar\": [{\"error_x\": {\"color\": \"#2a3f5f\"}, \"error_y\": {\"color\": \"#2a3f5f\"}, \"marker\": {\"line\": {\"color\": \"#E5ECF6\", \"width\": 0.5}}, \"type\": \"bar\"}], \"barpolar\": [{\"marker\": {\"line\": {\"color\": \"#E5ECF6\", \"width\": 0.5}}, \"type\": \"barpolar\"}], \"carpet\": [{\"aaxis\": {\"endlinecolor\": \"#2a3f5f\", \"gridcolor\": \"white\", \"linecolor\": \"white\", \"minorgridcolor\": \"white\", \"startlinecolor\": \"#2a3f5f\"}, \"baxis\": {\"endlinecolor\": \"#2a3f5f\", \"gridcolor\": \"white\", \"linecolor\": \"white\", \"minorgridcolor\": \"white\", \"startlinecolor\": \"#2a3f5f\"}, \"type\": \"carpet\"}], \"choropleth\": [{\"colorbar\": {\"outlinewidth\": 0, \"ticks\": \"\"}, \"type\": \"choropleth\"}], \"contour\": [{\"colorbar\": {\"outlinewidth\": 0, \"ticks\": \"\"}, \"colorscale\": [[0.0, \"#0d0887\"], [0.1111111111111111, \"#46039f\"], [0.2222222222222222, \"#7201a8\"], [0.3333333333333333, \"#9c179e\"], [0.4444444444444444, \"#bd3786\"], [0.5555555555555556, \"#d8576b\"], [0.6666666666666666, \"#ed7953\"], [0.7777777777777778, \"#fb9f3a\"], [0.8888888888888888, \"#fdca26\"], [1.0, \"#f0f921\"]], \"type\": \"contour\"}], \"contourcarpet\": [{\"colorbar\": {\"outlinewidth\": 0, \"ticks\": \"\"}, \"type\": \"contourcarpet\"}], \"heatmap\": [{\"colorbar\": {\"outlinewidth\": 0, \"ticks\": \"\"}, \"colorscale\": [[0.0, \"#0d0887\"], [0.1111111111111111, \"#46039f\"], [0.2222222222222222, \"#7201a8\"], [0.3333333333333333, \"#9c179e\"], [0.4444444444444444, \"#bd3786\"], [0.5555555555555556, \"#d8576b\"], [0.6666666666666666, \"#ed7953\"], [0.7777777777777778, \"#fb9f3a\"], [0.8888888888888888, \"#fdca26\"], [1.0, \"#f0f921\"]], \"type\": \"heatmap\"}], \"heatmapgl\": [{\"colorbar\": {\"outlinewidth\": 0, \"ticks\": \"\"}, \"colorscale\": [[0.0, \"#0d0887\"], [0.1111111111111111, \"#46039f\"], [0.2222222222222222, \"#7201a8\"], [0.3333333333333333, \"#9c179e\"], [0.4444444444444444, \"#bd3786\"], [0.5555555555555556, \"#d8576b\"], [0.6666666666666666, \"#ed7953\"], [0.7777777777777778, \"#fb9f3a\"], [0.8888888888888888, \"#fdca26\"], [1.0, \"#f0f921\"]], \"type\": \"heatmapgl\"}], \"histogram\": [{\"marker\": {\"colorbar\": {\"outlinewidth\": 0, \"ticks\": \"\"}}, \"type\": \"histogram\"}], \"histogram2d\": [{\"colorbar\": {\"outlinewidth\": 0, \"ticks\": \"\"}, \"colorscale\": [[0.0, \"#0d0887\"], [0.1111111111111111, \"#46039f\"], [0.2222222222222222, \"#7201a8\"], [0.3333333333333333, \"#9c179e\"], [0.4444444444444444, \"#bd3786\"], [0.5555555555555556, \"#d8576b\"], [0.6666666666666666, \"#ed7953\"], [0.7777777777777778, \"#fb9f3a\"], [0.8888888888888888, \"#fdca26\"], [1.0, \"#f0f921\"]], \"type\": \"histogram2d\"}], \"histogram2dcontour\": [{\"colorbar\": {\"outlinewidth\": 0, \"ticks\": \"\"}, \"colorscale\": [[0.0, \"#0d0887\"], [0.1111111111111111, \"#46039f\"], [0.2222222222222222, \"#7201a8\"], [0.3333333333333333, \"#9c179e\"], [0.4444444444444444, \"#bd3786\"], [0.5555555555555556, \"#d8576b\"], [0.6666666666666666, \"#ed7953\"], [0.7777777777777778, \"#fb9f3a\"], [0.8888888888888888, \"#fdca26\"], [1.0, \"#f0f921\"]], \"type\": \"histogram2dcontour\"}], \"mesh3d\": [{\"colorbar\": {\"outlinewidth\": 0, \"ticks\": \"\"}, \"type\": \"mesh3d\"}], \"parcoords\": [{\"line\": {\"colorbar\": {\"outlinewidth\": 0, \"ticks\": \"\"}}, \"type\": \"parcoords\"}], \"pie\": [{\"automargin\": true, \"type\": \"pie\"}], \"scatter\": [{\"marker\": {\"colorbar\": {\"outlinewidth\": 0, \"ticks\": \"\"}}, \"type\": \"scatter\"}], \"scatter3d\": [{\"line\": {\"colorbar\": {\"outlinewidth\": 0, \"ticks\": \"\"}}, \"marker\": {\"colorbar\": {\"outlinewidth\": 0, \"ticks\": \"\"}}, \"type\": \"scatter3d\"}], \"scattercarpet\": [{\"marker\": {\"colorbar\": {\"outlinewidth\": 0, \"ticks\": \"\"}}, \"type\": \"scattercarpet\"}], \"scattergeo\": [{\"marker\": {\"colorbar\": {\"outlinewidth\": 0, \"ticks\": \"\"}}, \"type\": \"scattergeo\"}], \"scattergl\": [{\"marker\": {\"colorbar\": {\"outlinewidth\": 0, \"ticks\": \"\"}}, \"type\": \"scattergl\"}], \"scattermapbox\": [{\"marker\": {\"colorbar\": {\"outlinewidth\": 0, \"ticks\": \"\"}}, \"type\": \"scattermapbox\"}], \"scatterpolar\": [{\"marker\": {\"colorbar\": {\"outlinewidth\": 0, \"ticks\": \"\"}}, \"type\": \"scatterpolar\"}], \"scatterpolargl\": [{\"marker\": {\"colorbar\": {\"outlinewidth\": 0, \"ticks\": \"\"}}, \"type\": \"scatterpolargl\"}], \"scatterternary\": [{\"marker\": {\"colorbar\": {\"outlinewidth\": 0, \"ticks\": \"\"}}, \"type\": \"scatterternary\"}], \"surface\": [{\"colorbar\": {\"outlinewidth\": 0, \"ticks\": \"\"}, \"colorscale\": [[0.0, \"#0d0887\"], [0.1111111111111111, \"#46039f\"], [0.2222222222222222, \"#7201a8\"], [0.3333333333333333, \"#9c179e\"], [0.4444444444444444, \"#bd3786\"], [0.5555555555555556, \"#d8576b\"], [0.6666666666666666, \"#ed7953\"], [0.7777777777777778, \"#fb9f3a\"], [0.8888888888888888, \"#fdca26\"], [1.0, \"#f0f921\"]], \"type\": \"surface\"}], \"table\": [{\"cells\": {\"fill\": {\"color\": \"#EBF0F8\"}, \"line\": {\"color\": \"white\"}}, \"header\": {\"fill\": {\"color\": \"#C8D4E3\"}, \"line\": {\"color\": \"white\"}}, \"type\": \"table\"}]}, \"layout\": {\"annotationdefaults\": {\"arrowcolor\": \"#2a3f5f\", \"arrowhead\": 0, \"arrowwidth\": 1}, \"coloraxis\": {\"colorbar\": {\"outlinewidth\": 0, \"ticks\": \"\"}}, \"colorscale\": {\"diverging\": [[0, \"#8e0152\"], [0.1, \"#c51b7d\"], [0.2, \"#de77ae\"], [0.3, \"#f1b6da\"], [0.4, \"#fde0ef\"], [0.5, \"#f7f7f7\"], [0.6, \"#e6f5d0\"], [0.7, \"#b8e186\"], [0.8, \"#7fbc41\"], [0.9, \"#4d9221\"], [1, \"#276419\"]], \"sequential\": [[0.0, \"#0d0887\"], [0.1111111111111111, \"#46039f\"], [0.2222222222222222, \"#7201a8\"], [0.3333333333333333, \"#9c179e\"], [0.4444444444444444, \"#bd3786\"], [0.5555555555555556, \"#d8576b\"], [0.6666666666666666, \"#ed7953\"], [0.7777777777777778, \"#fb9f3a\"], [0.8888888888888888, \"#fdca26\"], [1.0, \"#f0f921\"]], \"sequentialminus\": [[0.0, \"#0d0887\"], [0.1111111111111111, \"#46039f\"], [0.2222222222222222, \"#7201a8\"], [0.3333333333333333, \"#9c179e\"], [0.4444444444444444, \"#bd3786\"], [0.5555555555555556, \"#d8576b\"], [0.6666666666666666, \"#ed7953\"], [0.7777777777777778, \"#fb9f3a\"], [0.8888888888888888, \"#fdca26\"], [1.0, \"#f0f921\"]]}, \"colorway\": [\"#636efa\", \"#EF553B\", \"#00cc96\", \"#ab63fa\", \"#FFA15A\", \"#19d3f3\", \"#FF6692\", \"#B6E880\", \"#FF97FF\", \"#FECB52\"], \"font\": {\"color\": \"#2a3f5f\"}, \"geo\": {\"bgcolor\": \"white\", \"lakecolor\": \"white\", \"landcolor\": \"#E5ECF6\", \"showlakes\": true, \"showland\": true, \"subunitcolor\": \"white\"}, \"hoverlabel\": {\"align\": \"left\"}, \"hovermode\": \"closest\", \"mapbox\": {\"style\": \"light\"}, \"paper_bgcolor\": \"white\", \"plot_bgcolor\": \"#E5ECF6\", \"polar\": {\"angularaxis\": {\"gridcolor\": \"white\", \"linecolor\": \"white\", \"ticks\": \"\"}, \"bgcolor\": \"#E5ECF6\", \"radialaxis\": {\"gridcolor\": \"white\", \"linecolor\": \"white\", \"ticks\": \"\"}}, \"scene\": {\"xaxis\": {\"backgroundcolor\": \"#E5ECF6\", \"gridcolor\": \"white\", \"gridwidth\": 2, \"linecolor\": \"white\", \"showbackground\": true, \"ticks\": \"\", \"zerolinecolor\": \"white\"}, \"yaxis\": {\"backgroundcolor\": \"#E5ECF6\", \"gridcolor\": \"white\", \"gridwidth\": 2, \"linecolor\": \"white\", \"showbackground\": true, \"ticks\": \"\", \"zerolinecolor\": \"white\"}, \"zaxis\": {\"backgroundcolor\": \"#E5ECF6\", \"gridcolor\": \"white\", \"gridwidth\": 2, \"linecolor\": \"white\", \"showbackground\": true, \"ticks\": \"\", \"zerolinecolor\": \"white\"}}, \"shapedefaults\": {\"line\": {\"color\": \"#2a3f5f\"}}, \"ternary\": {\"aaxis\": {\"gridcolor\": \"white\", \"linecolor\": \"white\", \"ticks\": \"\"}, \"baxis\": {\"gridcolor\": \"white\", \"linecolor\": \"white\", \"ticks\": \"\"}, \"bgcolor\": \"#E5ECF6\", \"caxis\": {\"gridcolor\": \"white\", \"linecolor\": \"white\", \"ticks\": \"\"}}, \"title\": {\"x\": 0.05}, \"xaxis\": {\"automargin\": true, \"gridcolor\": \"white\", \"linecolor\": \"white\", \"ticks\": \"\", \"title\": {\"standoff\": 15}, \"zerolinecolor\": \"white\", \"zerolinewidth\": 2}, \"yaxis\": {\"automargin\": true, \"gridcolor\": \"white\", \"linecolor\": \"white\", \"ticks\": \"\", \"title\": {\"standoff\": 15}, \"zerolinecolor\": \"white\", \"zerolinewidth\": 2}}}, \"title\": {\"text\": \"Distiribtion of number of character\"}, \"xaxis\": {\"anchor\": \"y\", \"domain\": [0.0, 1.0], \"title\": {\"text\": \"hastags\"}}, \"xaxis2\": {\"anchor\": \"y2\", \"domain\": [0.0, 1.0], \"matches\": \"x\", \"showgrid\": true, \"showticklabels\": false}, \"yaxis\": {\"anchor\": \"x\", \"domain\": [0.0, 0.7326], \"title\": {\"text\": \"count\"}}, \"yaxis2\": {\"anchor\": \"x2\", \"domain\": [0.7426, 1.0], \"matches\": \"y2\", \"showgrid\": false, \"showline\": false, \"showticklabels\": false, \"ticks\": \"\"}},\n",
              "                        {\"responsive\": true}\n",
              "                    ).then(function(){\n",
              "                            \n",
              "var gd = document.getElementById('b12dc9c1-ec5a-4e46-aad5-c5ef2dc88f55');\n",
              "var x = new MutationObserver(function (mutations, observer) {{\n",
              "        var display = window.getComputedStyle(gd).display;\n",
              "        if (!display || display === 'none') {{\n",
              "            console.log([gd, 'removed!']);\n",
              "            Plotly.purge(gd);\n",
              "            observer.disconnect();\n",
              "        }}\n",
              "}});\n",
              "\n",
              "// Listen for the removal of the full notebook cells\n",
              "var notebookContainer = gd.closest('#notebook-container');\n",
              "if (notebookContainer) {{\n",
              "    x.observe(notebookContainer, {childList: true});\n",
              "}}\n",
              "\n",
              "// Listen for the clearing of the current output cell\n",
              "var outputEl = gd.closest('.output');\n",
              "if (outputEl) {{\n",
              "    x.observe(outputEl, {childList: true});\n",
              "}}\n",
              "\n",
              "                        })\n",
              "                };\n",
              "                \n",
              "            </script>\n",
              "        </div>\n",
              "</body>\n",
              "</html>"
            ]
          },
          "metadata": {
            "tags": []
          }
        }
      ]
    }
  ]
}